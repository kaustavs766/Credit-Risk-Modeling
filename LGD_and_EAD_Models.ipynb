{
  "nbformat": 4,
  "nbformat_minor": 0,
  "metadata": {
    "colab": {
      "name": "LGD and EAD Models.ipynb",
      "provenance": [],
      "collapsed_sections": [
        "JQTbwtuJoJSp",
        "xsPx0i94oV7D",
        "EVf0avyep08H",
        "rKg35Jx6quNG",
        "JZurOlesxs8B",
        "Xj90uBiN9lGI",
        "CHKiZW7IWGKt",
        "ZXuhnCf-ZkTi"
      ],
      "toc_visible": true
    },
    "kernelspec": {
      "name": "python3",
      "display_name": "Python 3"
    },
    "language_info": {
      "name": "python"
    }
  },
  "cells": [
    {
      "cell_type": "code",
      "metadata": {
        "id": "dX7VjzdjvsuL",
        "colab": {
          "base_uri": "https://localhost:8080/"
        },
        "outputId": "ec69247f-9222-4f72-c8a7-853b35692c87"
      },
      "source": [
        "from google.colab import drive\n",
        "drive.mount('/content/drive')"
      ],
      "execution_count": 2,
      "outputs": [
        {
          "output_type": "stream",
          "text": [
            "Drive already mounted at /content/drive; to attempt to forcibly remount, call drive.mount(\"/content/drive\", force_remount=True).\n"
          ],
          "name": "stdout"
        }
      ]
    },
    {
      "cell_type": "markdown",
      "metadata": {
        "id": "JQTbwtuJoJSp"
      },
      "source": [
        "### Import Libraries"
      ]
    },
    {
      "cell_type": "code",
      "metadata": {
        "id": "NygoKNtdoQ4d"
      },
      "source": [
        "import numpy as np\n",
        "import pandas as pd\n",
        "import matplotlib.pyplot as plt\n",
        "import seaborn as sns\n",
        "sns.set()"
      ],
      "execution_count": 3,
      "outputs": []
    },
    {
      "cell_type": "markdown",
      "metadata": {
        "id": "xsPx0i94oV7D"
      },
      "source": [
        "### Import Data"
      ]
    },
    {
      "cell_type": "code",
      "metadata": {
        "colab": {
          "base_uri": "https://localhost:8080/"
        },
        "id": "X2l5vYqXoUEL",
        "outputId": "df051aaa-9785-44db-ff6f-d90454b006b0"
      },
      "source": [
        "loan_data_preprocessed_backup = pd.read_csv('/content/drive/MyDrive/loan_data_2007_2014_preprocessed.csv')"
      ],
      "execution_count": 4,
      "outputs": [
        {
          "output_type": "stream",
          "text": [
            "/usr/local/lib/python3.7/dist-packages/IPython/core/interactiveshell.py:2718: DtypeWarning: Columns (21,49) have mixed types.Specify dtype option on import or set low_memory=False.\n",
            "  interactivity=interactivity, compiler=compiler, result=result)\n"
          ],
          "name": "stderr"
        }
      ]
    },
    {
      "cell_type": "markdown",
      "metadata": {
        "id": "EVf0avyep08H"
      },
      "source": [
        "### Explore Data"
      ]
    },
    {
      "cell_type": "code",
      "metadata": {
        "id": "ENuEylX7pyKu"
      },
      "source": [
        "loan_data_preprocessed = loan_data_preprocessed_backup.copy()"
      ],
      "execution_count": 5,
      "outputs": []
    },
    {
      "cell_type": "code",
      "metadata": {
        "colab": {
          "base_uri": "https://localhost:8080/"
        },
        "id": "qr_Cpwshp8aa",
        "outputId": "8314e507-22b8-4c28-bfe3-39ebf1b63b69"
      },
      "source": [
        "loan_data_preprocessed.columns.values\n",
        "# Displays all column names."
      ],
      "execution_count": 6,
      "outputs": [
        {
          "output_type": "execute_result",
          "data": {
            "text/plain": [
              "array(['Unnamed: 0', 'Unnamed: 0.1', 'id', 'member_id', 'loan_amnt',\n",
              "       'funded_amnt', 'funded_amnt_inv', 'term', 'int_rate',\n",
              "       'installment', 'grade', 'sub_grade', 'emp_title', 'emp_length',\n",
              "       'home_ownership', 'annual_inc', 'verification_status', 'issue_d',\n",
              "       'loan_status', 'pymnt_plan', 'url', 'desc', 'purpose', 'title',\n",
              "       'zip_code', 'addr_state', 'dti', 'delinq_2yrs', 'earliest_cr_line',\n",
              "       'inq_last_6mths', 'mths_since_last_delinq',\n",
              "       'mths_since_last_record', 'open_acc', 'pub_rec', 'revol_bal',\n",
              "       'revol_util', 'total_acc', 'initial_list_status', 'out_prncp',\n",
              "       'out_prncp_inv', 'total_pymnt', 'total_pymnt_inv',\n",
              "       'total_rec_prncp', 'total_rec_int', 'total_rec_late_fee',\n",
              "       'recoveries', 'collection_recovery_fee', 'last_pymnt_d',\n",
              "       'last_pymnt_amnt', 'next_pymnt_d', 'last_credit_pull_d',\n",
              "       'collections_12_mths_ex_med', 'mths_since_last_major_derog',\n",
              "       'policy_code', 'application_type', 'annual_inc_joint', 'dti_joint',\n",
              "       'verification_status_joint', 'acc_now_delinq', 'tot_coll_amt',\n",
              "       'tot_cur_bal', 'open_acc_6m', 'open_il_6m', 'open_il_12m',\n",
              "       'open_il_24m', 'mths_since_rcnt_il', 'total_bal_il', 'il_util',\n",
              "       'open_rv_12m', 'open_rv_24m', 'max_bal_bc', 'all_util',\n",
              "       'total_rev_hi_lim', 'inq_fi', 'total_cu_tl', 'inq_last_12m',\n",
              "       'emp_length_int', 'earliest_cr_line_date',\n",
              "       'mths_since_earliest_cr_line', 'term_int', 'issue_d_date',\n",
              "       'mths_since_issue_d', 'grade:A', 'grade:B', 'grade:C', 'grade:D',\n",
              "       'grade:E', 'grade:F', 'grade:G', 'sub_grade:A1', 'sub_grade:A2',\n",
              "       'sub_grade:A3', 'sub_grade:A4', 'sub_grade:A5', 'sub_grade:B1',\n",
              "       'sub_grade:B2', 'sub_grade:B3', 'sub_grade:B4', 'sub_grade:B5',\n",
              "       'sub_grade:C1', 'sub_grade:C2', 'sub_grade:C3', 'sub_grade:C4',\n",
              "       'sub_grade:C5', 'sub_grade:D1', 'sub_grade:D2', 'sub_grade:D3',\n",
              "       'sub_grade:D4', 'sub_grade:D5', 'sub_grade:E1', 'sub_grade:E2',\n",
              "       'sub_grade:E3', 'sub_grade:E4', 'sub_grade:E5', 'sub_grade:F1',\n",
              "       'sub_grade:F2', 'sub_grade:F3', 'sub_grade:F4', 'sub_grade:F5',\n",
              "       'sub_grade:G1', 'sub_grade:G2', 'sub_grade:G3', 'sub_grade:G4',\n",
              "       'sub_grade:G5', 'home_ownership:ANY', 'home_ownership:MORTGAGE',\n",
              "       'home_ownership:NONE', 'home_ownership:OTHER',\n",
              "       'home_ownership:OWN', 'home_ownership:RENT',\n",
              "       'verification_status:Not Verified',\n",
              "       'verification_status:Source Verified',\n",
              "       'verification_status:Verified', 'loan_status:Charged Off',\n",
              "       'loan_status:Current', 'loan_status:Default',\n",
              "       'loan_status:Does not meet the credit policy. Status:Charged Off',\n",
              "       'loan_status:Does not meet the credit policy. Status:Fully Paid',\n",
              "       'loan_status:Fully Paid', 'loan_status:In Grace Period',\n",
              "       'loan_status:Late (16-30 days)', 'loan_status:Late (31-120 days)',\n",
              "       'purpose:car', 'purpose:credit_card', 'purpose:debt_consolidation',\n",
              "       'purpose:educational', 'purpose:home_improvement', 'purpose:house',\n",
              "       'purpose:major_purchase', 'purpose:medical', 'purpose:moving',\n",
              "       'purpose:other', 'purpose:renewable_energy',\n",
              "       'purpose:small_business', 'purpose:vacation', 'purpose:wedding',\n",
              "       'addr_state:AK', 'addr_state:AL', 'addr_state:AR', 'addr_state:AZ',\n",
              "       'addr_state:CA', 'addr_state:CO', 'addr_state:CT', 'addr_state:DC',\n",
              "       'addr_state:DE', 'addr_state:FL', 'addr_state:GA', 'addr_state:HI',\n",
              "       'addr_state:IA', 'addr_state:ID', 'addr_state:IL', 'addr_state:IN',\n",
              "       'addr_state:KS', 'addr_state:KY', 'addr_state:LA', 'addr_state:MA',\n",
              "       'addr_state:MD', 'addr_state:ME', 'addr_state:MI', 'addr_state:MN',\n",
              "       'addr_state:MO', 'addr_state:MS', 'addr_state:MT', 'addr_state:NC',\n",
              "       'addr_state:NE', 'addr_state:NH', 'addr_state:NJ', 'addr_state:NM',\n",
              "       'addr_state:NV', 'addr_state:NY', 'addr_state:OH', 'addr_state:OK',\n",
              "       'addr_state:OR', 'addr_state:PA', 'addr_state:RI', 'addr_state:SC',\n",
              "       'addr_state:SD', 'addr_state:TN', 'addr_state:TX', 'addr_state:UT',\n",
              "       'addr_state:VA', 'addr_state:VT', 'addr_state:WA', 'addr_state:WI',\n",
              "       'addr_state:WV', 'addr_state:WY', 'initial_list_status:f',\n",
              "       'initial_list_status:w', 'good_bad'], dtype=object)"
            ]
          },
          "metadata": {
            "tags": []
          },
          "execution_count": 6
        }
      ]
    },
    {
      "cell_type": "code",
      "metadata": {
        "colab": {
          "base_uri": "https://localhost:8080/",
          "height": 0
        },
        "id": "BRO1cvq6p9GK",
        "outputId": "366e2357-b0ba-4a5a-fd01-e1cdd2d2da69"
      },
      "source": [
        "loan_data_preprocessed.head()"
      ],
      "execution_count": 7,
      "outputs": [
        {
          "output_type": "execute_result",
          "data": {
            "text/html": [
              "<div>\n",
              "<style scoped>\n",
              "    .dataframe tbody tr th:only-of-type {\n",
              "        vertical-align: middle;\n",
              "    }\n",
              "\n",
              "    .dataframe tbody tr th {\n",
              "        vertical-align: top;\n",
              "    }\n",
              "\n",
              "    .dataframe thead th {\n",
              "        text-align: right;\n",
              "    }\n",
              "</style>\n",
              "<table border=\"1\" class=\"dataframe\">\n",
              "  <thead>\n",
              "    <tr style=\"text-align: right;\">\n",
              "      <th></th>\n",
              "      <th>Unnamed: 0</th>\n",
              "      <th>Unnamed: 0.1</th>\n",
              "      <th>id</th>\n",
              "      <th>member_id</th>\n",
              "      <th>loan_amnt</th>\n",
              "      <th>funded_amnt</th>\n",
              "      <th>funded_amnt_inv</th>\n",
              "      <th>term</th>\n",
              "      <th>int_rate</th>\n",
              "      <th>installment</th>\n",
              "      <th>grade</th>\n",
              "      <th>sub_grade</th>\n",
              "      <th>emp_title</th>\n",
              "      <th>emp_length</th>\n",
              "      <th>home_ownership</th>\n",
              "      <th>annual_inc</th>\n",
              "      <th>verification_status</th>\n",
              "      <th>issue_d</th>\n",
              "      <th>loan_status</th>\n",
              "      <th>pymnt_plan</th>\n",
              "      <th>url</th>\n",
              "      <th>desc</th>\n",
              "      <th>purpose</th>\n",
              "      <th>title</th>\n",
              "      <th>zip_code</th>\n",
              "      <th>addr_state</th>\n",
              "      <th>dti</th>\n",
              "      <th>delinq_2yrs</th>\n",
              "      <th>earliest_cr_line</th>\n",
              "      <th>inq_last_6mths</th>\n",
              "      <th>mths_since_last_delinq</th>\n",
              "      <th>mths_since_last_record</th>\n",
              "      <th>open_acc</th>\n",
              "      <th>pub_rec</th>\n",
              "      <th>revol_bal</th>\n",
              "      <th>revol_util</th>\n",
              "      <th>total_acc</th>\n",
              "      <th>initial_list_status</th>\n",
              "      <th>out_prncp</th>\n",
              "      <th>out_prncp_inv</th>\n",
              "      <th>...</th>\n",
              "      <th>addr_state:ID</th>\n",
              "      <th>addr_state:IL</th>\n",
              "      <th>addr_state:IN</th>\n",
              "      <th>addr_state:KS</th>\n",
              "      <th>addr_state:KY</th>\n",
              "      <th>addr_state:LA</th>\n",
              "      <th>addr_state:MA</th>\n",
              "      <th>addr_state:MD</th>\n",
              "      <th>addr_state:ME</th>\n",
              "      <th>addr_state:MI</th>\n",
              "      <th>addr_state:MN</th>\n",
              "      <th>addr_state:MO</th>\n",
              "      <th>addr_state:MS</th>\n",
              "      <th>addr_state:MT</th>\n",
              "      <th>addr_state:NC</th>\n",
              "      <th>addr_state:NE</th>\n",
              "      <th>addr_state:NH</th>\n",
              "      <th>addr_state:NJ</th>\n",
              "      <th>addr_state:NM</th>\n",
              "      <th>addr_state:NV</th>\n",
              "      <th>addr_state:NY</th>\n",
              "      <th>addr_state:OH</th>\n",
              "      <th>addr_state:OK</th>\n",
              "      <th>addr_state:OR</th>\n",
              "      <th>addr_state:PA</th>\n",
              "      <th>addr_state:RI</th>\n",
              "      <th>addr_state:SC</th>\n",
              "      <th>addr_state:SD</th>\n",
              "      <th>addr_state:TN</th>\n",
              "      <th>addr_state:TX</th>\n",
              "      <th>addr_state:UT</th>\n",
              "      <th>addr_state:VA</th>\n",
              "      <th>addr_state:VT</th>\n",
              "      <th>addr_state:WA</th>\n",
              "      <th>addr_state:WI</th>\n",
              "      <th>addr_state:WV</th>\n",
              "      <th>addr_state:WY</th>\n",
              "      <th>initial_list_status:f</th>\n",
              "      <th>initial_list_status:w</th>\n",
              "      <th>good_bad</th>\n",
              "    </tr>\n",
              "  </thead>\n",
              "  <tbody>\n",
              "    <tr>\n",
              "      <th>0</th>\n",
              "      <td>0</td>\n",
              "      <td>0</td>\n",
              "      <td>1077501</td>\n",
              "      <td>1296599</td>\n",
              "      <td>5000</td>\n",
              "      <td>5000</td>\n",
              "      <td>4975.0</td>\n",
              "      <td>36 months</td>\n",
              "      <td>10.65</td>\n",
              "      <td>162.87</td>\n",
              "      <td>B</td>\n",
              "      <td>B2</td>\n",
              "      <td>NaN</td>\n",
              "      <td>10+ years</td>\n",
              "      <td>RENT</td>\n",
              "      <td>24000.0</td>\n",
              "      <td>Verified</td>\n",
              "      <td>Dec-11</td>\n",
              "      <td>Fully Paid</td>\n",
              "      <td>n</td>\n",
              "      <td>https://www.lendingclub.com/browse/loanDetail....</td>\n",
              "      <td>Borrower added on 12/22/11 &gt; I need to upgra...</td>\n",
              "      <td>credit_card</td>\n",
              "      <td>Computer</td>\n",
              "      <td>860xx</td>\n",
              "      <td>AZ</td>\n",
              "      <td>27.65</td>\n",
              "      <td>0.0</td>\n",
              "      <td>Jan-85</td>\n",
              "      <td>1.0</td>\n",
              "      <td>NaN</td>\n",
              "      <td>NaN</td>\n",
              "      <td>3.0</td>\n",
              "      <td>0.0</td>\n",
              "      <td>13648</td>\n",
              "      <td>83.7</td>\n",
              "      <td>9.0</td>\n",
              "      <td>f</td>\n",
              "      <td>0.0</td>\n",
              "      <td>0.0</td>\n",
              "      <td>...</td>\n",
              "      <td>0</td>\n",
              "      <td>0</td>\n",
              "      <td>0</td>\n",
              "      <td>0</td>\n",
              "      <td>0</td>\n",
              "      <td>0</td>\n",
              "      <td>0</td>\n",
              "      <td>0</td>\n",
              "      <td>0</td>\n",
              "      <td>0</td>\n",
              "      <td>0</td>\n",
              "      <td>0</td>\n",
              "      <td>0</td>\n",
              "      <td>0</td>\n",
              "      <td>0</td>\n",
              "      <td>0</td>\n",
              "      <td>0</td>\n",
              "      <td>0</td>\n",
              "      <td>0</td>\n",
              "      <td>0</td>\n",
              "      <td>0</td>\n",
              "      <td>0</td>\n",
              "      <td>0</td>\n",
              "      <td>0</td>\n",
              "      <td>0</td>\n",
              "      <td>0</td>\n",
              "      <td>0</td>\n",
              "      <td>0</td>\n",
              "      <td>0</td>\n",
              "      <td>0</td>\n",
              "      <td>0</td>\n",
              "      <td>0</td>\n",
              "      <td>0</td>\n",
              "      <td>0</td>\n",
              "      <td>0</td>\n",
              "      <td>0</td>\n",
              "      <td>0</td>\n",
              "      <td>1</td>\n",
              "      <td>0</td>\n",
              "      <td>1</td>\n",
              "    </tr>\n",
              "    <tr>\n",
              "      <th>1</th>\n",
              "      <td>1</td>\n",
              "      <td>1</td>\n",
              "      <td>1077430</td>\n",
              "      <td>1314167</td>\n",
              "      <td>2500</td>\n",
              "      <td>2500</td>\n",
              "      <td>2500.0</td>\n",
              "      <td>60 months</td>\n",
              "      <td>15.27</td>\n",
              "      <td>59.83</td>\n",
              "      <td>C</td>\n",
              "      <td>C4</td>\n",
              "      <td>Ryder</td>\n",
              "      <td>&lt; 1 year</td>\n",
              "      <td>RENT</td>\n",
              "      <td>30000.0</td>\n",
              "      <td>Source Verified</td>\n",
              "      <td>Dec-11</td>\n",
              "      <td>Charged Off</td>\n",
              "      <td>n</td>\n",
              "      <td>https://www.lendingclub.com/browse/loanDetail....</td>\n",
              "      <td>Borrower added on 12/22/11 &gt; I plan to use t...</td>\n",
              "      <td>car</td>\n",
              "      <td>bike</td>\n",
              "      <td>309xx</td>\n",
              "      <td>GA</td>\n",
              "      <td>1.00</td>\n",
              "      <td>0.0</td>\n",
              "      <td>Apr-99</td>\n",
              "      <td>5.0</td>\n",
              "      <td>NaN</td>\n",
              "      <td>NaN</td>\n",
              "      <td>3.0</td>\n",
              "      <td>0.0</td>\n",
              "      <td>1687</td>\n",
              "      <td>9.4</td>\n",
              "      <td>4.0</td>\n",
              "      <td>f</td>\n",
              "      <td>0.0</td>\n",
              "      <td>0.0</td>\n",
              "      <td>...</td>\n",
              "      <td>0</td>\n",
              "      <td>0</td>\n",
              "      <td>0</td>\n",
              "      <td>0</td>\n",
              "      <td>0</td>\n",
              "      <td>0</td>\n",
              "      <td>0</td>\n",
              "      <td>0</td>\n",
              "      <td>0</td>\n",
              "      <td>0</td>\n",
              "      <td>0</td>\n",
              "      <td>0</td>\n",
              "      <td>0</td>\n",
              "      <td>0</td>\n",
              "      <td>0</td>\n",
              "      <td>0</td>\n",
              "      <td>0</td>\n",
              "      <td>0</td>\n",
              "      <td>0</td>\n",
              "      <td>0</td>\n",
              "      <td>0</td>\n",
              "      <td>0</td>\n",
              "      <td>0</td>\n",
              "      <td>0</td>\n",
              "      <td>0</td>\n",
              "      <td>0</td>\n",
              "      <td>0</td>\n",
              "      <td>0</td>\n",
              "      <td>0</td>\n",
              "      <td>0</td>\n",
              "      <td>0</td>\n",
              "      <td>0</td>\n",
              "      <td>0</td>\n",
              "      <td>0</td>\n",
              "      <td>0</td>\n",
              "      <td>0</td>\n",
              "      <td>0</td>\n",
              "      <td>1</td>\n",
              "      <td>0</td>\n",
              "      <td>0</td>\n",
              "    </tr>\n",
              "    <tr>\n",
              "      <th>2</th>\n",
              "      <td>2</td>\n",
              "      <td>2</td>\n",
              "      <td>1077175</td>\n",
              "      <td>1313524</td>\n",
              "      <td>2400</td>\n",
              "      <td>2400</td>\n",
              "      <td>2400.0</td>\n",
              "      <td>36 months</td>\n",
              "      <td>15.96</td>\n",
              "      <td>84.33</td>\n",
              "      <td>C</td>\n",
              "      <td>C5</td>\n",
              "      <td>NaN</td>\n",
              "      <td>10+ years</td>\n",
              "      <td>RENT</td>\n",
              "      <td>12252.0</td>\n",
              "      <td>Not Verified</td>\n",
              "      <td>Dec-11</td>\n",
              "      <td>Fully Paid</td>\n",
              "      <td>n</td>\n",
              "      <td>https://www.lendingclub.com/browse/loanDetail....</td>\n",
              "      <td>NaN</td>\n",
              "      <td>small_business</td>\n",
              "      <td>real estate business</td>\n",
              "      <td>606xx</td>\n",
              "      <td>IL</td>\n",
              "      <td>8.72</td>\n",
              "      <td>0.0</td>\n",
              "      <td>Nov-01</td>\n",
              "      <td>2.0</td>\n",
              "      <td>NaN</td>\n",
              "      <td>NaN</td>\n",
              "      <td>2.0</td>\n",
              "      <td>0.0</td>\n",
              "      <td>2956</td>\n",
              "      <td>98.5</td>\n",
              "      <td>10.0</td>\n",
              "      <td>f</td>\n",
              "      <td>0.0</td>\n",
              "      <td>0.0</td>\n",
              "      <td>...</td>\n",
              "      <td>0</td>\n",
              "      <td>1</td>\n",
              "      <td>0</td>\n",
              "      <td>0</td>\n",
              "      <td>0</td>\n",
              "      <td>0</td>\n",
              "      <td>0</td>\n",
              "      <td>0</td>\n",
              "      <td>0</td>\n",
              "      <td>0</td>\n",
              "      <td>0</td>\n",
              "      <td>0</td>\n",
              "      <td>0</td>\n",
              "      <td>0</td>\n",
              "      <td>0</td>\n",
              "      <td>0</td>\n",
              "      <td>0</td>\n",
              "      <td>0</td>\n",
              "      <td>0</td>\n",
              "      <td>0</td>\n",
              "      <td>0</td>\n",
              "      <td>0</td>\n",
              "      <td>0</td>\n",
              "      <td>0</td>\n",
              "      <td>0</td>\n",
              "      <td>0</td>\n",
              "      <td>0</td>\n",
              "      <td>0</td>\n",
              "      <td>0</td>\n",
              "      <td>0</td>\n",
              "      <td>0</td>\n",
              "      <td>0</td>\n",
              "      <td>0</td>\n",
              "      <td>0</td>\n",
              "      <td>0</td>\n",
              "      <td>0</td>\n",
              "      <td>0</td>\n",
              "      <td>1</td>\n",
              "      <td>0</td>\n",
              "      <td>1</td>\n",
              "    </tr>\n",
              "    <tr>\n",
              "      <th>3</th>\n",
              "      <td>3</td>\n",
              "      <td>3</td>\n",
              "      <td>1076863</td>\n",
              "      <td>1277178</td>\n",
              "      <td>10000</td>\n",
              "      <td>10000</td>\n",
              "      <td>10000.0</td>\n",
              "      <td>36 months</td>\n",
              "      <td>13.49</td>\n",
              "      <td>339.31</td>\n",
              "      <td>C</td>\n",
              "      <td>C1</td>\n",
              "      <td>AIR RESOURCES BOARD</td>\n",
              "      <td>10+ years</td>\n",
              "      <td>RENT</td>\n",
              "      <td>49200.0</td>\n",
              "      <td>Source Verified</td>\n",
              "      <td>Dec-11</td>\n",
              "      <td>Fully Paid</td>\n",
              "      <td>n</td>\n",
              "      <td>https://www.lendingclub.com/browse/loanDetail....</td>\n",
              "      <td>Borrower added on 12/21/11 &gt; to pay for prop...</td>\n",
              "      <td>other</td>\n",
              "      <td>personel</td>\n",
              "      <td>917xx</td>\n",
              "      <td>CA</td>\n",
              "      <td>20.00</td>\n",
              "      <td>0.0</td>\n",
              "      <td>Feb-96</td>\n",
              "      <td>1.0</td>\n",
              "      <td>35.0</td>\n",
              "      <td>NaN</td>\n",
              "      <td>10.0</td>\n",
              "      <td>0.0</td>\n",
              "      <td>5598</td>\n",
              "      <td>21.0</td>\n",
              "      <td>37.0</td>\n",
              "      <td>f</td>\n",
              "      <td>0.0</td>\n",
              "      <td>0.0</td>\n",
              "      <td>...</td>\n",
              "      <td>0</td>\n",
              "      <td>0</td>\n",
              "      <td>0</td>\n",
              "      <td>0</td>\n",
              "      <td>0</td>\n",
              "      <td>0</td>\n",
              "      <td>0</td>\n",
              "      <td>0</td>\n",
              "      <td>0</td>\n",
              "      <td>0</td>\n",
              "      <td>0</td>\n",
              "      <td>0</td>\n",
              "      <td>0</td>\n",
              "      <td>0</td>\n",
              "      <td>0</td>\n",
              "      <td>0</td>\n",
              "      <td>0</td>\n",
              "      <td>0</td>\n",
              "      <td>0</td>\n",
              "      <td>0</td>\n",
              "      <td>0</td>\n",
              "      <td>0</td>\n",
              "      <td>0</td>\n",
              "      <td>0</td>\n",
              "      <td>0</td>\n",
              "      <td>0</td>\n",
              "      <td>0</td>\n",
              "      <td>0</td>\n",
              "      <td>0</td>\n",
              "      <td>0</td>\n",
              "      <td>0</td>\n",
              "      <td>0</td>\n",
              "      <td>0</td>\n",
              "      <td>0</td>\n",
              "      <td>0</td>\n",
              "      <td>0</td>\n",
              "      <td>0</td>\n",
              "      <td>1</td>\n",
              "      <td>0</td>\n",
              "      <td>1</td>\n",
              "    </tr>\n",
              "    <tr>\n",
              "      <th>4</th>\n",
              "      <td>4</td>\n",
              "      <td>4</td>\n",
              "      <td>1075358</td>\n",
              "      <td>1311748</td>\n",
              "      <td>3000</td>\n",
              "      <td>3000</td>\n",
              "      <td>3000.0</td>\n",
              "      <td>60 months</td>\n",
              "      <td>12.69</td>\n",
              "      <td>67.79</td>\n",
              "      <td>B</td>\n",
              "      <td>B5</td>\n",
              "      <td>University Medical Group</td>\n",
              "      <td>1 year</td>\n",
              "      <td>RENT</td>\n",
              "      <td>80000.0</td>\n",
              "      <td>Source Verified</td>\n",
              "      <td>Dec-11</td>\n",
              "      <td>Current</td>\n",
              "      <td>n</td>\n",
              "      <td>https://www.lendingclub.com/browse/loanDetail....</td>\n",
              "      <td>Borrower added on 12/21/11 &gt; I plan on combi...</td>\n",
              "      <td>other</td>\n",
              "      <td>Personal</td>\n",
              "      <td>972xx</td>\n",
              "      <td>OR</td>\n",
              "      <td>17.94</td>\n",
              "      <td>0.0</td>\n",
              "      <td>Jan-96</td>\n",
              "      <td>0.0</td>\n",
              "      <td>38.0</td>\n",
              "      <td>NaN</td>\n",
              "      <td>15.0</td>\n",
              "      <td>0.0</td>\n",
              "      <td>27783</td>\n",
              "      <td>53.9</td>\n",
              "      <td>38.0</td>\n",
              "      <td>f</td>\n",
              "      <td>766.9</td>\n",
              "      <td>766.9</td>\n",
              "      <td>...</td>\n",
              "      <td>0</td>\n",
              "      <td>0</td>\n",
              "      <td>0</td>\n",
              "      <td>0</td>\n",
              "      <td>0</td>\n",
              "      <td>0</td>\n",
              "      <td>0</td>\n",
              "      <td>0</td>\n",
              "      <td>0</td>\n",
              "      <td>0</td>\n",
              "      <td>0</td>\n",
              "      <td>0</td>\n",
              "      <td>0</td>\n",
              "      <td>0</td>\n",
              "      <td>0</td>\n",
              "      <td>0</td>\n",
              "      <td>0</td>\n",
              "      <td>0</td>\n",
              "      <td>0</td>\n",
              "      <td>0</td>\n",
              "      <td>0</td>\n",
              "      <td>0</td>\n",
              "      <td>0</td>\n",
              "      <td>1</td>\n",
              "      <td>0</td>\n",
              "      <td>0</td>\n",
              "      <td>0</td>\n",
              "      <td>0</td>\n",
              "      <td>0</td>\n",
              "      <td>0</td>\n",
              "      <td>0</td>\n",
              "      <td>0</td>\n",
              "      <td>0</td>\n",
              "      <td>0</td>\n",
              "      <td>0</td>\n",
              "      <td>0</td>\n",
              "      <td>0</td>\n",
              "      <td>1</td>\n",
              "      <td>0</td>\n",
              "      <td>1</td>\n",
              "    </tr>\n",
              "  </tbody>\n",
              "</table>\n",
              "<p>5 rows × 209 columns</p>\n",
              "</div>"
            ],
            "text/plain": [
              "   Unnamed: 0  Unnamed: 0.1  ...  initial_list_status:w  good_bad\n",
              "0           0             0  ...                      0         1\n",
              "1           1             1  ...                      0         0\n",
              "2           2             2  ...                      0         1\n",
              "3           3             3  ...                      0         1\n",
              "4           4             4  ...                      0         1\n",
              "\n",
              "[5 rows x 209 columns]"
            ]
          },
          "metadata": {
            "tags": []
          },
          "execution_count": 7
        }
      ]
    },
    {
      "cell_type": "code",
      "metadata": {
        "colab": {
          "base_uri": "https://localhost:8080/",
          "height": 0
        },
        "id": "7VcAcNTUp_lP",
        "outputId": "3562efac-4022-4230-8daf-39378c03aa70"
      },
      "source": [
        "loan_data_preprocessed.tail()"
      ],
      "execution_count": 8,
      "outputs": [
        {
          "output_type": "execute_result",
          "data": {
            "text/html": [
              "<div>\n",
              "<style scoped>\n",
              "    .dataframe tbody tr th:only-of-type {\n",
              "        vertical-align: middle;\n",
              "    }\n",
              "\n",
              "    .dataframe tbody tr th {\n",
              "        vertical-align: top;\n",
              "    }\n",
              "\n",
              "    .dataframe thead th {\n",
              "        text-align: right;\n",
              "    }\n",
              "</style>\n",
              "<table border=\"1\" class=\"dataframe\">\n",
              "  <thead>\n",
              "    <tr style=\"text-align: right;\">\n",
              "      <th></th>\n",
              "      <th>Unnamed: 0</th>\n",
              "      <th>Unnamed: 0.1</th>\n",
              "      <th>id</th>\n",
              "      <th>member_id</th>\n",
              "      <th>loan_amnt</th>\n",
              "      <th>funded_amnt</th>\n",
              "      <th>funded_amnt_inv</th>\n",
              "      <th>term</th>\n",
              "      <th>int_rate</th>\n",
              "      <th>installment</th>\n",
              "      <th>grade</th>\n",
              "      <th>sub_grade</th>\n",
              "      <th>emp_title</th>\n",
              "      <th>emp_length</th>\n",
              "      <th>home_ownership</th>\n",
              "      <th>annual_inc</th>\n",
              "      <th>verification_status</th>\n",
              "      <th>issue_d</th>\n",
              "      <th>loan_status</th>\n",
              "      <th>pymnt_plan</th>\n",
              "      <th>url</th>\n",
              "      <th>desc</th>\n",
              "      <th>purpose</th>\n",
              "      <th>title</th>\n",
              "      <th>zip_code</th>\n",
              "      <th>addr_state</th>\n",
              "      <th>dti</th>\n",
              "      <th>delinq_2yrs</th>\n",
              "      <th>earliest_cr_line</th>\n",
              "      <th>inq_last_6mths</th>\n",
              "      <th>mths_since_last_delinq</th>\n",
              "      <th>mths_since_last_record</th>\n",
              "      <th>open_acc</th>\n",
              "      <th>pub_rec</th>\n",
              "      <th>revol_bal</th>\n",
              "      <th>revol_util</th>\n",
              "      <th>total_acc</th>\n",
              "      <th>initial_list_status</th>\n",
              "      <th>out_prncp</th>\n",
              "      <th>out_prncp_inv</th>\n",
              "      <th>...</th>\n",
              "      <th>addr_state:ID</th>\n",
              "      <th>addr_state:IL</th>\n",
              "      <th>addr_state:IN</th>\n",
              "      <th>addr_state:KS</th>\n",
              "      <th>addr_state:KY</th>\n",
              "      <th>addr_state:LA</th>\n",
              "      <th>addr_state:MA</th>\n",
              "      <th>addr_state:MD</th>\n",
              "      <th>addr_state:ME</th>\n",
              "      <th>addr_state:MI</th>\n",
              "      <th>addr_state:MN</th>\n",
              "      <th>addr_state:MO</th>\n",
              "      <th>addr_state:MS</th>\n",
              "      <th>addr_state:MT</th>\n",
              "      <th>addr_state:NC</th>\n",
              "      <th>addr_state:NE</th>\n",
              "      <th>addr_state:NH</th>\n",
              "      <th>addr_state:NJ</th>\n",
              "      <th>addr_state:NM</th>\n",
              "      <th>addr_state:NV</th>\n",
              "      <th>addr_state:NY</th>\n",
              "      <th>addr_state:OH</th>\n",
              "      <th>addr_state:OK</th>\n",
              "      <th>addr_state:OR</th>\n",
              "      <th>addr_state:PA</th>\n",
              "      <th>addr_state:RI</th>\n",
              "      <th>addr_state:SC</th>\n",
              "      <th>addr_state:SD</th>\n",
              "      <th>addr_state:TN</th>\n",
              "      <th>addr_state:TX</th>\n",
              "      <th>addr_state:UT</th>\n",
              "      <th>addr_state:VA</th>\n",
              "      <th>addr_state:VT</th>\n",
              "      <th>addr_state:WA</th>\n",
              "      <th>addr_state:WI</th>\n",
              "      <th>addr_state:WV</th>\n",
              "      <th>addr_state:WY</th>\n",
              "      <th>initial_list_status:f</th>\n",
              "      <th>initial_list_status:w</th>\n",
              "      <th>good_bad</th>\n",
              "    </tr>\n",
              "  </thead>\n",
              "  <tbody>\n",
              "    <tr>\n",
              "      <th>466280</th>\n",
              "      <td>466280</td>\n",
              "      <td>466280</td>\n",
              "      <td>8598660</td>\n",
              "      <td>1440975</td>\n",
              "      <td>18400</td>\n",
              "      <td>18400</td>\n",
              "      <td>18400.0</td>\n",
              "      <td>60 months</td>\n",
              "      <td>14.47</td>\n",
              "      <td>432.64</td>\n",
              "      <td>C</td>\n",
              "      <td>C2</td>\n",
              "      <td>Financial Advisor</td>\n",
              "      <td>4 years</td>\n",
              "      <td>MORTGAGE</td>\n",
              "      <td>110000.0</td>\n",
              "      <td>Source Verified</td>\n",
              "      <td>Jan-14</td>\n",
              "      <td>Current</td>\n",
              "      <td>n</td>\n",
              "      <td>https://www.lendingclub.com/browse/loanDetail....</td>\n",
              "      <td>NaN</td>\n",
              "      <td>debt_consolidation</td>\n",
              "      <td>Debt consolidation</td>\n",
              "      <td>773xx</td>\n",
              "      <td>TX</td>\n",
              "      <td>19.85</td>\n",
              "      <td>0.0</td>\n",
              "      <td>Apr-03</td>\n",
              "      <td>2.0</td>\n",
              "      <td>NaN</td>\n",
              "      <td>NaN</td>\n",
              "      <td>18.0</td>\n",
              "      <td>0.0</td>\n",
              "      <td>23208</td>\n",
              "      <td>77.6</td>\n",
              "      <td>36.0</td>\n",
              "      <td>w</td>\n",
              "      <td>12574.00</td>\n",
              "      <td>12574.00</td>\n",
              "      <td>...</td>\n",
              "      <td>0</td>\n",
              "      <td>0</td>\n",
              "      <td>0</td>\n",
              "      <td>0</td>\n",
              "      <td>0</td>\n",
              "      <td>0</td>\n",
              "      <td>0</td>\n",
              "      <td>0</td>\n",
              "      <td>0</td>\n",
              "      <td>0</td>\n",
              "      <td>0</td>\n",
              "      <td>0</td>\n",
              "      <td>0</td>\n",
              "      <td>0</td>\n",
              "      <td>0</td>\n",
              "      <td>0</td>\n",
              "      <td>0</td>\n",
              "      <td>0</td>\n",
              "      <td>0</td>\n",
              "      <td>0</td>\n",
              "      <td>0</td>\n",
              "      <td>0</td>\n",
              "      <td>0</td>\n",
              "      <td>0</td>\n",
              "      <td>0</td>\n",
              "      <td>0</td>\n",
              "      <td>0</td>\n",
              "      <td>0</td>\n",
              "      <td>0</td>\n",
              "      <td>1</td>\n",
              "      <td>0</td>\n",
              "      <td>0</td>\n",
              "      <td>0</td>\n",
              "      <td>0</td>\n",
              "      <td>0</td>\n",
              "      <td>0</td>\n",
              "      <td>0</td>\n",
              "      <td>0</td>\n",
              "      <td>1</td>\n",
              "      <td>1</td>\n",
              "    </tr>\n",
              "    <tr>\n",
              "      <th>466281</th>\n",
              "      <td>466281</td>\n",
              "      <td>466281</td>\n",
              "      <td>9684700</td>\n",
              "      <td>11536848</td>\n",
              "      <td>22000</td>\n",
              "      <td>22000</td>\n",
              "      <td>22000.0</td>\n",
              "      <td>60 months</td>\n",
              "      <td>19.97</td>\n",
              "      <td>582.50</td>\n",
              "      <td>D</td>\n",
              "      <td>D5</td>\n",
              "      <td>Chief of Interpretation (Park Ranger)</td>\n",
              "      <td>10+ years</td>\n",
              "      <td>MORTGAGE</td>\n",
              "      <td>78000.0</td>\n",
              "      <td>Verified</td>\n",
              "      <td>Jan-14</td>\n",
              "      <td>Charged Off</td>\n",
              "      <td>n</td>\n",
              "      <td>https://www.lendingclub.com/browse/loanDetail....</td>\n",
              "      <td>NaN</td>\n",
              "      <td>debt_consolidation</td>\n",
              "      <td>Debt consolidation</td>\n",
              "      <td>377xx</td>\n",
              "      <td>TN</td>\n",
              "      <td>18.45</td>\n",
              "      <td>0.0</td>\n",
              "      <td>Jun-97</td>\n",
              "      <td>5.0</td>\n",
              "      <td>NaN</td>\n",
              "      <td>116.0</td>\n",
              "      <td>18.0</td>\n",
              "      <td>1.0</td>\n",
              "      <td>18238</td>\n",
              "      <td>46.3</td>\n",
              "      <td>30.0</td>\n",
              "      <td>f</td>\n",
              "      <td>0.00</td>\n",
              "      <td>0.00</td>\n",
              "      <td>...</td>\n",
              "      <td>0</td>\n",
              "      <td>0</td>\n",
              "      <td>0</td>\n",
              "      <td>0</td>\n",
              "      <td>0</td>\n",
              "      <td>0</td>\n",
              "      <td>0</td>\n",
              "      <td>0</td>\n",
              "      <td>0</td>\n",
              "      <td>0</td>\n",
              "      <td>0</td>\n",
              "      <td>0</td>\n",
              "      <td>0</td>\n",
              "      <td>0</td>\n",
              "      <td>0</td>\n",
              "      <td>0</td>\n",
              "      <td>0</td>\n",
              "      <td>0</td>\n",
              "      <td>0</td>\n",
              "      <td>0</td>\n",
              "      <td>0</td>\n",
              "      <td>0</td>\n",
              "      <td>0</td>\n",
              "      <td>0</td>\n",
              "      <td>0</td>\n",
              "      <td>0</td>\n",
              "      <td>0</td>\n",
              "      <td>0</td>\n",
              "      <td>1</td>\n",
              "      <td>0</td>\n",
              "      <td>0</td>\n",
              "      <td>0</td>\n",
              "      <td>0</td>\n",
              "      <td>0</td>\n",
              "      <td>0</td>\n",
              "      <td>0</td>\n",
              "      <td>0</td>\n",
              "      <td>1</td>\n",
              "      <td>0</td>\n",
              "      <td>0</td>\n",
              "    </tr>\n",
              "    <tr>\n",
              "      <th>466282</th>\n",
              "      <td>466282</td>\n",
              "      <td>466282</td>\n",
              "      <td>9584776</td>\n",
              "      <td>11436914</td>\n",
              "      <td>20700</td>\n",
              "      <td>20700</td>\n",
              "      <td>20700.0</td>\n",
              "      <td>60 months</td>\n",
              "      <td>16.99</td>\n",
              "      <td>514.34</td>\n",
              "      <td>D</td>\n",
              "      <td>D1</td>\n",
              "      <td>patrol</td>\n",
              "      <td>7 years</td>\n",
              "      <td>MORTGAGE</td>\n",
              "      <td>46000.0</td>\n",
              "      <td>Verified</td>\n",
              "      <td>Jan-14</td>\n",
              "      <td>Current</td>\n",
              "      <td>n</td>\n",
              "      <td>https://www.lendingclub.com/browse/loanDetail....</td>\n",
              "      <td>Borrower added on 12/06/13 &gt; I am going to c...</td>\n",
              "      <td>debt_consolidation</td>\n",
              "      <td>Debt consolidation</td>\n",
              "      <td>458xx</td>\n",
              "      <td>OH</td>\n",
              "      <td>25.65</td>\n",
              "      <td>0.0</td>\n",
              "      <td>Dec-01</td>\n",
              "      <td>2.0</td>\n",
              "      <td>65.0</td>\n",
              "      <td>NaN</td>\n",
              "      <td>18.0</td>\n",
              "      <td>0.0</td>\n",
              "      <td>6688</td>\n",
              "      <td>51.1</td>\n",
              "      <td>43.0</td>\n",
              "      <td>f</td>\n",
              "      <td>14428.31</td>\n",
              "      <td>14428.31</td>\n",
              "      <td>...</td>\n",
              "      <td>0</td>\n",
              "      <td>0</td>\n",
              "      <td>0</td>\n",
              "      <td>0</td>\n",
              "      <td>0</td>\n",
              "      <td>0</td>\n",
              "      <td>0</td>\n",
              "      <td>0</td>\n",
              "      <td>0</td>\n",
              "      <td>0</td>\n",
              "      <td>0</td>\n",
              "      <td>0</td>\n",
              "      <td>0</td>\n",
              "      <td>0</td>\n",
              "      <td>0</td>\n",
              "      <td>0</td>\n",
              "      <td>0</td>\n",
              "      <td>0</td>\n",
              "      <td>0</td>\n",
              "      <td>0</td>\n",
              "      <td>0</td>\n",
              "      <td>1</td>\n",
              "      <td>0</td>\n",
              "      <td>0</td>\n",
              "      <td>0</td>\n",
              "      <td>0</td>\n",
              "      <td>0</td>\n",
              "      <td>0</td>\n",
              "      <td>0</td>\n",
              "      <td>0</td>\n",
              "      <td>0</td>\n",
              "      <td>0</td>\n",
              "      <td>0</td>\n",
              "      <td>0</td>\n",
              "      <td>0</td>\n",
              "      <td>0</td>\n",
              "      <td>0</td>\n",
              "      <td>1</td>\n",
              "      <td>0</td>\n",
              "      <td>1</td>\n",
              "    </tr>\n",
              "    <tr>\n",
              "      <th>466283</th>\n",
              "      <td>466283</td>\n",
              "      <td>466283</td>\n",
              "      <td>9604874</td>\n",
              "      <td>11457002</td>\n",
              "      <td>2000</td>\n",
              "      <td>2000</td>\n",
              "      <td>2000.0</td>\n",
              "      <td>36 months</td>\n",
              "      <td>7.90</td>\n",
              "      <td>62.59</td>\n",
              "      <td>A</td>\n",
              "      <td>A4</td>\n",
              "      <td>Server Engineer Lead</td>\n",
              "      <td>3 years</td>\n",
              "      <td>OWN</td>\n",
              "      <td>83000.0</td>\n",
              "      <td>Verified</td>\n",
              "      <td>Jan-14</td>\n",
              "      <td>Fully Paid</td>\n",
              "      <td>n</td>\n",
              "      <td>https://www.lendingclub.com/browse/loanDetail....</td>\n",
              "      <td>NaN</td>\n",
              "      <td>credit_card</td>\n",
              "      <td>Credit card refinancing</td>\n",
              "      <td>913xx</td>\n",
              "      <td>CA</td>\n",
              "      <td>5.39</td>\n",
              "      <td>3.0</td>\n",
              "      <td>Feb-03</td>\n",
              "      <td>1.0</td>\n",
              "      <td>13.0</td>\n",
              "      <td>NaN</td>\n",
              "      <td>21.0</td>\n",
              "      <td>0.0</td>\n",
              "      <td>11404</td>\n",
              "      <td>21.5</td>\n",
              "      <td>27.0</td>\n",
              "      <td>w</td>\n",
              "      <td>0.00</td>\n",
              "      <td>0.00</td>\n",
              "      <td>...</td>\n",
              "      <td>0</td>\n",
              "      <td>0</td>\n",
              "      <td>0</td>\n",
              "      <td>0</td>\n",
              "      <td>0</td>\n",
              "      <td>0</td>\n",
              "      <td>0</td>\n",
              "      <td>0</td>\n",
              "      <td>0</td>\n",
              "      <td>0</td>\n",
              "      <td>0</td>\n",
              "      <td>0</td>\n",
              "      <td>0</td>\n",
              "      <td>0</td>\n",
              "      <td>0</td>\n",
              "      <td>0</td>\n",
              "      <td>0</td>\n",
              "      <td>0</td>\n",
              "      <td>0</td>\n",
              "      <td>0</td>\n",
              "      <td>0</td>\n",
              "      <td>0</td>\n",
              "      <td>0</td>\n",
              "      <td>0</td>\n",
              "      <td>0</td>\n",
              "      <td>0</td>\n",
              "      <td>0</td>\n",
              "      <td>0</td>\n",
              "      <td>0</td>\n",
              "      <td>0</td>\n",
              "      <td>0</td>\n",
              "      <td>0</td>\n",
              "      <td>0</td>\n",
              "      <td>0</td>\n",
              "      <td>0</td>\n",
              "      <td>0</td>\n",
              "      <td>0</td>\n",
              "      <td>0</td>\n",
              "      <td>1</td>\n",
              "      <td>1</td>\n",
              "    </tr>\n",
              "    <tr>\n",
              "      <th>466284</th>\n",
              "      <td>466284</td>\n",
              "      <td>466284</td>\n",
              "      <td>9199665</td>\n",
              "      <td>11061576</td>\n",
              "      <td>10000</td>\n",
              "      <td>10000</td>\n",
              "      <td>9975.0</td>\n",
              "      <td>36 months</td>\n",
              "      <td>19.20</td>\n",
              "      <td>367.58</td>\n",
              "      <td>D</td>\n",
              "      <td>D3</td>\n",
              "      <td>NaN</td>\n",
              "      <td>10+ years</td>\n",
              "      <td>MORTGAGE</td>\n",
              "      <td>46000.0</td>\n",
              "      <td>Verified</td>\n",
              "      <td>Jan-14</td>\n",
              "      <td>Current</td>\n",
              "      <td>n</td>\n",
              "      <td>https://www.lendingclub.com/browse/loanDetail....</td>\n",
              "      <td>Borrower added on 12/04/13 &gt; I will like a l...</td>\n",
              "      <td>other</td>\n",
              "      <td>Other</td>\n",
              "      <td>950xx</td>\n",
              "      <td>CA</td>\n",
              "      <td>22.78</td>\n",
              "      <td>1.0</td>\n",
              "      <td>Feb-00</td>\n",
              "      <td>0.0</td>\n",
              "      <td>9.0</td>\n",
              "      <td>NaN</td>\n",
              "      <td>6.0</td>\n",
              "      <td>0.0</td>\n",
              "      <td>11325</td>\n",
              "      <td>70.8</td>\n",
              "      <td>22.0</td>\n",
              "      <td>f</td>\n",
              "      <td>3984.38</td>\n",
              "      <td>3974.41</td>\n",
              "      <td>...</td>\n",
              "      <td>0</td>\n",
              "      <td>0</td>\n",
              "      <td>0</td>\n",
              "      <td>0</td>\n",
              "      <td>0</td>\n",
              "      <td>0</td>\n",
              "      <td>0</td>\n",
              "      <td>0</td>\n",
              "      <td>0</td>\n",
              "      <td>0</td>\n",
              "      <td>0</td>\n",
              "      <td>0</td>\n",
              "      <td>0</td>\n",
              "      <td>0</td>\n",
              "      <td>0</td>\n",
              "      <td>0</td>\n",
              "      <td>0</td>\n",
              "      <td>0</td>\n",
              "      <td>0</td>\n",
              "      <td>0</td>\n",
              "      <td>0</td>\n",
              "      <td>0</td>\n",
              "      <td>0</td>\n",
              "      <td>0</td>\n",
              "      <td>0</td>\n",
              "      <td>0</td>\n",
              "      <td>0</td>\n",
              "      <td>0</td>\n",
              "      <td>0</td>\n",
              "      <td>0</td>\n",
              "      <td>0</td>\n",
              "      <td>0</td>\n",
              "      <td>0</td>\n",
              "      <td>0</td>\n",
              "      <td>0</td>\n",
              "      <td>0</td>\n",
              "      <td>0</td>\n",
              "      <td>1</td>\n",
              "      <td>0</td>\n",
              "      <td>1</td>\n",
              "    </tr>\n",
              "  </tbody>\n",
              "</table>\n",
              "<p>5 rows × 209 columns</p>\n",
              "</div>"
            ],
            "text/plain": [
              "        Unnamed: 0  Unnamed: 0.1  ...  initial_list_status:w  good_bad\n",
              "466280      466280        466280  ...                      1         1\n",
              "466281      466281        466281  ...                      0         0\n",
              "466282      466282        466282  ...                      0         1\n",
              "466283      466283        466283  ...                      1         1\n",
              "466284      466284        466284  ...                      0         1\n",
              "\n",
              "[5 rows x 209 columns]"
            ]
          },
          "metadata": {
            "tags": []
          },
          "execution_count": 8
        }
      ]
    },
    {
      "cell_type": "code",
      "metadata": {
        "id": "7rxd_0QVqEgA"
      },
      "source": [
        "loan_data_defaults = loan_data_preprocessed[loan_data_preprocessed['loan_status'].isin(['Charged Off','Does not meet the credit policy. Status:Charged Off'])]\n",
        "# Here we take only the accounts that were charged-off (written-off)."
      ],
      "execution_count": 9,
      "outputs": []
    },
    {
      "cell_type": "code",
      "metadata": {
        "colab": {
          "base_uri": "https://localhost:8080/"
        },
        "id": "iYbfWP76qKQS",
        "outputId": "d2ac5e8c-1baf-4f26-ab8b-edd873122f6c"
      },
      "source": [
        "loan_data_defaults.shape"
      ],
      "execution_count": 10,
      "outputs": [
        {
          "output_type": "execute_result",
          "data": {
            "text/plain": [
              "(43236, 209)"
            ]
          },
          "metadata": {
            "tags": []
          },
          "execution_count": 10
        }
      ]
    },
    {
      "cell_type": "code",
      "metadata": {
        "id": "livxfhuZqLBU"
      },
      "source": [
        "pd.options.display.max_rows = None\n",
        "# Sets the pandas dataframe options to display all columns/ rows."
      ],
      "execution_count": 11,
      "outputs": []
    },
    {
      "cell_type": "code",
      "metadata": {
        "colab": {
          "base_uri": "https://localhost:8080/"
        },
        "id": "VGaT0cHjqNfi",
        "outputId": "c7087d39-aed3-4162-a262-adfb6309c8fe"
      },
      "source": [
        "loan_data_defaults.isnull().sum()\n",
        "#Checking the missing values."
      ],
      "execution_count": 12,
      "outputs": [
        {
          "output_type": "execute_result",
          "data": {
            "text/plain": [
              "Unnamed: 0                                                             0\n",
              "Unnamed: 0.1                                                           0\n",
              "id                                                                     0\n",
              "member_id                                                              0\n",
              "loan_amnt                                                              0\n",
              "funded_amnt                                                            0\n",
              "funded_amnt_inv                                                        0\n",
              "term                                                                   0\n",
              "int_rate                                                               0\n",
              "installment                                                            0\n",
              "grade                                                                  0\n",
              "sub_grade                                                              0\n",
              "emp_title                                                           3287\n",
              "emp_length                                                          2337\n",
              "home_ownership                                                         0\n",
              "annual_inc                                                             0\n",
              "verification_status                                                    0\n",
              "issue_d                                                                0\n",
              "loan_status                                                            0\n",
              "pymnt_plan                                                             0\n",
              "url                                                                    0\n",
              "desc                                                               27396\n",
              "purpose                                                                0\n",
              "title                                                                  3\n",
              "zip_code                                                               0\n",
              "addr_state                                                             0\n",
              "dti                                                                    0\n",
              "delinq_2yrs                                                            0\n",
              "earliest_cr_line                                                       3\n",
              "inq_last_6mths                                                         0\n",
              "mths_since_last_delinq                                             23950\n",
              "mths_since_last_record                                             37821\n",
              "open_acc                                                               0\n",
              "pub_rec                                                                0\n",
              "revol_bal                                                              0\n",
              "revol_util                                                            53\n",
              "total_acc                                                              0\n",
              "initial_list_status                                                    0\n",
              "out_prncp                                                              0\n",
              "out_prncp_inv                                                          0\n",
              "total_pymnt                                                            0\n",
              "total_pymnt_inv                                                        0\n",
              "total_rec_prncp                                                        0\n",
              "total_rec_int                                                          0\n",
              "total_rec_late_fee                                                     0\n",
              "recoveries                                                             0\n",
              "collection_recovery_fee                                                0\n",
              "last_pymnt_d                                                         376\n",
              "last_pymnt_amnt                                                        0\n",
              "next_pymnt_d                                                       42475\n",
              "last_credit_pull_d                                                     6\n",
              "collections_12_mths_ex_med                                            28\n",
              "mths_since_last_major_derog                                        35283\n",
              "policy_code                                                            0\n",
              "application_type                                                       0\n",
              "annual_inc_joint                                                   43236\n",
              "dti_joint                                                          43236\n",
              "verification_status_joint                                          43236\n",
              "acc_now_delinq                                                         0\n",
              "tot_coll_amt                                                       10780\n",
              "tot_cur_bal                                                        10780\n",
              "open_acc_6m                                                        43236\n",
              "open_il_6m                                                         43236\n",
              "open_il_12m                                                        43236\n",
              "open_il_24m                                                        43236\n",
              "mths_since_rcnt_il                                                 43236\n",
              "total_bal_il                                                       43236\n",
              "il_util                                                            43236\n",
              "open_rv_12m                                                        43236\n",
              "open_rv_24m                                                        43236\n",
              "max_bal_bc                                                         43236\n",
              "all_util                                                           43236\n",
              "total_rev_hi_lim                                                       0\n",
              "inq_fi                                                             43236\n",
              "total_cu_tl                                                        43236\n",
              "inq_last_12m                                                       43236\n",
              "emp_length_int                                                         0\n",
              "earliest_cr_line_date                                                  3\n",
              "mths_since_earliest_cr_line                                            0\n",
              "term_int                                                               0\n",
              "issue_d_date                                                           0\n",
              "mths_since_issue_d                                                     0\n",
              "grade:A                                                                0\n",
              "grade:B                                                                0\n",
              "grade:C                                                                0\n",
              "grade:D                                                                0\n",
              "grade:E                                                                0\n",
              "grade:F                                                                0\n",
              "grade:G                                                                0\n",
              "sub_grade:A1                                                           0\n",
              "sub_grade:A2                                                           0\n",
              "sub_grade:A3                                                           0\n",
              "sub_grade:A4                                                           0\n",
              "sub_grade:A5                                                           0\n",
              "sub_grade:B1                                                           0\n",
              "sub_grade:B2                                                           0\n",
              "sub_grade:B3                                                           0\n",
              "sub_grade:B4                                                           0\n",
              "sub_grade:B5                                                           0\n",
              "sub_grade:C1                                                           0\n",
              "sub_grade:C2                                                           0\n",
              "sub_grade:C3                                                           0\n",
              "sub_grade:C4                                                           0\n",
              "sub_grade:C5                                                           0\n",
              "sub_grade:D1                                                           0\n",
              "sub_grade:D2                                                           0\n",
              "sub_grade:D3                                                           0\n",
              "sub_grade:D4                                                           0\n",
              "sub_grade:D5                                                           0\n",
              "sub_grade:E1                                                           0\n",
              "sub_grade:E2                                                           0\n",
              "sub_grade:E3                                                           0\n",
              "sub_grade:E4                                                           0\n",
              "sub_grade:E5                                                           0\n",
              "sub_grade:F1                                                           0\n",
              "sub_grade:F2                                                           0\n",
              "sub_grade:F3                                                           0\n",
              "sub_grade:F4                                                           0\n",
              "sub_grade:F5                                                           0\n",
              "sub_grade:G1                                                           0\n",
              "sub_grade:G2                                                           0\n",
              "sub_grade:G3                                                           0\n",
              "sub_grade:G4                                                           0\n",
              "sub_grade:G5                                                           0\n",
              "home_ownership:ANY                                                     0\n",
              "home_ownership:MORTGAGE                                                0\n",
              "home_ownership:NONE                                                    0\n",
              "home_ownership:OTHER                                                   0\n",
              "home_ownership:OWN                                                     0\n",
              "home_ownership:RENT                                                    0\n",
              "verification_status:Not Verified                                       0\n",
              "verification_status:Source Verified                                    0\n",
              "verification_status:Verified                                           0\n",
              "loan_status:Charged Off                                                0\n",
              "loan_status:Current                                                    0\n",
              "loan_status:Default                                                    0\n",
              "loan_status:Does not meet the credit policy. Status:Charged Off        0\n",
              "loan_status:Does not meet the credit policy. Status:Fully Paid         0\n",
              "loan_status:Fully Paid                                                 0\n",
              "loan_status:In Grace Period                                            0\n",
              "loan_status:Late (16-30 days)                                          0\n",
              "loan_status:Late (31-120 days)                                         0\n",
              "purpose:car                                                            0\n",
              "purpose:credit_card                                                    0\n",
              "purpose:debt_consolidation                                             0\n",
              "purpose:educational                                                    0\n",
              "purpose:home_improvement                                               0\n",
              "purpose:house                                                          0\n",
              "purpose:major_purchase                                                 0\n",
              "purpose:medical                                                        0\n",
              "purpose:moving                                                         0\n",
              "purpose:other                                                          0\n",
              "purpose:renewable_energy                                               0\n",
              "purpose:small_business                                                 0\n",
              "purpose:vacation                                                       0\n",
              "purpose:wedding                                                        0\n",
              "addr_state:AK                                                          0\n",
              "addr_state:AL                                                          0\n",
              "addr_state:AR                                                          0\n",
              "addr_state:AZ                                                          0\n",
              "addr_state:CA                                                          0\n",
              "addr_state:CO                                                          0\n",
              "addr_state:CT                                                          0\n",
              "addr_state:DC                                                          0\n",
              "addr_state:DE                                                          0\n",
              "addr_state:FL                                                          0\n",
              "addr_state:GA                                                          0\n",
              "addr_state:HI                                                          0\n",
              "addr_state:IA                                                          0\n",
              "addr_state:ID                                                          0\n",
              "addr_state:IL                                                          0\n",
              "addr_state:IN                                                          0\n",
              "addr_state:KS                                                          0\n",
              "addr_state:KY                                                          0\n",
              "addr_state:LA                                                          0\n",
              "addr_state:MA                                                          0\n",
              "addr_state:MD                                                          0\n",
              "addr_state:ME                                                          0\n",
              "addr_state:MI                                                          0\n",
              "addr_state:MN                                                          0\n",
              "addr_state:MO                                                          0\n",
              "addr_state:MS                                                          0\n",
              "addr_state:MT                                                          0\n",
              "addr_state:NC                                                          0\n",
              "addr_state:NE                                                          0\n",
              "addr_state:NH                                                          0\n",
              "addr_state:NJ                                                          0\n",
              "addr_state:NM                                                          0\n",
              "addr_state:NV                                                          0\n",
              "addr_state:NY                                                          0\n",
              "addr_state:OH                                                          0\n",
              "addr_state:OK                                                          0\n",
              "addr_state:OR                                                          0\n",
              "addr_state:PA                                                          0\n",
              "addr_state:RI                                                          0\n",
              "addr_state:SC                                                          0\n",
              "addr_state:SD                                                          0\n",
              "addr_state:TN                                                          0\n",
              "addr_state:TX                                                          0\n",
              "addr_state:UT                                                          0\n",
              "addr_state:VA                                                          0\n",
              "addr_state:VT                                                          0\n",
              "addr_state:WA                                                          0\n",
              "addr_state:WI                                                          0\n",
              "addr_state:WV                                                          0\n",
              "addr_state:WY                                                          0\n",
              "initial_list_status:f                                                  0\n",
              "initial_list_status:w                                                  0\n",
              "good_bad                                                               0\n",
              "dtype: int64"
            ]
          },
          "metadata": {
            "tags": []
          },
          "execution_count": 12
        }
      ]
    },
    {
      "cell_type": "markdown",
      "metadata": {
        "id": "rKg35Jx6quNG"
      },
      "source": [
        "### Imputing the missing values of the Independent Variables"
      ]
    },
    {
      "cell_type": "code",
      "metadata": {
        "colab": {
          "base_uri": "https://localhost:8080/"
        },
        "id": "NB8fS291q3Gi",
        "outputId": "f6726718-c80f-496c-9808-2a915bb8e14a"
      },
      "source": [
        "loan_data_defaults['mths_since_last_delinq'].fillna(0, inplace = True)\n",
        "# We fill the missing values with zeroes."
      ],
      "execution_count": 13,
      "outputs": [
        {
          "output_type": "stream",
          "text": [
            "/usr/local/lib/python3.7/dist-packages/pandas/core/series.py:4536: SettingWithCopyWarning: \n",
            "A value is trying to be set on a copy of a slice from a DataFrame\n",
            "\n",
            "See the caveats in the documentation: https://pandas.pydata.org/pandas-docs/stable/user_guide/indexing.html#returning-a-view-versus-a-copy\n",
            "  downcast=downcast,\n"
          ],
          "name": "stderr"
        }
      ]
    },
    {
      "cell_type": "code",
      "metadata": {
        "colab": {
          "base_uri": "https://localhost:8080/"
        },
        "id": "c65A5nY5q7XL",
        "outputId": "560b721b-6c9f-4e29-b078-68ba60d23d84"
      },
      "source": [
        "loan_data_defaults['mths_since_last_record'].fillna(0, inplace = True)\n",
        "# We fill the missing values with zeroes."
      ],
      "execution_count": 14,
      "outputs": [
        {
          "output_type": "stream",
          "text": [
            "/usr/local/lib/python3.7/dist-packages/pandas/core/series.py:4536: SettingWithCopyWarning: \n",
            "A value is trying to be set on a copy of a slice from a DataFrame\n",
            "\n",
            "See the caveats in the documentation: https://pandas.pydata.org/pandas-docs/stable/user_guide/indexing.html#returning-a-view-versus-a-copy\n",
            "  downcast=downcast,\n"
          ],
          "name": "stderr"
        }
      ]
    },
    {
      "cell_type": "markdown",
      "metadata": {
        "id": "Kj72RuDsv3Lh"
      },
      "source": [
        ""
      ]
    },
    {
      "cell_type": "markdown",
      "metadata": {
        "id": "JZurOlesxs8B"
      },
      "source": [
        "### LGD and EAD models:Dependent Variables"
      ]
    },
    {
      "cell_type": "code",
      "metadata": {
        "colab": {
          "base_uri": "https://localhost:8080/"
        },
        "id": "H5kakQmKxzu7",
        "outputId": "dd49adad-e726-46a4-dbd5-be8463e4da61"
      },
      "source": [
        "loan_data_defaults['recovery rate']=loan_data_defaults['recoveries']/loan_data_defaults['funded_amnt']"
      ],
      "execution_count": 15,
      "outputs": [
        {
          "output_type": "stream",
          "text": [
            "/usr/local/lib/python3.7/dist-packages/ipykernel_launcher.py:1: SettingWithCopyWarning: \n",
            "A value is trying to be set on a copy of a slice from a DataFrame.\n",
            "Try using .loc[row_indexer,col_indexer] = value instead\n",
            "\n",
            "See the caveats in the documentation: https://pandas.pydata.org/pandas-docs/stable/user_guide/indexing.html#returning-a-view-versus-a-copy\n",
            "  \"\"\"Entry point for launching an IPython kernel.\n"
          ],
          "name": "stderr"
        }
      ]
    },
    {
      "cell_type": "code",
      "metadata": {
        "colab": {
          "base_uri": "https://localhost:8080/"
        },
        "id": "MDADTlZoF8ZS",
        "outputId": "070b8806-0d74-4c28-d6b5-46e2b388e622"
      },
      "source": [
        "loan_data_defaults['recovery rate'].describe()"
      ],
      "execution_count": 16,
      "outputs": [
        {
          "output_type": "execute_result",
          "data": {
            "text/plain": [
              "count    43236.000000\n",
              "mean         0.060820\n",
              "std          0.089770\n",
              "min          0.000000\n",
              "25%          0.000000\n",
              "50%          0.029466\n",
              "75%          0.114044\n",
              "max          1.220774\n",
              "Name: recovery rate, dtype: float64"
            ]
          },
          "metadata": {
            "tags": []
          },
          "execution_count": 16
        }
      ]
    },
    {
      "cell_type": "code",
      "metadata": {
        "colab": {
          "base_uri": "https://localhost:8080/"
        },
        "id": "6P_UQRflHDsj",
        "outputId": "d6f0df53-9b42-47c9-a888-59787fa4e930"
      },
      "source": [
        "loan_data_defaults['recovery rate']=np.where(loan_data_defaults['recovery rate']>1,1,loan_data_defaults['recovery rate'])\n",
        "loan_data_defaults['recovery rate']=np.where(loan_data_defaults['recovery rate']<0,0,loan_data_defaults['recovery rate'])"
      ],
      "execution_count": 17,
      "outputs": [
        {
          "output_type": "stream",
          "text": [
            "/usr/local/lib/python3.7/dist-packages/ipykernel_launcher.py:1: SettingWithCopyWarning: \n",
            "A value is trying to be set on a copy of a slice from a DataFrame.\n",
            "Try using .loc[row_indexer,col_indexer] = value instead\n",
            "\n",
            "See the caveats in the documentation: https://pandas.pydata.org/pandas-docs/stable/user_guide/indexing.html#returning-a-view-versus-a-copy\n",
            "  \"\"\"Entry point for launching an IPython kernel.\n",
            "/usr/local/lib/python3.7/dist-packages/ipykernel_launcher.py:2: SettingWithCopyWarning: \n",
            "A value is trying to be set on a copy of a slice from a DataFrame.\n",
            "Try using .loc[row_indexer,col_indexer] = value instead\n",
            "\n",
            "See the caveats in the documentation: https://pandas.pydata.org/pandas-docs/stable/user_guide/indexing.html#returning-a-view-versus-a-copy\n",
            "  \n"
          ],
          "name": "stderr"
        }
      ]
    },
    {
      "cell_type": "code",
      "metadata": {
        "colab": {
          "base_uri": "https://localhost:8080/"
        },
        "id": "GCLrfJOpIJ5W",
        "outputId": "769eda22-742e-4d7a-d4cb-03dde02888c2"
      },
      "source": [
        "loan_data_defaults['recovery rate'].describe()"
      ],
      "execution_count": 18,
      "outputs": [
        {
          "output_type": "execute_result",
          "data": {
            "text/plain": [
              "count    43236.000000\n",
              "mean         0.060770\n",
              "std          0.089202\n",
              "min          0.000000\n",
              "25%          0.000000\n",
              "50%          0.029466\n",
              "75%          0.114044\n",
              "max          1.000000\n",
              "Name: recovery rate, dtype: float64"
            ]
          },
          "metadata": {
            "tags": []
          },
          "execution_count": 18
        }
      ]
    },
    {
      "cell_type": "code",
      "metadata": {
        "colab": {
          "base_uri": "https://localhost:8080/"
        },
        "id": "X8c0rlUXLkX1",
        "outputId": "35b79775-0bcb-40a5-f966-f33006a0edd0"
      },
      "source": [
        "loan_data_defaults['CCF']=(loan_data_defaults['funded_amnt']-loan_data_defaults['total_rec_prncp'])/loan_data_defaults['funded_amnt']"
      ],
      "execution_count": 19,
      "outputs": [
        {
          "output_type": "stream",
          "text": [
            "/usr/local/lib/python3.7/dist-packages/ipykernel_launcher.py:1: SettingWithCopyWarning: \n",
            "A value is trying to be set on a copy of a slice from a DataFrame.\n",
            "Try using .loc[row_indexer,col_indexer] = value instead\n",
            "\n",
            "See the caveats in the documentation: https://pandas.pydata.org/pandas-docs/stable/user_guide/indexing.html#returning-a-view-versus-a-copy\n",
            "  \"\"\"Entry point for launching an IPython kernel.\n"
          ],
          "name": "stderr"
        }
      ]
    },
    {
      "cell_type": "code",
      "metadata": {
        "colab": {
          "base_uri": "https://localhost:8080/"
        },
        "id": "84tHCMEgMRus",
        "outputId": "aeae5d65-e54b-4d0f-92bc-6d0f35a5dd12"
      },
      "source": [
        "loan_data_defaults['CCF'].describe()"
      ],
      "execution_count": 20,
      "outputs": [
        {
          "output_type": "execute_result",
          "data": {
            "text/plain": [
              "count    43236.000000\n",
              "mean         0.735952\n",
              "std          0.200742\n",
              "min          0.000438\n",
              "25%          0.632088\n",
              "50%          0.789908\n",
              "75%          0.888543\n",
              "max          1.000000\n",
              "Name: CCF, dtype: float64"
            ]
          },
          "metadata": {
            "tags": []
          },
          "execution_count": 20
        }
      ]
    },
    {
      "cell_type": "code",
      "metadata": {
        "id": "AiP1Wqr8Nk3v"
      },
      "source": [
        "loan_data_defaults.to_csv('loan_data_defaults.csv')"
      ],
      "execution_count": 21,
      "outputs": []
    },
    {
      "cell_type": "markdown",
      "metadata": {
        "id": "Xj90uBiN9lGI"
      },
      "source": [
        "### Explore Dependent Varibales"
      ]
    },
    {
      "cell_type": "code",
      "metadata": {
        "colab": {
          "base_uri": "https://localhost:8080/",
          "height": 0
        },
        "id": "XSfk-wW-_K-a",
        "outputId": "046dede3-1490-4609-e8f2-b516ae97c9f8"
      },
      "source": [
        "plt.hist(loan_data_defaults['recovery rate'],bins=50)"
      ],
      "execution_count": 22,
      "outputs": [
        {
          "output_type": "execute_result",
          "data": {
            "text/plain": [
              "(array([2.1023e+04, 1.8370e+03, 3.8730e+03, 1.3940e+03, 2.1330e+03,\n",
              "        3.3440e+03, 4.7650e+03, 1.7130e+03, 1.1790e+03, 4.0600e+02,\n",
              "        3.4100e+02, 2.7400e+02, 1.1700e+02, 9.3000e+01, 8.1000e+01,\n",
              "        7.3000e+01, 5.4000e+01, 7.2000e+01, 5.7000e+01, 3.0000e+01,\n",
              "        4.7000e+01, 2.7000e+01, 1.7000e+01, 1.5000e+01, 2.0000e+01,\n",
              "        2.3000e+01, 1.7000e+01, 7.0000e+00, 1.1000e+01, 7.0000e+00,\n",
              "        8.0000e+00, 7.0000e+00, 7.0000e+00, 8.0000e+00, 7.0000e+00,\n",
              "        1.0000e+01, 6.0000e+00, 1.1000e+01, 9.0000e+00, 9.0000e+00,\n",
              "        6.0000e+00, 6.0000e+00, 6.0000e+00, 3.0000e+00, 9.0000e+00,\n",
              "        9.0000e+00, 1.5000e+01, 8.0000e+00, 9.0000e+00, 3.3000e+01]),\n",
              " array([0.  , 0.02, 0.04, 0.06, 0.08, 0.1 , 0.12, 0.14, 0.16, 0.18, 0.2 ,\n",
              "        0.22, 0.24, 0.26, 0.28, 0.3 , 0.32, 0.34, 0.36, 0.38, 0.4 , 0.42,\n",
              "        0.44, 0.46, 0.48, 0.5 , 0.52, 0.54, 0.56, 0.58, 0.6 , 0.62, 0.64,\n",
              "        0.66, 0.68, 0.7 , 0.72, 0.74, 0.76, 0.78, 0.8 , 0.82, 0.84, 0.86,\n",
              "        0.88, 0.9 , 0.92, 0.94, 0.96, 0.98, 1.  ]),\n",
              " <a list of 50 Patch objects>)"
            ]
          },
          "metadata": {
            "tags": []
          },
          "execution_count": 22
        },
        {
          "output_type": "display_data",
          "data": {
            "image/png": "[encoded data removed]",
            "text/plain": [
              "<Figure size 432x288 with 1 Axes>"
            ]
          },
          "metadata": {
            "tags": []
          }
        }
      ]
    },
    {
      "cell_type": "code",
      "metadata": {
        "colab": {
          "base_uri": "https://localhost:8080/",
          "height": 0
        },
        "id": "vJPhhKm2_ckK",
        "outputId": "56cad939-d7f6-447f-f292-d9d535424380"
      },
      "source": [
        "plt.hist(loan_data_defaults['CCF'],bins=100)"
      ],
      "execution_count": 23,
      "outputs": [
        {
          "output_type": "execute_result",
          "data": {
            "text/plain": [
              "(array([   3.,   17.,   16.,   44.,   16.,   13.,   71.,   26.,    7.,\n",
              "          63.,   67.,   17.,   60.,   90.,   23.,   55.,   82.,   42.,\n",
              "          47.,  123.,   82.,   70.,  122.,   86.,   89.,  110.,  117.,\n",
              "         111.,  122.,  120.,  135.,  141.,  154.,  146.,  160.,  175.,\n",
              "         152.,  187.,  202.,  174.,  204.,  208.,  210.,  211.,  241.,\n",
              "         264.,  281.,  224.,  308.,  267.,  287.,  296.,  340.,  274.,\n",
              "         365.,  370.,  392.,  364.,  393.,  419.,  411.,  429.,  445.,\n",
              "         497.,  481.,  478.,  569.,  568.,  599.,  618.,  727.,  691.,\n",
              "         626.,  805.,  804.,  776.,  881.,  851.,  916.,  934.,  925.,\n",
              "        1078.,  933., 1218., 1041., 1082., 1336., 1040., 1374., 1073.,\n",
              "        1406., 1287.,  952., 1414.,  795., 1320.,  578.,  949.,  343.,\n",
              "         531.]),\n",
              " array([4.3800000e-04, 1.0433620e-02, 2.0429240e-02, 3.0424860e-02,\n",
              "        4.0420480e-02, 5.0416100e-02, 6.0411720e-02, 7.0407340e-02,\n",
              "        8.0402960e-02, 9.0398580e-02, 1.0039420e-01, 1.1038982e-01,\n",
              "        1.2038544e-01, 1.3038106e-01, 1.4037668e-01, 1.5037230e-01,\n",
              "        1.6036792e-01, 1.7036354e-01, 1.8035916e-01, 1.9035478e-01,\n",
              "        2.0035040e-01, 2.1034602e-01, 2.2034164e-01, 2.3033726e-01,\n",
              "        2.4033288e-01, 2.5032850e-01, 2.6032412e-01, 2.7031974e-01,\n",
              "        2.8031536e-01, 2.9031098e-01, 3.0030660e-01, 3.1030222e-01,\n",
              "        3.2029784e-01, 3.3029346e-01, 3.4028908e-01, 3.5028470e-01,\n",
              "        3.6028032e-01, 3.7027594e-01, 3.8027156e-01, 3.9026718e-01,\n",
              "        4.0026280e-01, 4.1025842e-01, 4.2025404e-01, 4.3024966e-01,\n",
              "        4.4024528e-01, 4.5024090e-01, 4.6023652e-01, 4.7023214e-01,\n",
              "        4.8022776e-01, 4.9022338e-01, 5.0021900e-01, 5.1021462e-01,\n",
              "        5.2021024e-01, 5.3020586e-01, 5.4020148e-01, 5.5019710e-01,\n",
              "        5.6019272e-01, 5.7018834e-01, 5.8018396e-01, 5.9017958e-01,\n",
              "        6.0017520e-01, 6.1017082e-01, 6.2016644e-01, 6.3016206e-01,\n",
              "        6.4015768e-01, 6.5015330e-01, 6.6014892e-01, 6.7014454e-01,\n",
              "        6.8014016e-01, 6.9013578e-01, 7.0013140e-01, 7.1012702e-01,\n",
              "        7.2012264e-01, 7.3011826e-01, 7.4011388e-01, 7.5010950e-01,\n",
              "        7.6010512e-01, 7.7010074e-01, 7.8009636e-01, 7.9009198e-01,\n",
              "        8.0008760e-01, 8.1008322e-01, 8.2007884e-01, 8.3007446e-01,\n",
              "        8.4007008e-01, 8.5006570e-01, 8.6006132e-01, 8.7005694e-01,\n",
              "        8.8005256e-01, 8.9004818e-01, 9.0004380e-01, 9.1003942e-01,\n",
              "        9.2003504e-01, 9.3003066e-01, 9.4002628e-01, 9.5002190e-01,\n",
              "        9.6001752e-01, 9.7001314e-01, 9.8000876e-01, 9.9000438e-01,\n",
              "        1.0000000e+00]),\n",
              " <a list of 100 Patch objects>)"
            ]
          },
          "metadata": {
            "tags": []
          },
          "execution_count": 23
        },
        {
          "output_type": "display_data",
          "data": {
            "image/png": "[encoded data removed]",
            "text/plain": [
              "<Figure size 432x288 with 1 Axes>"
            ]
          },
          "metadata": {
            "tags": []
          }
        }
      ]
    },
    {
      "cell_type": "code",
      "metadata": {
        "colab": {
          "base_uri": "https://localhost:8080/"
        },
        "id": "OlH3xkHiv8qA",
        "outputId": "5995314a-618e-4e7f-cdab-ad317d4ee07c"
      },
      "source": [
        "loan_data_defaults['recovery_rate_0_1']=np.where(loan_data_defaults['recovery rate']==0,0,1)"
      ],
      "execution_count": 24,
      "outputs": [
        {
          "output_type": "stream",
          "text": [
            "/usr/local/lib/python3.7/dist-packages/ipykernel_launcher.py:1: SettingWithCopyWarning: \n",
            "A value is trying to be set on a copy of a slice from a DataFrame.\n",
            "Try using .loc[row_indexer,col_indexer] = value instead\n",
            "\n",
            "See the caveats in the documentation: https://pandas.pydata.org/pandas-docs/stable/user_guide/indexing.html#returning-a-view-versus-a-copy\n",
            "  \"\"\"Entry point for launching an IPython kernel.\n"
          ],
          "name": "stderr"
        }
      ]
    },
    {
      "cell_type": "markdown",
      "metadata": {
        "id": "JVnJFGw3ZENA"
      },
      "source": [
        "# LGD Model"
      ]
    },
    {
      "cell_type": "markdown",
      "metadata": {
        "id": "X4YzBkyUZENA"
      },
      "source": [
        "### Splitting Data"
      ]
    },
    {
      "cell_type": "code",
      "metadata": {
        "id": "QaFsR8DaZENB"
      },
      "source": [
        "from sklearn.model_selection import train_test_split"
      ],
      "execution_count": 25,
      "outputs": []
    },
    {
      "cell_type": "code",
      "metadata": {
        "id": "MqAQCSFoZENB"
      },
      "source": [
        "# LGD model stage 1 datasets: recovery rate 0 or greater than 0.\n",
        "lgd_inputs_stage_1_train, lgd_inputs_stage_1_test, lgd_targets_stage_1_train, lgd_targets_stage_1_test = train_test_split(loan_data_defaults.drop(['good_bad', 'recovery rate','recovery_rate_0_1', 'CCF'], axis = 1), loan_data_defaults['recovery_rate_0_1'], test_size = 0.2, random_state = 42)\n",
        "# Takes a set of inputs and a set of targets as arguments. Splits the inputs and the targets into four dataframes:\n",
        "# Inputs - Train, Inputs - Test, Targets - Train, Targets - Test."
      ],
      "execution_count": 26,
      "outputs": []
    },
    {
      "cell_type": "markdown",
      "metadata": {
        "id": "B216xWO7ZENC"
      },
      "source": [
        "### Preparing the Inputs"
      ]
    },
    {
      "cell_type": "code",
      "metadata": {
        "id": "iRcZ1jcAZENC"
      },
      "source": [
        "features_all = ['grade:A',\n",
        "'grade:B',\n",
        "'grade:C',\n",
        "'grade:D',\n",
        "'grade:E',\n",
        "'grade:F',\n",
        "'grade:G',\n",
        "'home_ownership:MORTGAGE',\n",
        "'home_ownership:NONE',\n",
        "'home_ownership:OTHER',\n",
        "'home_ownership:OWN',\n",
        "'home_ownership:RENT',\n",
        "'verification_status:Not Verified',\n",
        "'verification_status:Source Verified',\n",
        "'verification_status:Verified',\n",
        "'purpose:car',\n",
        "'purpose:credit_card',\n",
        "'purpose:debt_consolidation',\n",
        "'purpose:educational',\n",
        "'purpose:home_improvement',\n",
        "'purpose:house',\n",
        "'purpose:major_purchase',\n",
        "'purpose:medical',\n",
        "'purpose:moving',\n",
        "'purpose:other',\n",
        "'purpose:renewable_energy',\n",
        "'purpose:small_business',\n",
        "'purpose:vacation',\n",
        "'purpose:wedding',\n",
        "'initial_list_status:f',\n",
        "'initial_list_status:w',\n",
        "'term_int',\n",
        "'emp_length_int',\n",
        "'mths_since_issue_d',\n",
        "'mths_since_earliest_cr_line',\n",
        "'funded_amnt',\n",
        "'int_rate',\n",
        "'installment',\n",
        "'annual_inc',\n",
        "'dti',\n",
        "'delinq_2yrs',\n",
        "'inq_last_6mths',\n",
        "'mths_since_last_delinq',\n",
        "'mths_since_last_record',\n",
        "'open_acc',\n",
        "'pub_rec',\n",
        "'total_acc',\n",
        "'acc_now_delinq',\n",
        "'total_rev_hi_lim']\n",
        "# List of all independent variables for the models."
      ],
      "execution_count": 27,
      "outputs": []
    },
    {
      "cell_type": "code",
      "metadata": {
        "id": "V45r_iZoZEND"
      },
      "source": [
        "features_reference_cat = ['grade:G',\n",
        "'home_ownership:RENT',\n",
        "'verification_status:Verified',\n",
        "'purpose:credit_card',\n",
        "'initial_list_status:f']\n",
        "# List of the dummy variable reference categories. "
      ],
      "execution_count": 28,
      "outputs": []
    },
    {
      "cell_type": "code",
      "metadata": {
        "id": "D6nr3EEzZEND"
      },
      "source": [
        "lgd_inputs_stage_1_train = lgd_inputs_stage_1_train[features_all]\n",
        "# Here we keep only the variables we need for the model."
      ],
      "execution_count": 29,
      "outputs": []
    },
    {
      "cell_type": "code",
      "metadata": {
        "id": "UH0jZWNFZENE"
      },
      "source": [
        "lgd_inputs_stage_1_train = lgd_inputs_stage_1_train.drop(features_reference_cat, axis = 1)\n",
        "# Here we remove the dummy variable reference categories."
      ],
      "execution_count": 30,
      "outputs": []
    },
    {
      "cell_type": "code",
      "metadata": {
        "id": "1zKbLE6DZENE",
        "colab": {
          "base_uri": "https://localhost:8080/"
        },
        "outputId": "09ded383-49e9-4552-fce4-78f0fd50c7b3"
      },
      "source": [
        "lgd_inputs_stage_1_train.isnull().sum()\n",
        "# Check for missing values. We check whether the value of each row for each column is missing or not,\n",
        "# then sum accross columns."
      ],
      "execution_count": 31,
      "outputs": [
        {
          "output_type": "execute_result",
          "data": {
            "text/plain": [
              "grade:A                                0\n",
              "grade:B                                0\n",
              "grade:C                                0\n",
              "grade:D                                0\n",
              "grade:E                                0\n",
              "grade:F                                0\n",
              "home_ownership:MORTGAGE                0\n",
              "home_ownership:NONE                    0\n",
              "home_ownership:OTHER                   0\n",
              "home_ownership:OWN                     0\n",
              "verification_status:Not Verified       0\n",
              "verification_status:Source Verified    0\n",
              "purpose:car                            0\n",
              "purpose:debt_consolidation             0\n",
              "purpose:educational                    0\n",
              "purpose:home_improvement               0\n",
              "purpose:house                          0\n",
              "purpose:major_purchase                 0\n",
              "purpose:medical                        0\n",
              "purpose:moving                         0\n",
              "purpose:other                          0\n",
              "purpose:renewable_energy               0\n",
              "purpose:small_business                 0\n",
              "purpose:vacation                       0\n",
              "purpose:wedding                        0\n",
              "initial_list_status:w                  0\n",
              "term_int                               0\n",
              "emp_length_int                         0\n",
              "mths_since_issue_d                     0\n",
              "mths_since_earliest_cr_line            0\n",
              "funded_amnt                            0\n",
              "int_rate                               0\n",
              "installment                            0\n",
              "annual_inc                             0\n",
              "dti                                    0\n",
              "delinq_2yrs                            0\n",
              "inq_last_6mths                         0\n",
              "mths_since_last_delinq                 0\n",
              "mths_since_last_record                 0\n",
              "open_acc                               0\n",
              "pub_rec                                0\n",
              "total_acc                              0\n",
              "acc_now_delinq                         0\n",
              "total_rev_hi_lim                       0\n",
              "dtype: int64"
            ]
          },
          "metadata": {
            "tags": []
          },
          "execution_count": 31
        }
      ]
    },
    {
      "cell_type": "markdown",
      "metadata": {
        "id": "P-uw7lYwZENF"
      },
      "source": [
        "### Estimating the Model"
      ]
    },
    {
      "cell_type": "code",
      "metadata": {
        "id": "74J5unq9ZENF"
      },
      "source": [
        "# P values for sklearn logistic regression.\n",
        "\n",
        "# Class to display p-values for logistic regression in sklearn.\n",
        "\n",
        "from sklearn import linear_model\n",
        "import scipy.stats as stat\n",
        "\n",
        "class LogisticRegression_with_p_values:\n",
        "    \n",
        "    def __init__(self,*args,**kwargs):#,**kwargs):\n",
        "        self.model = linear_model.LogisticRegression(*args,**kwargs)#,**args)\n",
        "\n",
        "    def fit(self,X,y):\n",
        "        self.model.fit(X,y)\n",
        "        \n",
        "        #### Get p-values for the fitted model ####\n",
        "        denom = (2.0 * (1.0 + np.cosh(self.model.decision_function(X))))\n",
        "        denom = np.tile(denom,(X.shape[1],1)).T\n",
        "        F_ij = np.dot((X / denom).T,X) ## Fisher Information Matrix\n",
        "        Cramer_Rao = np.linalg.inv(F_ij) ## Inverse Information Matrix\n",
        "        sigma_estimates = np.sqrt(np.diagonal(Cramer_Rao))\n",
        "        z_scores = self.model.coef_[0] / sigma_estimates # z-score for eaach model coefficient\n",
        "        p_values = [stat.norm.sf(abs(x)) * 2 for x in z_scores] ### two tailed test for p-values\n",
        "        \n",
        "        self.coef_ = self.model.coef_\n",
        "        self.intercept_ = self.model.intercept_\n",
        "        #self.z_scores = z_scores\n",
        "        self.p_values = p_values\n",
        "        #self.sigma_estimates = sigma_estimates\n",
        "        #self.F_ij = F_ij"
      ],
      "execution_count": 32,
      "outputs": []
    },
    {
      "cell_type": "code",
      "metadata": {
        "id": "k1Ec-La7ZENG"
      },
      "source": [
        "reg_lgd_st_1 = LogisticRegression_with_p_values(max_iter=400)\n",
        "# We create an instance of an object from the 'LogisticRegression' class.\n",
        "reg_lgd_st_1.fit(lgd_inputs_stage_1_train, lgd_targets_stage_1_train)\n",
        "# Estimates the coefficients of the object from the 'LogisticRegression' class\n",
        "# with inputs (independent variables) contained in the first dataframe\n",
        "# and targets (dependent variables) contained in the second dataframe."
      ],
      "execution_count": 33,
      "outputs": []
    },
    {
      "cell_type": "code",
      "metadata": {
        "id": "XqZsvXugZENG"
      },
      "source": [
        "feature_name = lgd_inputs_stage_1_train.columns.values\n",
        "# Stores the names of the columns of a dataframe in a variable."
      ],
      "execution_count": 34,
      "outputs": []
    },
    {
      "cell_type": "code",
      "metadata": {
        "id": "CWoisKoUZENH",
        "colab": {
          "base_uri": "https://localhost:8080/",
          "height": 1000
        },
        "outputId": "3d008a50-2465-4880-c8fc-3efe351372b3"
      },
      "source": [
        "summary_table = pd.DataFrame(columns = ['Feature name'], data = feature_name)\n",
        "# Creates a dataframe with a column titled 'Feature name' and row values contained in the 'feature_name' variable.\n",
        "summary_table['Coefficients'] = np.transpose(reg_lgd_st_1.coef_)\n",
        "# Creates a new column in the dataframe, called 'Coefficients',\n",
        "# with row values the transposed coefficients from the 'LogisticRegression' object.\n",
        "summary_table.index = summary_table.index + 1\n",
        "# Increases the index of every row of the dataframe with 1.\n",
        "summary_table.loc[0] = ['Intercept', reg_lgd_st_1.intercept_[0]]\n",
        "# Assigns values of the row with index 0 of the dataframe.\n",
        "summary_table = summary_table.sort_index()\n",
        "# Sorts the dataframe by index.\n",
        "p_values = reg_lgd_st_1.p_values\n",
        "# We take the result of the newly added method 'p_values' and store it in a variable 'p_values'.\n",
        "p_values = np.append(np.nan,np.array(p_values))\n",
        "# We add the value 'NaN' in the beginning of the variable with p-values.\n",
        "summary_table['p_values'] = p_values\n",
        "# In the 'summary_table' dataframe, we add a new column, called 'p_values', containing the values from the 'p_values' variable.\n",
        "summary_table"
      ],
      "execution_count": 35,
      "outputs": [
        {
          "output_type": "execute_result",
          "data": {
            "text/html": [
              "<div>\n",
              "<style scoped>\n",
              "    .dataframe tbody tr th:only-of-type {\n",
              "        vertical-align: middle;\n",
              "    }\n",
              "\n",
              "    .dataframe tbody tr th {\n",
              "        vertical-align: top;\n",
              "    }\n",
              "\n",
              "    .dataframe thead th {\n",
              "        text-align: right;\n",
              "    }\n",
              "</style>\n",
              "<table border=\"1\" class=\"dataframe\">\n",
              "  <thead>\n",
              "    <tr style=\"text-align: right;\">\n",
              "      <th></th>\n",
              "      <th>Feature name</th>\n",
              "      <th>Coefficients</th>\n",
              "      <th>p_values</th>\n",
              "    </tr>\n",
              "  </thead>\n",
              "  <tbody>\n",
              "    <tr>\n",
              "      <th>0</th>\n",
              "      <td>Intercept</td>\n",
              "      <td>-3.905807e-04</td>\n",
              "      <td>NaN</td>\n",
              "    </tr>\n",
              "    <tr>\n",
              "      <th>1</th>\n",
              "      <td>grade:A</td>\n",
              "      <td>-6.023837e-05</td>\n",
              "      <td>9.994385e-01</td>\n",
              "    </tr>\n",
              "    <tr>\n",
              "      <th>2</th>\n",
              "      <td>grade:B</td>\n",
              "      <td>-2.610652e-04</td>\n",
              "      <td>9.969833e-01</td>\n",
              "    </tr>\n",
              "    <tr>\n",
              "      <th>3</th>\n",
              "      <td>grade:C</td>\n",
              "      <td>-4.074223e-04</td>\n",
              "      <td>9.951143e-01</td>\n",
              "    </tr>\n",
              "    <tr>\n",
              "      <th>4</th>\n",
              "      <td>grade:D</td>\n",
              "      <td>4.147078e-05</td>\n",
              "      <td>9.995220e-01</td>\n",
              "    </tr>\n",
              "    <tr>\n",
              "      <th>5</th>\n",
              "      <td>grade:E</td>\n",
              "      <td>4.812659e-05</td>\n",
              "      <td>9.994970e-01</td>\n",
              "    </tr>\n",
              "    <tr>\n",
              "      <th>6</th>\n",
              "      <td>grade:F</td>\n",
              "      <td>2.125030e-04</td>\n",
              "      <td>9.980668e-01</td>\n",
              "    </tr>\n",
              "    <tr>\n",
              "      <th>7</th>\n",
              "      <td>home_ownership:MORTGAGE</td>\n",
              "      <td>-9.076806e-05</td>\n",
              "      <td>9.971688e-01</td>\n",
              "    </tr>\n",
              "    <tr>\n",
              "      <th>8</th>\n",
              "      <td>home_ownership:NONE</td>\n",
              "      <td>2.435875e-06</td>\n",
              "      <td>9.999976e-01</td>\n",
              "    </tr>\n",
              "    <tr>\n",
              "      <th>9</th>\n",
              "      <td>home_ownership:OTHER</td>\n",
              "      <td>-2.632520e-07</td>\n",
              "      <td>9.999995e-01</td>\n",
              "    </tr>\n",
              "    <tr>\n",
              "      <th>10</th>\n",
              "      <td>home_ownership:OWN</td>\n",
              "      <td>-1.958221e-05</td>\n",
              "      <td>9.996241e-01</td>\n",
              "    </tr>\n",
              "    <tr>\n",
              "      <th>11</th>\n",
              "      <td>verification_status:Not Verified</td>\n",
              "      <td>-3.236585e-04</td>\n",
              "      <td>9.914719e-01</td>\n",
              "    </tr>\n",
              "    <tr>\n",
              "      <th>12</th>\n",
              "      <td>verification_status:Source Verified</td>\n",
              "      <td>-4.750773e-04</td>\n",
              "      <td>9.861712e-01</td>\n",
              "    </tr>\n",
              "    <tr>\n",
              "      <th>13</th>\n",
              "      <td>purpose:car</td>\n",
              "      <td>2.676080e-05</td>\n",
              "      <td>9.998190e-01</td>\n",
              "    </tr>\n",
              "    <tr>\n",
              "      <th>14</th>\n",
              "      <td>purpose:debt_consolidation</td>\n",
              "      <td>-4.526129e-04</td>\n",
              "      <td>9.881561e-01</td>\n",
              "    </tr>\n",
              "    <tr>\n",
              "      <th>15</th>\n",
              "      <td>purpose:educational</td>\n",
              "      <td>-1.847378e-06</td>\n",
              "      <td>9.999953e-01</td>\n",
              "    </tr>\n",
              "    <tr>\n",
              "      <th>16</th>\n",
              "      <td>purpose:home_improvement</td>\n",
              "      <td>2.411950e-05</td>\n",
              "      <td>9.996663e-01</td>\n",
              "    </tr>\n",
              "    <tr>\n",
              "      <th>17</th>\n",
              "      <td>purpose:house</td>\n",
              "      <td>2.903838e-05</td>\n",
              "      <td>9.998402e-01</td>\n",
              "    </tr>\n",
              "    <tr>\n",
              "      <th>18</th>\n",
              "      <td>purpose:major_purchase</td>\n",
              "      <td>4.054428e-05</td>\n",
              "      <td>9.996303e-01</td>\n",
              "    </tr>\n",
              "    <tr>\n",
              "      <th>19</th>\n",
              "      <td>purpose:medical</td>\n",
              "      <td>1.479272e-06</td>\n",
              "      <td>9.999890e-01</td>\n",
              "    </tr>\n",
              "    <tr>\n",
              "      <th>20</th>\n",
              "      <td>purpose:moving</td>\n",
              "      <td>5.956302e-06</td>\n",
              "      <td>9.999608e-01</td>\n",
              "    </tr>\n",
              "    <tr>\n",
              "      <th>21</th>\n",
              "      <td>purpose:other</td>\n",
              "      <td>8.433400e-05</td>\n",
              "      <td>9.987364e-01</td>\n",
              "    </tr>\n",
              "    <tr>\n",
              "      <th>22</th>\n",
              "      <td>purpose:renewable_energy</td>\n",
              "      <td>8.332834e-06</td>\n",
              "      <td>9.999807e-01</td>\n",
              "    </tr>\n",
              "    <tr>\n",
              "      <th>23</th>\n",
              "      <td>purpose:small_business</td>\n",
              "      <td>1.200363e-04</td>\n",
              "      <td>9.986864e-01</td>\n",
              "    </tr>\n",
              "    <tr>\n",
              "      <th>24</th>\n",
              "      <td>purpose:vacation</td>\n",
              "      <td>9.380072e-06</td>\n",
              "      <td>9.999486e-01</td>\n",
              "    </tr>\n",
              "    <tr>\n",
              "      <th>25</th>\n",
              "      <td>purpose:wedding</td>\n",
              "      <td>2.462391e-05</td>\n",
              "      <td>9.998686e-01</td>\n",
              "    </tr>\n",
              "    <tr>\n",
              "      <th>26</th>\n",
              "      <td>initial_list_status:w</td>\n",
              "      <td>-2.087499e-03</td>\n",
              "      <td>9.384769e-01</td>\n",
              "    </tr>\n",
              "    <tr>\n",
              "      <th>27</th>\n",
              "      <td>term_int</td>\n",
              "      <td>-9.724267e-03</td>\n",
              "      <td>1.150945e-04</td>\n",
              "    </tr>\n",
              "    <tr>\n",
              "      <th>28</th>\n",
              "      <td>emp_length_int</td>\n",
              "      <td>-1.228887e-03</td>\n",
              "      <td>6.907883e-01</td>\n",
              "    </tr>\n",
              "    <tr>\n",
              "      <th>29</th>\n",
              "      <td>mths_since_issue_d</td>\n",
              "      <td>2.549401e-02</td>\n",
              "      <td>3.030918e-172</td>\n",
              "    </tr>\n",
              "    <tr>\n",
              "      <th>30</th>\n",
              "      <td>mths_since_earliest_cr_line</td>\n",
              "      <td>-1.281139e-03</td>\n",
              "      <td>2.394346e-18</td>\n",
              "    </tr>\n",
              "    <tr>\n",
              "      <th>31</th>\n",
              "      <td>funded_amnt</td>\n",
              "      <td>4.934884e-05</td>\n",
              "      <td>9.477596e-07</td>\n",
              "    </tr>\n",
              "    <tr>\n",
              "      <th>32</th>\n",
              "      <td>int_rate</td>\n",
              "      <td>-2.256118e-04</td>\n",
              "      <td>9.693268e-01</td>\n",
              "    </tr>\n",
              "    <tr>\n",
              "      <th>33</th>\n",
              "      <td>installment</td>\n",
              "      <td>-1.027976e-03</td>\n",
              "      <td>1.018032e-03</td>\n",
              "    </tr>\n",
              "    <tr>\n",
              "      <th>34</th>\n",
              "      <td>annual_inc</td>\n",
              "      <td>4.991789e-07</td>\n",
              "      <td>1.561759e-01</td>\n",
              "    </tr>\n",
              "    <tr>\n",
              "      <th>35</th>\n",
              "      <td>dti</td>\n",
              "      <td>-1.453067e-02</td>\n",
              "      <td>9.437672e-19</td>\n",
              "    </tr>\n",
              "    <tr>\n",
              "      <th>36</th>\n",
              "      <td>delinq_2yrs</td>\n",
              "      <td>-7.513800e-05</td>\n",
              "      <td>9.959357e-01</td>\n",
              "    </tr>\n",
              "    <tr>\n",
              "      <th>37</th>\n",
              "      <td>inq_last_6mths</td>\n",
              "      <td>3.247026e-04</td>\n",
              "      <td>9.730761e-01</td>\n",
              "    </tr>\n",
              "    <tr>\n",
              "      <th>38</th>\n",
              "      <td>mths_since_last_delinq</td>\n",
              "      <td>1.788426e-05</td>\n",
              "      <td>9.721333e-01</td>\n",
              "    </tr>\n",
              "    <tr>\n",
              "      <th>39</th>\n",
              "      <td>mths_since_last_record</td>\n",
              "      <td>-3.906146e-03</td>\n",
              "      <td>3.674921e-10</td>\n",
              "    </tr>\n",
              "    <tr>\n",
              "      <th>40</th>\n",
              "      <td>open_acc</td>\n",
              "      <td>-5.571665e-03</td>\n",
              "      <td>9.127785e-02</td>\n",
              "    </tr>\n",
              "    <tr>\n",
              "      <th>41</th>\n",
              "      <td>pub_rec</td>\n",
              "      <td>-9.585114e-05</td>\n",
              "      <td>9.980776e-01</td>\n",
              "    </tr>\n",
              "    <tr>\n",
              "      <th>42</th>\n",
              "      <td>total_acc</td>\n",
              "      <td>-1.219456e-02</td>\n",
              "      <td>9.197372e-17</td>\n",
              "    </tr>\n",
              "    <tr>\n",
              "      <th>43</th>\n",
              "      <td>acc_now_delinq</td>\n",
              "      <td>1.153962e-05</td>\n",
              "      <td>9.999476e-01</td>\n",
              "    </tr>\n",
              "    <tr>\n",
              "      <th>44</th>\n",
              "      <td>total_rev_hi_lim</td>\n",
              "      <td>-1.435971e-06</td>\n",
              "      <td>2.937176e-02</td>\n",
              "    </tr>\n",
              "  </tbody>\n",
              "</table>\n",
              "</div>"
            ],
            "text/plain": [
              "                           Feature name  Coefficients       p_values\n",
              "0                             Intercept -3.905807e-04            NaN\n",
              "1                               grade:A -6.023837e-05   9.994385e-01\n",
              "2                               grade:B -2.610652e-04   9.969833e-01\n",
              "3                               grade:C -4.074223e-04   9.951143e-01\n",
              "4                               grade:D  4.147078e-05   9.995220e-01\n",
              "5                               grade:E  4.812659e-05   9.994970e-01\n",
              "6                               grade:F  2.125030e-04   9.980668e-01\n",
              "7               home_ownership:MORTGAGE -9.076806e-05   9.971688e-01\n",
              "8                   home_ownership:NONE  2.435875e-06   9.999976e-01\n",
              "9                  home_ownership:OTHER -2.632520e-07   9.999995e-01\n",
              "10                   home_ownership:OWN -1.958221e-05   9.996241e-01\n",
              "11     verification_status:Not Verified -3.236585e-04   9.914719e-01\n",
              "12  verification_status:Source Verified -4.750773e-04   9.861712e-01\n",
              "13                          purpose:car  2.676080e-05   9.998190e-01\n",
              "14           purpose:debt_consolidation -4.526129e-04   9.881561e-01\n",
              "15                  purpose:educational -1.847378e-06   9.999953e-01\n",
              "16             purpose:home_improvement  2.411950e-05   9.996663e-01\n",
              "17                        purpose:house  2.903838e-05   9.998402e-01\n",
              "18               purpose:major_purchase  4.054428e-05   9.996303e-01\n",
              "19                      purpose:medical  1.479272e-06   9.999890e-01\n",
              "20                       purpose:moving  5.956302e-06   9.999608e-01\n",
              "21                        purpose:other  8.433400e-05   9.987364e-01\n",
              "22             purpose:renewable_energy  8.332834e-06   9.999807e-01\n",
              "23               purpose:small_business  1.200363e-04   9.986864e-01\n",
              "24                     purpose:vacation  9.380072e-06   9.999486e-01\n",
              "25                      purpose:wedding  2.462391e-05   9.998686e-01\n",
              "26                initial_list_status:w -2.087499e-03   9.384769e-01\n",
              "27                             term_int -9.724267e-03   1.150945e-04\n",
              "28                       emp_length_int -1.228887e-03   6.907883e-01\n",
              "29                   mths_since_issue_d  2.549401e-02  3.030918e-172\n",
              "30          mths_since_earliest_cr_line -1.281139e-03   2.394346e-18\n",
              "31                          funded_amnt  4.934884e-05   9.477596e-07\n",
              "32                             int_rate -2.256118e-04   9.693268e-01\n",
              "33                          installment -1.027976e-03   1.018032e-03\n",
              "34                           annual_inc  4.991789e-07   1.561759e-01\n",
              "35                                  dti -1.453067e-02   9.437672e-19\n",
              "36                          delinq_2yrs -7.513800e-05   9.959357e-01\n",
              "37                       inq_last_6mths  3.247026e-04   9.730761e-01\n",
              "38               mths_since_last_delinq  1.788426e-05   9.721333e-01\n",
              "39               mths_since_last_record -3.906146e-03   3.674921e-10\n",
              "40                             open_acc -5.571665e-03   9.127785e-02\n",
              "41                              pub_rec -9.585114e-05   9.980776e-01\n",
              "42                            total_acc -1.219456e-02   9.197372e-17\n",
              "43                       acc_now_delinq  1.153962e-05   9.999476e-01\n",
              "44                     total_rev_hi_lim -1.435971e-06   2.937176e-02"
            ]
          },
          "metadata": {
            "tags": []
          },
          "execution_count": 35
        }
      ]
    },
    {
      "cell_type": "code",
      "metadata": {
        "id": "SFraSK9aZENI",
        "colab": {
          "base_uri": "https://localhost:8080/",
          "height": 1000
        },
        "outputId": "aef6fdcd-ac9a-44a2-fdfd-906d7544708b"
      },
      "source": [
        "summary_table = pd.DataFrame(columns = ['Feature name'], data = feature_name)\n",
        "summary_table['Coefficients'] = np.transpose(reg_lgd_st_1.coef_)\n",
        "summary_table.index = summary_table.index + 1\n",
        "summary_table.loc[0] = ['Intercept', reg_lgd_st_1.intercept_[0]]\n",
        "summary_table = summary_table.sort_index()\n",
        "p_values = reg_lgd_st_1.p_values\n",
        "p_values = np.append(np.nan,np.array(p_values))\n",
        "summary_table['p_values'] = p_values\n",
        "summary_table"
      ],
      "execution_count": 36,
      "outputs": [
        {
          "output_type": "execute_result",
          "data": {
            "text/html": [
              "<div>\n",
              "<style scoped>\n",
              "    .dataframe tbody tr th:only-of-type {\n",
              "        vertical-align: middle;\n",
              "    }\n",
              "\n",
              "    .dataframe tbody tr th {\n",
              "        vertical-align: top;\n",
              "    }\n",
              "\n",
              "    .dataframe thead th {\n",
              "        text-align: right;\n",
              "    }\n",
              "</style>\n",
              "<table border=\"1\" class=\"dataframe\">\n",
              "  <thead>\n",
              "    <tr style=\"text-align: right;\">\n",
              "      <th></th>\n",
              "      <th>Feature name</th>\n",
              "      <th>Coefficients</th>\n",
              "      <th>p_values</th>\n",
              "    </tr>\n",
              "  </thead>\n",
              "  <tbody>\n",
              "    <tr>\n",
              "      <th>0</th>\n",
              "      <td>Intercept</td>\n",
              "      <td>-3.905807e-04</td>\n",
              "      <td>NaN</td>\n",
              "    </tr>\n",
              "    <tr>\n",
              "      <th>1</th>\n",
              "      <td>grade:A</td>\n",
              "      <td>-6.023837e-05</td>\n",
              "      <td>9.994385e-01</td>\n",
              "    </tr>\n",
              "    <tr>\n",
              "      <th>2</th>\n",
              "      <td>grade:B</td>\n",
              "      <td>-2.610652e-04</td>\n",
              "      <td>9.969833e-01</td>\n",
              "    </tr>\n",
              "    <tr>\n",
              "      <th>3</th>\n",
              "      <td>grade:C</td>\n",
              "      <td>-4.074223e-04</td>\n",
              "      <td>9.951143e-01</td>\n",
              "    </tr>\n",
              "    <tr>\n",
              "      <th>4</th>\n",
              "      <td>grade:D</td>\n",
              "      <td>4.147078e-05</td>\n",
              "      <td>9.995220e-01</td>\n",
              "    </tr>\n",
              "    <tr>\n",
              "      <th>5</th>\n",
              "      <td>grade:E</td>\n",
              "      <td>4.812659e-05</td>\n",
              "      <td>9.994970e-01</td>\n",
              "    </tr>\n",
              "    <tr>\n",
              "      <th>6</th>\n",
              "      <td>grade:F</td>\n",
              "      <td>2.125030e-04</td>\n",
              "      <td>9.980668e-01</td>\n",
              "    </tr>\n",
              "    <tr>\n",
              "      <th>7</th>\n",
              "      <td>home_ownership:MORTGAGE</td>\n",
              "      <td>-9.076806e-05</td>\n",
              "      <td>9.971688e-01</td>\n",
              "    </tr>\n",
              "    <tr>\n",
              "      <th>8</th>\n",
              "      <td>home_ownership:NONE</td>\n",
              "      <td>2.435875e-06</td>\n",
              "      <td>9.999976e-01</td>\n",
              "    </tr>\n",
              "    <tr>\n",
              "      <th>9</th>\n",
              "      <td>home_ownership:OTHER</td>\n",
              "      <td>-2.632520e-07</td>\n",
              "      <td>9.999995e-01</td>\n",
              "    </tr>\n",
              "    <tr>\n",
              "      <th>10</th>\n",
              "      <td>home_ownership:OWN</td>\n",
              "      <td>-1.958221e-05</td>\n",
              "      <td>9.996241e-01</td>\n",
              "    </tr>\n",
              "    <tr>\n",
              "      <th>11</th>\n",
              "      <td>verification_status:Not Verified</td>\n",
              "      <td>-3.236585e-04</td>\n",
              "      <td>9.914719e-01</td>\n",
              "    </tr>\n",
              "    <tr>\n",
              "      <th>12</th>\n",
              "      <td>verification_status:Source Verified</td>\n",
              "      <td>-4.750773e-04</td>\n",
              "      <td>9.861712e-01</td>\n",
              "    </tr>\n",
              "    <tr>\n",
              "      <th>13</th>\n",
              "      <td>purpose:car</td>\n",
              "      <td>2.676080e-05</td>\n",
              "      <td>9.998190e-01</td>\n",
              "    </tr>\n",
              "    <tr>\n",
              "      <th>14</th>\n",
              "      <td>purpose:debt_consolidation</td>\n",
              "      <td>-4.526129e-04</td>\n",
              "      <td>9.881561e-01</td>\n",
              "    </tr>\n",
              "    <tr>\n",
              "      <th>15</th>\n",
              "      <td>purpose:educational</td>\n",
              "      <td>-1.847378e-06</td>\n",
              "      <td>9.999953e-01</td>\n",
              "    </tr>\n",
              "    <tr>\n",
              "      <th>16</th>\n",
              "      <td>purpose:home_improvement</td>\n",
              "      <td>2.411950e-05</td>\n",
              "      <td>9.996663e-01</td>\n",
              "    </tr>\n",
              "    <tr>\n",
              "      <th>17</th>\n",
              "      <td>purpose:house</td>\n",
              "      <td>2.903838e-05</td>\n",
              "      <td>9.998402e-01</td>\n",
              "    </tr>\n",
              "    <tr>\n",
              "      <th>18</th>\n",
              "      <td>purpose:major_purchase</td>\n",
              "      <td>4.054428e-05</td>\n",
              "      <td>9.996303e-01</td>\n",
              "    </tr>\n",
              "    <tr>\n",
              "      <th>19</th>\n",
              "      <td>purpose:medical</td>\n",
              "      <td>1.479272e-06</td>\n",
              "      <td>9.999890e-01</td>\n",
              "    </tr>\n",
              "    <tr>\n",
              "      <th>20</th>\n",
              "      <td>purpose:moving</td>\n",
              "      <td>5.956302e-06</td>\n",
              "      <td>9.999608e-01</td>\n",
              "    </tr>\n",
              "    <tr>\n",
              "      <th>21</th>\n",
              "      <td>purpose:other</td>\n",
              "      <td>8.433400e-05</td>\n",
              "      <td>9.987364e-01</td>\n",
              "    </tr>\n",
              "    <tr>\n",
              "      <th>22</th>\n",
              "      <td>purpose:renewable_energy</td>\n",
              "      <td>8.332834e-06</td>\n",
              "      <td>9.999807e-01</td>\n",
              "    </tr>\n",
              "    <tr>\n",
              "      <th>23</th>\n",
              "      <td>purpose:small_business</td>\n",
              "      <td>1.200363e-04</td>\n",
              "      <td>9.986864e-01</td>\n",
              "    </tr>\n",
              "    <tr>\n",
              "      <th>24</th>\n",
              "      <td>purpose:vacation</td>\n",
              "      <td>9.380072e-06</td>\n",
              "      <td>9.999486e-01</td>\n",
              "    </tr>\n",
              "    <tr>\n",
              "      <th>25</th>\n",
              "      <td>purpose:wedding</td>\n",
              "      <td>2.462391e-05</td>\n",
              "      <td>9.998686e-01</td>\n",
              "    </tr>\n",
              "    <tr>\n",
              "      <th>26</th>\n",
              "      <td>initial_list_status:w</td>\n",
              "      <td>-2.087499e-03</td>\n",
              "      <td>9.384769e-01</td>\n",
              "    </tr>\n",
              "    <tr>\n",
              "      <th>27</th>\n",
              "      <td>term_int</td>\n",
              "      <td>-9.724267e-03</td>\n",
              "      <td>1.150945e-04</td>\n",
              "    </tr>\n",
              "    <tr>\n",
              "      <th>28</th>\n",
              "      <td>emp_length_int</td>\n",
              "      <td>-1.228887e-03</td>\n",
              "      <td>6.907883e-01</td>\n",
              "    </tr>\n",
              "    <tr>\n",
              "      <th>29</th>\n",
              "      <td>mths_since_issue_d</td>\n",
              "      <td>2.549401e-02</td>\n",
              "      <td>3.030918e-172</td>\n",
              "    </tr>\n",
              "    <tr>\n",
              "      <th>30</th>\n",
              "      <td>mths_since_earliest_cr_line</td>\n",
              "      <td>-1.281139e-03</td>\n",
              "      <td>2.394346e-18</td>\n",
              "    </tr>\n",
              "    <tr>\n",
              "      <th>31</th>\n",
              "      <td>funded_amnt</td>\n",
              "      <td>4.934884e-05</td>\n",
              "      <td>9.477596e-07</td>\n",
              "    </tr>\n",
              "    <tr>\n",
              "      <th>32</th>\n",
              "      <td>int_rate</td>\n",
              "      <td>-2.256118e-04</td>\n",
              "      <td>9.693268e-01</td>\n",
              "    </tr>\n",
              "    <tr>\n",
              "      <th>33</th>\n",
              "      <td>installment</td>\n",
              "      <td>-1.027976e-03</td>\n",
              "      <td>1.018032e-03</td>\n",
              "    </tr>\n",
              "    <tr>\n",
              "      <th>34</th>\n",
              "      <td>annual_inc</td>\n",
              "      <td>4.991789e-07</td>\n",
              "      <td>1.561759e-01</td>\n",
              "    </tr>\n",
              "    <tr>\n",
              "      <th>35</th>\n",
              "      <td>dti</td>\n",
              "      <td>-1.453067e-02</td>\n",
              "      <td>9.437672e-19</td>\n",
              "    </tr>\n",
              "    <tr>\n",
              "      <th>36</th>\n",
              "      <td>delinq_2yrs</td>\n",
              "      <td>-7.513800e-05</td>\n",
              "      <td>9.959357e-01</td>\n",
              "    </tr>\n",
              "    <tr>\n",
              "      <th>37</th>\n",
              "      <td>inq_last_6mths</td>\n",
              "      <td>3.247026e-04</td>\n",
              "      <td>9.730761e-01</td>\n",
              "    </tr>\n",
              "    <tr>\n",
              "      <th>38</th>\n",
              "      <td>mths_since_last_delinq</td>\n",
              "      <td>1.788426e-05</td>\n",
              "      <td>9.721333e-01</td>\n",
              "    </tr>\n",
              "    <tr>\n",
              "      <th>39</th>\n",
              "      <td>mths_since_last_record</td>\n",
              "      <td>-3.906146e-03</td>\n",
              "      <td>3.674921e-10</td>\n",
              "    </tr>\n",
              "    <tr>\n",
              "      <th>40</th>\n",
              "      <td>open_acc</td>\n",
              "      <td>-5.571665e-03</td>\n",
              "      <td>9.127785e-02</td>\n",
              "    </tr>\n",
              "    <tr>\n",
              "      <th>41</th>\n",
              "      <td>pub_rec</td>\n",
              "      <td>-9.585114e-05</td>\n",
              "      <td>9.980776e-01</td>\n",
              "    </tr>\n",
              "    <tr>\n",
              "      <th>42</th>\n",
              "      <td>total_acc</td>\n",
              "      <td>-1.219456e-02</td>\n",
              "      <td>9.197372e-17</td>\n",
              "    </tr>\n",
              "    <tr>\n",
              "      <th>43</th>\n",
              "      <td>acc_now_delinq</td>\n",
              "      <td>1.153962e-05</td>\n",
              "      <td>9.999476e-01</td>\n",
              "    </tr>\n",
              "    <tr>\n",
              "      <th>44</th>\n",
              "      <td>total_rev_hi_lim</td>\n",
              "      <td>-1.435971e-06</td>\n",
              "      <td>2.937176e-02</td>\n",
              "    </tr>\n",
              "  </tbody>\n",
              "</table>\n",
              "</div>"
            ],
            "text/plain": [
              "                           Feature name  Coefficients       p_values\n",
              "0                             Intercept -3.905807e-04            NaN\n",
              "1                               grade:A -6.023837e-05   9.994385e-01\n",
              "2                               grade:B -2.610652e-04   9.969833e-01\n",
              "3                               grade:C -4.074223e-04   9.951143e-01\n",
              "4                               grade:D  4.147078e-05   9.995220e-01\n",
              "5                               grade:E  4.812659e-05   9.994970e-01\n",
              "6                               grade:F  2.125030e-04   9.980668e-01\n",
              "7               home_ownership:MORTGAGE -9.076806e-05   9.971688e-01\n",
              "8                   home_ownership:NONE  2.435875e-06   9.999976e-01\n",
              "9                  home_ownership:OTHER -2.632520e-07   9.999995e-01\n",
              "10                   home_ownership:OWN -1.958221e-05   9.996241e-01\n",
              "11     verification_status:Not Verified -3.236585e-04   9.914719e-01\n",
              "12  verification_status:Source Verified -4.750773e-04   9.861712e-01\n",
              "13                          purpose:car  2.676080e-05   9.998190e-01\n",
              "14           purpose:debt_consolidation -4.526129e-04   9.881561e-01\n",
              "15                  purpose:educational -1.847378e-06   9.999953e-01\n",
              "16             purpose:home_improvement  2.411950e-05   9.996663e-01\n",
              "17                        purpose:house  2.903838e-05   9.998402e-01\n",
              "18               purpose:major_purchase  4.054428e-05   9.996303e-01\n",
              "19                      purpose:medical  1.479272e-06   9.999890e-01\n",
              "20                       purpose:moving  5.956302e-06   9.999608e-01\n",
              "21                        purpose:other  8.433400e-05   9.987364e-01\n",
              "22             purpose:renewable_energy  8.332834e-06   9.999807e-01\n",
              "23               purpose:small_business  1.200363e-04   9.986864e-01\n",
              "24                     purpose:vacation  9.380072e-06   9.999486e-01\n",
              "25                      purpose:wedding  2.462391e-05   9.998686e-01\n",
              "26                initial_list_status:w -2.087499e-03   9.384769e-01\n",
              "27                             term_int -9.724267e-03   1.150945e-04\n",
              "28                       emp_length_int -1.228887e-03   6.907883e-01\n",
              "29                   mths_since_issue_d  2.549401e-02  3.030918e-172\n",
              "30          mths_since_earliest_cr_line -1.281139e-03   2.394346e-18\n",
              "31                          funded_amnt  4.934884e-05   9.477596e-07\n",
              "32                             int_rate -2.256118e-04   9.693268e-01\n",
              "33                          installment -1.027976e-03   1.018032e-03\n",
              "34                           annual_inc  4.991789e-07   1.561759e-01\n",
              "35                                  dti -1.453067e-02   9.437672e-19\n",
              "36                          delinq_2yrs -7.513800e-05   9.959357e-01\n",
              "37                       inq_last_6mths  3.247026e-04   9.730761e-01\n",
              "38               mths_since_last_delinq  1.788426e-05   9.721333e-01\n",
              "39               mths_since_last_record -3.906146e-03   3.674921e-10\n",
              "40                             open_acc -5.571665e-03   9.127785e-02\n",
              "41                              pub_rec -9.585114e-05   9.980776e-01\n",
              "42                            total_acc -1.219456e-02   9.197372e-17\n",
              "43                       acc_now_delinq  1.153962e-05   9.999476e-01\n",
              "44                     total_rev_hi_lim -1.435971e-06   2.937176e-02"
            ]
          },
          "metadata": {
            "tags": []
          },
          "execution_count": 36
        }
      ]
    },
    {
      "cell_type": "markdown",
      "metadata": {
        "id": "Tmb16-N0ZENJ"
      },
      "source": [
        "### Testing the Model"
      ]
    },
    {
      "cell_type": "code",
      "metadata": {
        "id": "BYmp-WyZZENK"
      },
      "source": [
        "lgd_inputs_stage_1_test = lgd_inputs_stage_1_test[features_all]\n",
        "# Here we keep only the variables we need for the model."
      ],
      "execution_count": 37,
      "outputs": []
    },
    {
      "cell_type": "code",
      "metadata": {
        "id": "cJE7tL2_ZENK"
      },
      "source": [
        "lgd_inputs_stage_1_test = lgd_inputs_stage_1_test.drop(features_reference_cat, axis = 1)\n",
        "# Here we remove the dummy variable reference categories."
      ],
      "execution_count": 38,
      "outputs": []
    },
    {
      "cell_type": "code",
      "metadata": {
        "id": "HOwkWryLZENL"
      },
      "source": [
        "y_hat_test_lgd_stage_1 = reg_lgd_st_1.model.predict(lgd_inputs_stage_1_test)\n",
        "# Calculates the predicted values for the dependent variable (targets)\n",
        "# based on the values of the independent variables (inputs) supplied as an argument."
      ],
      "execution_count": 39,
      "outputs": []
    },
    {
      "cell_type": "code",
      "metadata": {
        "id": "y06uU-V2ZENM",
        "colab": {
          "base_uri": "https://localhost:8080/"
        },
        "outputId": "2ceb896b-e203-4e38-dd7c-c42a1bdbf097"
      },
      "source": [
        "y_hat_test_lgd_stage_1"
      ],
      "execution_count": 40,
      "outputs": [
        {
          "output_type": "execute_result",
          "data": {
            "text/plain": [
              "array([1, 1, 0, ..., 1, 1, 0])"
            ]
          },
          "metadata": {
            "tags": []
          },
          "execution_count": 40
        }
      ]
    },
    {
      "cell_type": "code",
      "metadata": {
        "id": "ARZfxyktZENM"
      },
      "source": [
        "y_hat_test_proba_lgd_stage_1 = reg_lgd_st_1.model.predict_proba(lgd_inputs_stage_1_test)\n",
        "# Calculates the predicted probability values for the dependent variable (targets)\n",
        "# based on the values of the independent variables (inputs) supplied as an argument."
      ],
      "execution_count": 41,
      "outputs": []
    },
    {
      "cell_type": "code",
      "metadata": {
        "id": "LuTL_JmcZENN",
        "colab": {
          "base_uri": "https://localhost:8080/"
        },
        "outputId": "5d2b3fd3-666e-427a-c2de-d27190dc0026"
      },
      "source": [
        "y_hat_test_proba_lgd_stage_1\n",
        "# This is an array of arrays of predicted class probabilities for all classes.\n",
        "# In this case, the first value of every sub-array is the probability for the observation to belong to the first class, i.e. 0,\n",
        "# and the second value is the probability for the observation to belong to the first class, i.e. 1."
      ],
      "execution_count": 42,
      "outputs": [
        {
          "output_type": "execute_result",
          "data": {
            "text/plain": [
              "array([[0.41872362, 0.58127638],\n",
              "       [0.3706375 , 0.6293625 ],\n",
              "       [0.59508691, 0.40491309],\n",
              "       ...,\n",
              "       [0.49733654, 0.50266346],\n",
              "       [0.41698058, 0.58301942],\n",
              "       [0.54995118, 0.45004882]])"
            ]
          },
          "metadata": {
            "tags": []
          },
          "execution_count": 42
        }
      ]
    },
    {
      "cell_type": "code",
      "metadata": {
        "id": "vpS1zLzgZENN"
      },
      "source": [
        "y_hat_test_proba_lgd_stage_1 = y_hat_test_proba_lgd_stage_1[: ][: , 1]\n",
        "# Here we take all the arrays in the array, and from each array, we take all rows, and only the element with index 1,\n",
        "# that is, the second element.\n",
        "# In other words, we take only the probabilities for being 1."
      ],
      "execution_count": 43,
      "outputs": []
    },
    {
      "cell_type": "code",
      "metadata": {
        "id": "aP5YeTZoZENO",
        "colab": {
          "base_uri": "https://localhost:8080/"
        },
        "outputId": "19a5fd2c-0dd3-4e74-b678-755b7f3c3bad"
      },
      "source": [
        "y_hat_test_proba_lgd_stage_1"
      ],
      "execution_count": 44,
      "outputs": [
        {
          "output_type": "execute_result",
          "data": {
            "text/plain": [
              "array([0.58127638, 0.6293625 , 0.40491309, ..., 0.50266346, 0.58301942,\n",
              "       0.45004882])"
            ]
          },
          "metadata": {
            "tags": []
          },
          "execution_count": 44
        }
      ]
    },
    {
      "cell_type": "code",
      "metadata": {
        "id": "9vqsdo3KZENO"
      },
      "source": [
        "lgd_targets_stage_1_test_temp = lgd_targets_stage_1_test"
      ],
      "execution_count": 45,
      "outputs": []
    },
    {
      "cell_type": "code",
      "metadata": {
        "id": "jtM4PIUYZENO"
      },
      "source": [
        "lgd_targets_stage_1_test_temp.reset_index(drop = True, inplace = True)\n",
        "# We reset the index of a dataframe."
      ],
      "execution_count": 46,
      "outputs": []
    },
    {
      "cell_type": "code",
      "metadata": {
        "id": "UJMDkBiUZENP"
      },
      "source": [
        "df_actual_predicted_probs = pd.concat([lgd_targets_stage_1_test_temp, pd.DataFrame(y_hat_test_proba_lgd_stage_1)], axis = 1)\n",
        "# Concatenates two dataframes."
      ],
      "execution_count": 47,
      "outputs": []
    },
    {
      "cell_type": "code",
      "metadata": {
        "id": "oGCm1PgrZENP"
      },
      "source": [
        "df_actual_predicted_probs.columns = ['lgd_targets_stage_1_test', 'y_hat_test_proba_lgd_stage_1']"
      ],
      "execution_count": 48,
      "outputs": []
    },
    {
      "cell_type": "code",
      "metadata": {
        "id": "pP0Y1d_FZENQ"
      },
      "source": [
        "df_actual_predicted_probs.index = lgd_inputs_stage_1_test.index\n",
        "# Makes the index of one dataframe equal to the index of another dataframe."
      ],
      "execution_count": 49,
      "outputs": []
    },
    {
      "cell_type": "code",
      "metadata": {
        "id": "mz3Oa8Y9ZENQ",
        "colab": {
          "base_uri": "https://localhost:8080/",
          "height": 202
        },
        "outputId": "a7c3e838-3fb2-4912-b834-e206f3827b5d"
      },
      "source": [
        "df_actual_predicted_probs.head()"
      ],
      "execution_count": 50,
      "outputs": [
        {
          "output_type": "execute_result",
          "data": {
            "text/html": [
              "<div>\n",
              "<style scoped>\n",
              "    .dataframe tbody tr th:only-of-type {\n",
              "        vertical-align: middle;\n",
              "    }\n",
              "\n",
              "    .dataframe tbody tr th {\n",
              "        vertical-align: top;\n",
              "    }\n",
              "\n",
              "    .dataframe thead th {\n",
              "        text-align: right;\n",
              "    }\n",
              "</style>\n",
              "<table border=\"1\" class=\"dataframe\">\n",
              "  <thead>\n",
              "    <tr style=\"text-align: right;\">\n",
              "      <th></th>\n",
              "      <th>lgd_targets_stage_1_test</th>\n",
              "      <th>y_hat_test_proba_lgd_stage_1</th>\n",
              "    </tr>\n",
              "  </thead>\n",
              "  <tbody>\n",
              "    <tr>\n",
              "      <th>178928</th>\n",
              "      <td>1</td>\n",
              "      <td>0.581276</td>\n",
              "    </tr>\n",
              "    <tr>\n",
              "      <th>69814</th>\n",
              "      <td>1</td>\n",
              "      <td>0.629363</td>\n",
              "    </tr>\n",
              "    <tr>\n",
              "      <th>101396</th>\n",
              "      <td>0</td>\n",
              "      <td>0.404913</td>\n",
              "    </tr>\n",
              "    <tr>\n",
              "      <th>463268</th>\n",
              "      <td>1</td>\n",
              "      <td>0.553885</td>\n",
              "    </tr>\n",
              "    <tr>\n",
              "      <th>253729</th>\n",
              "      <td>0</td>\n",
              "      <td>0.422072</td>\n",
              "    </tr>\n",
              "  </tbody>\n",
              "</table>\n",
              "</div>"
            ],
            "text/plain": [
              "        lgd_targets_stage_1_test  y_hat_test_proba_lgd_stage_1\n",
              "178928                         1                      0.581276\n",
              "69814                          1                      0.629363\n",
              "101396                         0                      0.404913\n",
              "463268                         1                      0.553885\n",
              "253729                         0                      0.422072"
            ]
          },
          "metadata": {
            "tags": []
          },
          "execution_count": 50
        }
      ]
    },
    {
      "cell_type": "markdown",
      "metadata": {
        "id": "xwSyyZDJZENQ"
      },
      "source": [
        "### Estimating the Аccuracy of the Мodel"
      ]
    },
    {
      "cell_type": "code",
      "metadata": {
        "id": "nRe_HmruZENR"
      },
      "source": [
        "tr = 0.5\n",
        "# We create a new column with an indicator,\n",
        "# where every observation that has predicted probability greater than the threshold has a value of 1,\n",
        "# and every observation that has predicted probability lower than the threshold has a value of 0.\n",
        "df_actual_predicted_probs['y_hat_test_lgd_stage_1'] = np.where(df_actual_predicted_probs['y_hat_test_proba_lgd_stage_1'] > tr, 1, 0)"
      ],
      "execution_count": 51,
      "outputs": []
    },
    {
      "cell_type": "code",
      "metadata": {
        "scrolled": true,
        "id": "wvWHUCs_ZENR",
        "colab": {
          "base_uri": "https://localhost:8080/",
          "height": 141
        },
        "outputId": "a385f933-b146-453d-ba6b-e6acaaaf781d"
      },
      "source": [
        "pd.crosstab(df_actual_predicted_probs['lgd_targets_stage_1_test'], df_actual_predicted_probs['y_hat_test_lgd_stage_1'], rownames = ['Actual'], colnames = ['Predicted'])\n",
        "# Creates a cross-table where the actual values are displayed by rows and the predicted values by columns.\n",
        "# This table is known as a Confusion Matrix."
      ],
      "execution_count": 52,
      "outputs": [
        {
          "output_type": "execute_result",
          "data": {
            "text/html": [
              "<div>\n",
              "<style scoped>\n",
              "    .dataframe tbody tr th:only-of-type {\n",
              "        vertical-align: middle;\n",
              "    }\n",
              "\n",
              "    .dataframe tbody tr th {\n",
              "        vertical-align: top;\n",
              "    }\n",
              "\n",
              "    .dataframe thead th {\n",
              "        text-align: right;\n",
              "    }\n",
              "</style>\n",
              "<table border=\"1\" class=\"dataframe\">\n",
              "  <thead>\n",
              "    <tr style=\"text-align: right;\">\n",
              "      <th>Predicted</th>\n",
              "      <th>0</th>\n",
              "      <th>1</th>\n",
              "    </tr>\n",
              "    <tr>\n",
              "      <th>Actual</th>\n",
              "      <th></th>\n",
              "      <th></th>\n",
              "    </tr>\n",
              "  </thead>\n",
              "  <tbody>\n",
              "    <tr>\n",
              "      <th>0</th>\n",
              "      <td>1529</td>\n",
              "      <td>2233</td>\n",
              "    </tr>\n",
              "    <tr>\n",
              "      <th>1</th>\n",
              "      <td>1059</td>\n",
              "      <td>3827</td>\n",
              "    </tr>\n",
              "  </tbody>\n",
              "</table>\n",
              "</div>"
            ],
            "text/plain": [
              "Predicted     0     1\n",
              "Actual               \n",
              "0          1529  2233\n",
              "1          1059  3827"
            ]
          },
          "metadata": {
            "tags": []
          },
          "execution_count": 52
        }
      ]
    },
    {
      "cell_type": "code",
      "metadata": {
        "id": "Z8QWIl1XZENS",
        "colab": {
          "base_uri": "https://localhost:8080/",
          "height": 141
        },
        "outputId": "7c9a2b29-3446-4c6a-d86b-8e2a82a8c7b5"
      },
      "source": [
        "pd.crosstab(df_actual_predicted_probs['lgd_targets_stage_1_test'], df_actual_predicted_probs['y_hat_test_lgd_stage_1'], rownames = ['Actual'], colnames = ['Predicted']) / df_actual_predicted_probs.shape[0]\n",
        "# Here we divide each value of the table by the total number of observations,\n",
        "# thus getting percentages, or, rates."
      ],
      "execution_count": 53,
      "outputs": [
        {
          "output_type": "execute_result",
          "data": {
            "text/html": [
              "<div>\n",
              "<style scoped>\n",
              "    .dataframe tbody tr th:only-of-type {\n",
              "        vertical-align: middle;\n",
              "    }\n",
              "\n",
              "    .dataframe tbody tr th {\n",
              "        vertical-align: top;\n",
              "    }\n",
              "\n",
              "    .dataframe thead th {\n",
              "        text-align: right;\n",
              "    }\n",
              "</style>\n",
              "<table border=\"1\" class=\"dataframe\">\n",
              "  <thead>\n",
              "    <tr style=\"text-align: right;\">\n",
              "      <th>Predicted</th>\n",
              "      <th>0</th>\n",
              "      <th>1</th>\n",
              "    </tr>\n",
              "    <tr>\n",
              "      <th>Actual</th>\n",
              "      <th></th>\n",
              "      <th></th>\n",
              "    </tr>\n",
              "  </thead>\n",
              "  <tbody>\n",
              "    <tr>\n",
              "      <th>0</th>\n",
              "      <td>0.176804</td>\n",
              "      <td>0.25821</td>\n",
              "    </tr>\n",
              "    <tr>\n",
              "      <th>1</th>\n",
              "      <td>0.122456</td>\n",
              "      <td>0.44253</td>\n",
              "    </tr>\n",
              "  </tbody>\n",
              "</table>\n",
              "</div>"
            ],
            "text/plain": [
              "Predicted         0        1\n",
              "Actual                      \n",
              "0          0.176804  0.25821\n",
              "1          0.122456  0.44253"
            ]
          },
          "metadata": {
            "tags": []
          },
          "execution_count": 53
        }
      ]
    },
    {
      "cell_type": "code",
      "metadata": {
        "id": "cIcgmmAbZENS",
        "colab": {
          "base_uri": "https://localhost:8080/"
        },
        "outputId": "76f8b74d-1d03-4ffe-bbf2-0688c2ad0f99"
      },
      "source": [
        "(pd.crosstab(df_actual_predicted_probs['lgd_targets_stage_1_test'], df_actual_predicted_probs['y_hat_test_lgd_stage_1'], rownames = ['Actual'], colnames = ['Predicted']) / df_actual_predicted_probs.shape[0]).iloc[0, 0] + (pd.crosstab(df_actual_predicted_probs['lgd_targets_stage_1_test'], df_actual_predicted_probs['y_hat_test_lgd_stage_1'], rownames = ['Actual'], colnames = ['Predicted']) / df_actual_predicted_probs.shape[0]).iloc[1, 1]\n",
        "# Here we calculate Accuracy of the model, which is the sum of the diagonal rates."
      ],
      "execution_count": 54,
      "outputs": [
        {
          "output_type": "execute_result",
          "data": {
            "text/plain": [
              "0.6193339500462535"
            ]
          },
          "metadata": {
            "tags": []
          },
          "execution_count": 54
        }
      ]
    },
    {
      "cell_type": "code",
      "metadata": {
        "id": "pqa10pIQZENS"
      },
      "source": [
        "from sklearn.metrics import roc_curve, roc_auc_score"
      ],
      "execution_count": 55,
      "outputs": []
    },
    {
      "cell_type": "code",
      "metadata": {
        "id": "HA-8ORjwZENT"
      },
      "source": [
        "fpr, tpr, thresholds = roc_curve(df_actual_predicted_probs['lgd_targets_stage_1_test'], df_actual_predicted_probs['y_hat_test_proba_lgd_stage_1'])\n",
        "# Returns the Receiver Operating Characteristic (ROC) Curve from a set of actual values and their predicted probabilities.\n",
        "# As a result, we get three arrays: the false positive rates, the true positive rates, and the thresholds.\n",
        "# we store each of the three arrays in a separate variable."
      ],
      "execution_count": 56,
      "outputs": []
    },
    {
      "cell_type": "code",
      "metadata": {
        "id": "30hN6zAiZENT",
        "colab": {
          "base_uri": "https://localhost:8080/",
          "height": 318
        },
        "outputId": "bed6befc-2e7f-4662-a91b-4c4aa9621a4f"
      },
      "source": [
        "plt.plot(fpr, tpr)\n",
        "# We plot the false positive rate along the x-axis and the true positive rate along the y-axis,\n",
        "# thus plotting the ROC curve.\n",
        "plt.plot(fpr, fpr, linestyle = '--', color = 'k')\n",
        "# We plot a seconary diagonal line, with dashed line style and black color.\n",
        "plt.xlabel('False positive rate')\n",
        "# We name the x-axis \"False positive rate\".\n",
        "plt.ylabel('True positive rate')\n",
        "# We name the x-axis \"True positive rate\".\n",
        "plt.title('ROC curve')\n",
        "# We name the graph \"ROC curve\"."
      ],
      "execution_count": 57,
      "outputs": [
        {
          "output_type": "execute_result",
          "data": {
            "text/plain": [
              "Text(0.5, 1.0, 'ROC curve')"
            ]
          },
          "metadata": {
            "tags": []
          },
          "execution_count": 57
        },
        {
          "output_type": "display_data",
          "data": {
            "image/png": "[encoded data removed]",
            "text/plain": [
              "<Figure size 432x288 with 1 Axes>"
            ]
          },
          "metadata": {
            "tags": []
          }
        }
      ]
    },
    {
      "cell_type": "code",
      "metadata": {
        "id": "OK2nuSSgZENT",
        "colab": {
          "base_uri": "https://localhost:8080/"
        },
        "outputId": "d09bceb9-6f1c-48ba-8fd2-e8e1907854a1"
      },
      "source": [
        "AUROC = roc_auc_score(df_actual_predicted_probs['lgd_targets_stage_1_test'], df_actual_predicted_probs['y_hat_test_proba_lgd_stage_1'])\n",
        "# Calculates the Area Under the Receiver Operating Characteristic Curve (AUROC)\n",
        "# from a set of actual values and their predicted probabilities.\n",
        "AUROC"
      ],
      "execution_count": 58,
      "outputs": [
        {
          "output_type": "execute_result",
          "data": {
            "text/plain": [
              "0.6569114459327098"
            ]
          },
          "metadata": {
            "tags": []
          },
          "execution_count": 58
        }
      ]
    },
    {
      "cell_type": "markdown",
      "metadata": {
        "id": "phGMgouBZENU"
      },
      "source": [
        "### Saving the Model"
      ]
    },
    {
      "cell_type": "code",
      "metadata": {
        "id": "VZ_kfIXhZENU"
      },
      "source": [
        "import pickle"
      ],
      "execution_count": 59,
      "outputs": []
    },
    {
      "cell_type": "code",
      "metadata": {
        "id": "My2DI3bbZENV"
      },
      "source": [
        "pickle.dump(reg_lgd_st_1, open('lgd_model_stage_1.sav', 'wb'))\n",
        "# Here we export our model to a 'SAV' file with file name 'lgd_model_stage_1.sav'."
      ],
      "execution_count": 60,
      "outputs": []
    },
    {
      "cell_type": "markdown",
      "metadata": {
        "id": "5fIp4JSbZENV"
      },
      "source": [
        "### Stage 2 – Linear Regression"
      ]
    },
    {
      "cell_type": "code",
      "metadata": {
        "id": "ZCTC9dtcZENW"
      },
      "source": [
        "lgd_stage_2_data = loan_data_defaults[loan_data_defaults['recovery_rate_0_1'] == 1]\n",
        "# Here we take only rows where the original recovery rate variable is greater than one,\n",
        "# i.e. where the indicator variable we created is equal to 1."
      ],
      "execution_count": 61,
      "outputs": []
    },
    {
      "cell_type": "code",
      "metadata": {
        "id": "7o64iWBDZENW"
      },
      "source": [
        "# LGD model stage 2 datasets: how much more than 0 is the recovery rate\n",
        "lgd_inputs_stage_2_train, lgd_inputs_stage_2_test, lgd_targets_stage_2_train, lgd_targets_stage_2_test = train_test_split(lgd_stage_2_data.drop(['good_bad', 'recovery rate','recovery_rate_0_1', 'CCF'], axis = 1), lgd_stage_2_data['recovery rate'], test_size = 0.2, random_state = 42)\n",
        "# Takes a set of inputs and a set of targets as arguments. Splits the inputs and the targets into four dataframes:\n",
        "# Inputs - Train, Inputs - Test, Targets - Train, Targets - Test."
      ],
      "execution_count": 62,
      "outputs": []
    },
    {
      "cell_type": "code",
      "metadata": {
        "id": "N6dxHEN6ZENW"
      },
      "source": [
        "from sklearn import linear_model\n",
        "from sklearn.metrics import mean_squared_error, r2_score"
      ],
      "execution_count": 63,
      "outputs": []
    },
    {
      "cell_type": "code",
      "metadata": {
        "id": "pKfBwo9tZENX"
      },
      "source": [
        "# Since the p-values are obtained through certain statistics, we need the 'stat' module from scipy.stats\n",
        "import scipy.stats as stat\n",
        "\n",
        "# Since we are using an object oriented language such as Python, we can simply define our own \n",
        "# LinearRegression class (the same one from sklearn)\n",
        "# By typing the code below we will ovewrite a part of the class with one that includes p-values\n",
        "# Here's the full source code of the ORIGINAL class: https://github.com/scikit-learn/scikit-learn/blob/7b136e9/sklearn/linear_model/base.py#L362\n",
        "\n",
        "\n",
        "class LinearRegression(linear_model.LinearRegression):\n",
        "    \"\"\"\n",
        "    LinearRegression class after sklearn's, but calculate t-statistics\n",
        "    and p-values for model coefficients (betas).\n",
        "    Additional attributes available after .fit()\n",
        "    are `t` and `p` which are of the shape (y.shape[1], X.shape[1])\n",
        "    which is (n_features, n_coefs)\n",
        "    This class sets the intercept to 0 by default, since usually we include it\n",
        "    in X.\n",
        "    \"\"\"\n",
        "    \n",
        "    # nothing changes in __init__\n",
        "    def __init__(self, fit_intercept=True, normalize=False, copy_X=True,\n",
        "                 n_jobs=1):\n",
        "        self.fit_intercept = fit_intercept\n",
        "        self.normalize = normalize\n",
        "        self.copy_X = copy_X\n",
        "        self.n_jobs = n_jobs\n",
        "\n",
        "    \n",
        "    def fit(self, X, y, n_jobs=1):\n",
        "        self = super(LinearRegression, self).fit(X, y, n_jobs)\n",
        "        \n",
        "        # Calculate SSE (sum of squared errors)\n",
        "        # and SE (standard error)\n",
        "        sse = np.sum((self.predict(X) - y) ** 2, axis=0) / float(X.shape[0] - X.shape[1])\n",
        "        se = np.array([np.sqrt(np.diagonal(sse * np.linalg.inv(np.dot(X.T, X))))])\n",
        "\n",
        "        # compute the t-statistic for each feature\n",
        "        self.t = self.coef_ / se\n",
        "        # find the p-value for each feature\n",
        "        self.p = np.squeeze(2 * (1 - stat.t.cdf(np.abs(self.t), y.shape[0] - X.shape[1])))\n",
        "        return self"
      ],
      "execution_count": 64,
      "outputs": []
    },
    {
      "cell_type": "code",
      "metadata": {
        "id": "KO4z7jfjZENX"
      },
      "source": [
        "import scipy.stats as stat\n",
        "\n",
        "class LinearRegression(linear_model.LinearRegression):\n",
        "    def __init__(self, fit_intercept=True, normalize=False, copy_X=True,\n",
        "                 n_jobs=1):\n",
        "        self.fit_intercept = fit_intercept\n",
        "        self.normalize = normalize\n",
        "        self.copy_X = copy_X\n",
        "        self.n_jobs = n_jobs\n",
        "    def fit(self, X, y, n_jobs=1):\n",
        "        self = super(LinearRegression, self).fit(X, y, n_jobs)\n",
        "        sse = np.sum((self.predict(X) - y) ** 2, axis=0) / float(X.shape[0] - X.shape[1])\n",
        "        se = np.array([np.sqrt(np.diagonal(sse * np.linalg.inv(np.dot(X.T, X))))])\n",
        "        self.t = self.coef_ / se\n",
        "        self.p = np.squeeze(2 * (1 - stat.t.cdf(np.abs(self.t), y.shape[0] - X.shape[1])))\n",
        "        return self"
      ],
      "execution_count": 65,
      "outputs": []
    },
    {
      "cell_type": "code",
      "metadata": {
        "id": "MNSeenvyZENX"
      },
      "source": [
        "lgd_inputs_stage_2_train = lgd_inputs_stage_2_train[features_all]\n",
        "# Here we keep only the variables we need for the model."
      ],
      "execution_count": 66,
      "outputs": []
    },
    {
      "cell_type": "code",
      "metadata": {
        "id": "evMBX0LZZENY"
      },
      "source": [
        "lgd_inputs_stage_2_train = lgd_inputs_stage_2_train.drop(features_reference_cat, axis = 1)\n",
        "# Here we remove the dummy variable reference categories."
      ],
      "execution_count": 67,
      "outputs": []
    },
    {
      "cell_type": "code",
      "metadata": {
        "id": "Bf1ME_xRZENY",
        "colab": {
          "base_uri": "https://localhost:8080/"
        },
        "outputId": "fdd64048-2b44-4bfb-eb2f-8f6e5d9a72c0"
      },
      "source": [
        "reg_lgd_st_2 = LinearRegression()\n",
        "# We create an instance of an object from the 'LogisticRegression' class.\n",
        "reg_lgd_st_2.fit(lgd_inputs_stage_2_train, lgd_targets_stage_2_train)\n",
        "# Estimates the coefficients of the object from the 'LogisticRegression' class\n",
        "# with inputs (independent variables) contained in the first dataframe\n",
        "# and targets (dependent variables) contained in the second dataframe."
      ],
      "execution_count": 68,
      "outputs": [
        {
          "output_type": "execute_result",
          "data": {
            "text/plain": [
              "LinearRegression(copy_X=True, fit_intercept=True, n_jobs=1, normalize=False)"
            ]
          },
          "metadata": {
            "tags": []
          },
          "execution_count": 68
        }
      ]
    },
    {
      "cell_type": "code",
      "metadata": {
        "id": "Hmm_Azt9ZENZ"
      },
      "source": [
        "feature_name = lgd_inputs_stage_2_train.columns.values\n",
        "# Stores the names of the columns of a dataframe in a variable."
      ],
      "execution_count": 69,
      "outputs": []
    },
    {
      "cell_type": "code",
      "metadata": {
        "id": "trWVL_CPZENZ",
        "colab": {
          "base_uri": "https://localhost:8080/",
          "height": 1000
        },
        "outputId": "6a363dab-7f99-40a7-d32f-da7cb1d22694"
      },
      "source": [
        "summary_table = pd.DataFrame(columns = ['Feature name'], data = feature_name)\n",
        "# Creates a dataframe with a column titled 'Feature name' and row values contained in the 'feature_name' variable.\n",
        "summary_table['Coefficients'] = np.transpose(reg_lgd_st_2.coef_)\n",
        "# Creates a new column in the dataframe, called 'Coefficients',\n",
        "# with row values the transposed coefficients from the 'LogisticRegression' object.\n",
        "summary_table.index = summary_table.index + 1\n",
        "# Increases the index of every row of the dataframe with 1.\n",
        "summary_table.loc[0] = ['Intercept', reg_lgd_st_2.intercept_]\n",
        "# Assigns values of the row with index 0 of the dataframe.\n",
        "summary_table = summary_table.sort_index()\n",
        "# Sorts the dataframe by index.\n",
        "p_values = reg_lgd_st_2.p\n",
        "# We take the result of the newly added method 'p_values' and store it in a variable 'p_values'.\n",
        "p_values = np.append(np.nan,np.array(p_values))\n",
        "# We add the value 'NaN' in the beginning of the variable with p-values.\n",
        "summary_table['p_values'] = p_values.round(3)\n",
        "# In the 'summary_table' dataframe, we add a new column, called 'p_values', containing the values from the 'p_values' variable.\n",
        "summary_table"
      ],
      "execution_count": 70,
      "outputs": [
        {
          "output_type": "execute_result",
          "data": {
            "text/html": [
              "<div>\n",
              "<style scoped>\n",
              "    .dataframe tbody tr th:only-of-type {\n",
              "        vertical-align: middle;\n",
              "    }\n",
              "\n",
              "    .dataframe tbody tr th {\n",
              "        vertical-align: top;\n",
              "    }\n",
              "\n",
              "    .dataframe thead th {\n",
              "        text-align: right;\n",
              "    }\n",
              "</style>\n",
              "<table border=\"1\" class=\"dataframe\">\n",
              "  <thead>\n",
              "    <tr style=\"text-align: right;\">\n",
              "      <th></th>\n",
              "      <th>Feature name</th>\n",
              "      <th>Coefficients</th>\n",
              "      <th>p_values</th>\n",
              "    </tr>\n",
              "  </thead>\n",
              "  <tbody>\n",
              "    <tr>\n",
              "      <th>0</th>\n",
              "      <td>Intercept</td>\n",
              "      <td>2.406858e-01</td>\n",
              "      <td>NaN</td>\n",
              "    </tr>\n",
              "    <tr>\n",
              "      <th>1</th>\n",
              "      <td>grade:A</td>\n",
              "      <td>-6.826892e-02</td>\n",
              "      <td>0.000</td>\n",
              "    </tr>\n",
              "    <tr>\n",
              "      <th>2</th>\n",
              "      <td>grade:B</td>\n",
              "      <td>-5.083556e-02</td>\n",
              "      <td>0.000</td>\n",
              "    </tr>\n",
              "    <tr>\n",
              "      <th>3</th>\n",
              "      <td>grade:C</td>\n",
              "      <td>-3.748066e-02</td>\n",
              "      <td>0.000</td>\n",
              "    </tr>\n",
              "    <tr>\n",
              "      <th>4</th>\n",
              "      <td>grade:D</td>\n",
              "      <td>-2.717310e-02</td>\n",
              "      <td>0.000</td>\n",
              "    </tr>\n",
              "    <tr>\n",
              "      <th>5</th>\n",
              "      <td>grade:E</td>\n",
              "      <td>-1.315941e-02</td>\n",
              "      <td>0.002</td>\n",
              "    </tr>\n",
              "    <tr>\n",
              "      <th>6</th>\n",
              "      <td>grade:F</td>\n",
              "      <td>-5.260168e-03</td>\n",
              "      <td>0.275</td>\n",
              "    </tr>\n",
              "    <tr>\n",
              "      <th>7</th>\n",
              "      <td>home_ownership:MORTGAGE</td>\n",
              "      <td>2.832212e-03</td>\n",
              "      <td>0.061</td>\n",
              "    </tr>\n",
              "    <tr>\n",
              "      <th>8</th>\n",
              "      <td>home_ownership:NONE</td>\n",
              "      <td>1.459035e-01</td>\n",
              "      <td>0.000</td>\n",
              "    </tr>\n",
              "    <tr>\n",
              "      <th>9</th>\n",
              "      <td>home_ownership:OTHER</td>\n",
              "      <td>-9.475922e-03</td>\n",
              "      <td>0.644</td>\n",
              "    </tr>\n",
              "    <tr>\n",
              "      <th>10</th>\n",
              "      <td>home_ownership:OWN</td>\n",
              "      <td>5.000678e-03</td>\n",
              "      <td>0.040</td>\n",
              "    </tr>\n",
              "    <tr>\n",
              "      <th>11</th>\n",
              "      <td>verification_status:Not Verified</td>\n",
              "      <td>1.056585e-03</td>\n",
              "      <td>0.553</td>\n",
              "    </tr>\n",
              "    <tr>\n",
              "      <th>12</th>\n",
              "      <td>verification_status:Source Verified</td>\n",
              "      <td>-1.009915e-03</td>\n",
              "      <td>0.535</td>\n",
              "    </tr>\n",
              "    <tr>\n",
              "      <th>13</th>\n",
              "      <td>purpose:car</td>\n",
              "      <td>-2.995960e-03</td>\n",
              "      <td>0.634</td>\n",
              "    </tr>\n",
              "    <tr>\n",
              "      <th>14</th>\n",
              "      <td>purpose:debt_consolidation</td>\n",
              "      <td>8.206319e-05</td>\n",
              "      <td>0.965</td>\n",
              "    </tr>\n",
              "    <tr>\n",
              "      <th>15</th>\n",
              "      <td>purpose:educational</td>\n",
              "      <td>7.625467e-02</td>\n",
              "      <td>0.000</td>\n",
              "    </tr>\n",
              "    <tr>\n",
              "      <th>16</th>\n",
              "      <td>purpose:home_improvement</td>\n",
              "      <td>-3.702374e-03</td>\n",
              "      <td>0.273</td>\n",
              "    </tr>\n",
              "    <tr>\n",
              "      <th>17</th>\n",
              "      <td>purpose:house</td>\n",
              "      <td>-3.786803e-03</td>\n",
              "      <td>0.620</td>\n",
              "    </tr>\n",
              "    <tr>\n",
              "      <th>18</th>\n",
              "      <td>purpose:major_purchase</td>\n",
              "      <td>2.914439e-03</td>\n",
              "      <td>0.538</td>\n",
              "    </tr>\n",
              "    <tr>\n",
              "      <th>19</th>\n",
              "      <td>purpose:medical</td>\n",
              "      <td>1.078825e-02</td>\n",
              "      <td>0.074</td>\n",
              "    </tr>\n",
              "    <tr>\n",
              "      <th>20</th>\n",
              "      <td>purpose:moving</td>\n",
              "      <td>1.398692e-02</td>\n",
              "      <td>0.039</td>\n",
              "    </tr>\n",
              "    <tr>\n",
              "      <th>21</th>\n",
              "      <td>purpose:other</td>\n",
              "      <td>4.841345e-03</td>\n",
              "      <td>0.109</td>\n",
              "    </tr>\n",
              "    <tr>\n",
              "      <th>22</th>\n",
              "      <td>purpose:renewable_energy</td>\n",
              "      <td>2.420645e-02</td>\n",
              "      <td>0.142</td>\n",
              "    </tr>\n",
              "    <tr>\n",
              "      <th>23</th>\n",
              "      <td>purpose:small_business</td>\n",
              "      <td>6.212343e-04</td>\n",
              "      <td>0.869</td>\n",
              "    </tr>\n",
              "    <tr>\n",
              "      <th>24</th>\n",
              "      <td>purpose:vacation</td>\n",
              "      <td>-3.002398e-03</td>\n",
              "      <td>0.731</td>\n",
              "    </tr>\n",
              "    <tr>\n",
              "      <th>25</th>\n",
              "      <td>purpose:wedding</td>\n",
              "      <td>2.034853e-02</td>\n",
              "      <td>0.006</td>\n",
              "    </tr>\n",
              "    <tr>\n",
              "      <th>26</th>\n",
              "      <td>initial_list_status:w</td>\n",
              "      <td>1.464671e-02</td>\n",
              "      <td>0.000</td>\n",
              "    </tr>\n",
              "    <tr>\n",
              "      <th>27</th>\n",
              "      <td>term_int</td>\n",
              "      <td>3.316229e-04</td>\n",
              "      <td>0.020</td>\n",
              "    </tr>\n",
              "    <tr>\n",
              "      <th>28</th>\n",
              "      <td>emp_length_int</td>\n",
              "      <td>8.727462e-05</td>\n",
              "      <td>0.635</td>\n",
              "    </tr>\n",
              "    <tr>\n",
              "      <th>29</th>\n",
              "      <td>mths_since_issue_d</td>\n",
              "      <td>-1.521649e-03</td>\n",
              "      <td>0.000</td>\n",
              "    </tr>\n",
              "    <tr>\n",
              "      <th>30</th>\n",
              "      <td>mths_since_earliest_cr_line</td>\n",
              "      <td>3.418678e-05</td>\n",
              "      <td>0.000</td>\n",
              "    </tr>\n",
              "    <tr>\n",
              "      <th>31</th>\n",
              "      <td>funded_amnt</td>\n",
              "      <td>-2.186999e-07</td>\n",
              "      <td>0.699</td>\n",
              "    </tr>\n",
              "    <tr>\n",
              "      <th>32</th>\n",
              "      <td>int_rate</td>\n",
              "      <td>-2.544714e-03</td>\n",
              "      <td>0.000</td>\n",
              "    </tr>\n",
              "    <tr>\n",
              "      <th>33</th>\n",
              "      <td>installment</td>\n",
              "      <td>-1.037621e-05</td>\n",
              "      <td>0.557</td>\n",
              "    </tr>\n",
              "    <tr>\n",
              "      <th>34</th>\n",
              "      <td>annual_inc</td>\n",
              "      <td>6.389841e-08</td>\n",
              "      <td>0.001</td>\n",
              "    </tr>\n",
              "    <tr>\n",
              "      <th>35</th>\n",
              "      <td>dti</td>\n",
              "      <td>1.775655e-04</td>\n",
              "      <td>0.069</td>\n",
              "    </tr>\n",
              "    <tr>\n",
              "      <th>36</th>\n",
              "      <td>delinq_2yrs</td>\n",
              "      <td>1.757943e-03</td>\n",
              "      <td>0.050</td>\n",
              "    </tr>\n",
              "    <tr>\n",
              "      <th>37</th>\n",
              "      <td>inq_last_6mths</td>\n",
              "      <td>1.274095e-03</td>\n",
              "      <td>0.018</td>\n",
              "    </tr>\n",
              "    <tr>\n",
              "      <th>38</th>\n",
              "      <td>mths_since_last_delinq</td>\n",
              "      <td>-1.094747e-06</td>\n",
              "      <td>0.971</td>\n",
              "    </tr>\n",
              "    <tr>\n",
              "      <th>39</th>\n",
              "      <td>mths_since_last_record</td>\n",
              "      <td>-5.558083e-05</td>\n",
              "      <td>0.181</td>\n",
              "    </tr>\n",
              "    <tr>\n",
              "      <th>40</th>\n",
              "      <td>open_acc</td>\n",
              "      <td>-1.196505e-03</td>\n",
              "      <td>0.000</td>\n",
              "    </tr>\n",
              "    <tr>\n",
              "      <th>41</th>\n",
              "      <td>pub_rec</td>\n",
              "      <td>3.447322e-03</td>\n",
              "      <td>0.208</td>\n",
              "    </tr>\n",
              "    <tr>\n",
              "      <th>42</th>\n",
              "      <td>total_acc</td>\n",
              "      <td>4.766629e-04</td>\n",
              "      <td>0.000</td>\n",
              "    </tr>\n",
              "    <tr>\n",
              "      <th>43</th>\n",
              "      <td>acc_now_delinq</td>\n",
              "      <td>4.278394e-03</td>\n",
              "      <td>0.658</td>\n",
              "    </tr>\n",
              "    <tr>\n",
              "      <th>44</th>\n",
              "      <td>total_rev_hi_lim</td>\n",
              "      <td>2.263456e-07</td>\n",
              "      <td>0.000</td>\n",
              "    </tr>\n",
              "  </tbody>\n",
              "</table>\n",
              "</div>"
            ],
            "text/plain": [
              "                           Feature name  Coefficients  p_values\n",
              "0                             Intercept  2.406858e-01       NaN\n",
              "1                               grade:A -6.826892e-02     0.000\n",
              "2                               grade:B -5.083556e-02     0.000\n",
              "3                               grade:C -3.748066e-02     0.000\n",
              "4                               grade:D -2.717310e-02     0.000\n",
              "5                               grade:E -1.315941e-02     0.002\n",
              "6                               grade:F -5.260168e-03     0.275\n",
              "7               home_ownership:MORTGAGE  2.832212e-03     0.061\n",
              "8                   home_ownership:NONE  1.459035e-01     0.000\n",
              "9                  home_ownership:OTHER -9.475922e-03     0.644\n",
              "10                   home_ownership:OWN  5.000678e-03     0.040\n",
              "11     verification_status:Not Verified  1.056585e-03     0.553\n",
              "12  verification_status:Source Verified -1.009915e-03     0.535\n",
              "13                          purpose:car -2.995960e-03     0.634\n",
              "14           purpose:debt_consolidation  8.206319e-05     0.965\n",
              "15                  purpose:educational  7.625467e-02     0.000\n",
              "16             purpose:home_improvement -3.702374e-03     0.273\n",
              "17                        purpose:house -3.786803e-03     0.620\n",
              "18               purpose:major_purchase  2.914439e-03     0.538\n",
              "19                      purpose:medical  1.078825e-02     0.074\n",
              "20                       purpose:moving  1.398692e-02     0.039\n",
              "21                        purpose:other  4.841345e-03     0.109\n",
              "22             purpose:renewable_energy  2.420645e-02     0.142\n",
              "23               purpose:small_business  6.212343e-04     0.869\n",
              "24                     purpose:vacation -3.002398e-03     0.731\n",
              "25                      purpose:wedding  2.034853e-02     0.006\n",
              "26                initial_list_status:w  1.464671e-02     0.000\n",
              "27                             term_int  3.316229e-04     0.020\n",
              "28                       emp_length_int  8.727462e-05     0.635\n",
              "29                   mths_since_issue_d -1.521649e-03     0.000\n",
              "30          mths_since_earliest_cr_line  3.418678e-05     0.000\n",
              "31                          funded_amnt -2.186999e-07     0.699\n",
              "32                             int_rate -2.544714e-03     0.000\n",
              "33                          installment -1.037621e-05     0.557\n",
              "34                           annual_inc  6.389841e-08     0.001\n",
              "35                                  dti  1.775655e-04     0.069\n",
              "36                          delinq_2yrs  1.757943e-03     0.050\n",
              "37                       inq_last_6mths  1.274095e-03     0.018\n",
              "38               mths_since_last_delinq -1.094747e-06     0.971\n",
              "39               mths_since_last_record -5.558083e-05     0.181\n",
              "40                             open_acc -1.196505e-03     0.000\n",
              "41                              pub_rec  3.447322e-03     0.208\n",
              "42                            total_acc  4.766629e-04     0.000\n",
              "43                       acc_now_delinq  4.278394e-03     0.658\n",
              "44                     total_rev_hi_lim  2.263456e-07     0.000"
            ]
          },
          "metadata": {
            "tags": []
          },
          "execution_count": 70
        }
      ]
    },
    {
      "cell_type": "code",
      "metadata": {
        "id": "BY3zTYGzZENZ",
        "colab": {
          "base_uri": "https://localhost:8080/",
          "height": 1000
        },
        "outputId": "c014d2ed-d065-4c40-f007-e11e581b269f"
      },
      "source": [
        "summary_table = pd.DataFrame(columns = ['Feature name'], data = feature_name)\n",
        "summary_table['Coefficients'] = np.transpose(reg_lgd_st_2.coef_)\n",
        "summary_table.index = summary_table.index + 1\n",
        "summary_table.loc[0] = ['Intercept', reg_lgd_st_2.intercept_]\n",
        "summary_table = summary_table.sort_index()\n",
        "p_values = reg_lgd_st_2.p\n",
        "p_values = np.append(np.nan,np.array(p_values))\n",
        "summary_table['p_values'] = p_values.round(3)\n",
        "summary_table"
      ],
      "execution_count": 71,
      "outputs": [
        {
          "output_type": "execute_result",
          "data": {
            "text/html": [
              "<div>\n",
              "<style scoped>\n",
              "    .dataframe tbody tr th:only-of-type {\n",
              "        vertical-align: middle;\n",
              "    }\n",
              "\n",
              "    .dataframe tbody tr th {\n",
              "        vertical-align: top;\n",
              "    }\n",
              "\n",
              "    .dataframe thead th {\n",
              "        text-align: right;\n",
              "    }\n",
              "</style>\n",
              "<table border=\"1\" class=\"dataframe\">\n",
              "  <thead>\n",
              "    <tr style=\"text-align: right;\">\n",
              "      <th></th>\n",
              "      <th>Feature name</th>\n",
              "      <th>Coefficients</th>\n",
              "      <th>p_values</th>\n",
              "    </tr>\n",
              "  </thead>\n",
              "  <tbody>\n",
              "    <tr>\n",
              "      <th>0</th>\n",
              "      <td>Intercept</td>\n",
              "      <td>2.406858e-01</td>\n",
              "      <td>NaN</td>\n",
              "    </tr>\n",
              "    <tr>\n",
              "      <th>1</th>\n",
              "      <td>grade:A</td>\n",
              "      <td>-6.826892e-02</td>\n",
              "      <td>0.000</td>\n",
              "    </tr>\n",
              "    <tr>\n",
              "      <th>2</th>\n",
              "      <td>grade:B</td>\n",
              "      <td>-5.083556e-02</td>\n",
              "      <td>0.000</td>\n",
              "    </tr>\n",
              "    <tr>\n",
              "      <th>3</th>\n",
              "      <td>grade:C</td>\n",
              "      <td>-3.748066e-02</td>\n",
              "      <td>0.000</td>\n",
              "    </tr>\n",
              "    <tr>\n",
              "      <th>4</th>\n",
              "      <td>grade:D</td>\n",
              "      <td>-2.717310e-02</td>\n",
              "      <td>0.000</td>\n",
              "    </tr>\n",
              "    <tr>\n",
              "      <th>5</th>\n",
              "      <td>grade:E</td>\n",
              "      <td>-1.315941e-02</td>\n",
              "      <td>0.002</td>\n",
              "    </tr>\n",
              "    <tr>\n",
              "      <th>6</th>\n",
              "      <td>grade:F</td>\n",
              "      <td>-5.260168e-03</td>\n",
              "      <td>0.275</td>\n",
              "    </tr>\n",
              "    <tr>\n",
              "      <th>7</th>\n",
              "      <td>home_ownership:MORTGAGE</td>\n",
              "      <td>2.832212e-03</td>\n",
              "      <td>0.061</td>\n",
              "    </tr>\n",
              "    <tr>\n",
              "      <th>8</th>\n",
              "      <td>home_ownership:NONE</td>\n",
              "      <td>1.459035e-01</td>\n",
              "      <td>0.000</td>\n",
              "    </tr>\n",
              "    <tr>\n",
              "      <th>9</th>\n",
              "      <td>home_ownership:OTHER</td>\n",
              "      <td>-9.475922e-03</td>\n",
              "      <td>0.644</td>\n",
              "    </tr>\n",
              "    <tr>\n",
              "      <th>10</th>\n",
              "      <td>home_ownership:OWN</td>\n",
              "      <td>5.000678e-03</td>\n",
              "      <td>0.040</td>\n",
              "    </tr>\n",
              "    <tr>\n",
              "      <th>11</th>\n",
              "      <td>verification_status:Not Verified</td>\n",
              "      <td>1.056585e-03</td>\n",
              "      <td>0.553</td>\n",
              "    </tr>\n",
              "    <tr>\n",
              "      <th>12</th>\n",
              "      <td>verification_status:Source Verified</td>\n",
              "      <td>-1.009915e-03</td>\n",
              "      <td>0.535</td>\n",
              "    </tr>\n",
              "    <tr>\n",
              "      <th>13</th>\n",
              "      <td>purpose:car</td>\n",
              "      <td>-2.995960e-03</td>\n",
              "      <td>0.634</td>\n",
              "    </tr>\n",
              "    <tr>\n",
              "      <th>14</th>\n",
              "      <td>purpose:debt_consolidation</td>\n",
              "      <td>8.206319e-05</td>\n",
              "      <td>0.965</td>\n",
              "    </tr>\n",
              "    <tr>\n",
              "      <th>15</th>\n",
              "      <td>purpose:educational</td>\n",
              "      <td>7.625467e-02</td>\n",
              "      <td>0.000</td>\n",
              "    </tr>\n",
              "    <tr>\n",
              "      <th>16</th>\n",
              "      <td>purpose:home_improvement</td>\n",
              "      <td>-3.702374e-03</td>\n",
              "      <td>0.273</td>\n",
              "    </tr>\n",
              "    <tr>\n",
              "      <th>17</th>\n",
              "      <td>purpose:house</td>\n",
              "      <td>-3.786803e-03</td>\n",
              "      <td>0.620</td>\n",
              "    </tr>\n",
              "    <tr>\n",
              "      <th>18</th>\n",
              "      <td>purpose:major_purchase</td>\n",
              "      <td>2.914439e-03</td>\n",
              "      <td>0.538</td>\n",
              "    </tr>\n",
              "    <tr>\n",
              "      <th>19</th>\n",
              "      <td>purpose:medical</td>\n",
              "      <td>1.078825e-02</td>\n",
              "      <td>0.074</td>\n",
              "    </tr>\n",
              "    <tr>\n",
              "      <th>20</th>\n",
              "      <td>purpose:moving</td>\n",
              "      <td>1.398692e-02</td>\n",
              "      <td>0.039</td>\n",
              "    </tr>\n",
              "    <tr>\n",
              "      <th>21</th>\n",
              "      <td>purpose:other</td>\n",
              "      <td>4.841345e-03</td>\n",
              "      <td>0.109</td>\n",
              "    </tr>\n",
              "    <tr>\n",
              "      <th>22</th>\n",
              "      <td>purpose:renewable_energy</td>\n",
              "      <td>2.420645e-02</td>\n",
              "      <td>0.142</td>\n",
              "    </tr>\n",
              "    <tr>\n",
              "      <th>23</th>\n",
              "      <td>purpose:small_business</td>\n",
              "      <td>6.212343e-04</td>\n",
              "      <td>0.869</td>\n",
              "    </tr>\n",
              "    <tr>\n",
              "      <th>24</th>\n",
              "      <td>purpose:vacation</td>\n",
              "      <td>-3.002398e-03</td>\n",
              "      <td>0.731</td>\n",
              "    </tr>\n",
              "    <tr>\n",
              "      <th>25</th>\n",
              "      <td>purpose:wedding</td>\n",
              "      <td>2.034853e-02</td>\n",
              "      <td>0.006</td>\n",
              "    </tr>\n",
              "    <tr>\n",
              "      <th>26</th>\n",
              "      <td>initial_list_status:w</td>\n",
              "      <td>1.464671e-02</td>\n",
              "      <td>0.000</td>\n",
              "    </tr>\n",
              "    <tr>\n",
              "      <th>27</th>\n",
              "      <td>term_int</td>\n",
              "      <td>3.316229e-04</td>\n",
              "      <td>0.020</td>\n",
              "    </tr>\n",
              "    <tr>\n",
              "      <th>28</th>\n",
              "      <td>emp_length_int</td>\n",
              "      <td>8.727462e-05</td>\n",
              "      <td>0.635</td>\n",
              "    </tr>\n",
              "    <tr>\n",
              "      <th>29</th>\n",
              "      <td>mths_since_issue_d</td>\n",
              "      <td>-1.521649e-03</td>\n",
              "      <td>0.000</td>\n",
              "    </tr>\n",
              "    <tr>\n",
              "      <th>30</th>\n",
              "      <td>mths_since_earliest_cr_line</td>\n",
              "      <td>3.418678e-05</td>\n",
              "      <td>0.000</td>\n",
              "    </tr>\n",
              "    <tr>\n",
              "      <th>31</th>\n",
              "      <td>funded_amnt</td>\n",
              "      <td>-2.186999e-07</td>\n",
              "      <td>0.699</td>\n",
              "    </tr>\n",
              "    <tr>\n",
              "      <th>32</th>\n",
              "      <td>int_rate</td>\n",
              "      <td>-2.544714e-03</td>\n",
              "      <td>0.000</td>\n",
              "    </tr>\n",
              "    <tr>\n",
              "      <th>33</th>\n",
              "      <td>installment</td>\n",
              "      <td>-1.037621e-05</td>\n",
              "      <td>0.557</td>\n",
              "    </tr>\n",
              "    <tr>\n",
              "      <th>34</th>\n",
              "      <td>annual_inc</td>\n",
              "      <td>6.389841e-08</td>\n",
              "      <td>0.001</td>\n",
              "    </tr>\n",
              "    <tr>\n",
              "      <th>35</th>\n",
              "      <td>dti</td>\n",
              "      <td>1.775655e-04</td>\n",
              "      <td>0.069</td>\n",
              "    </tr>\n",
              "    <tr>\n",
              "      <th>36</th>\n",
              "      <td>delinq_2yrs</td>\n",
              "      <td>1.757943e-03</td>\n",
              "      <td>0.050</td>\n",
              "    </tr>\n",
              "    <tr>\n",
              "      <th>37</th>\n",
              "      <td>inq_last_6mths</td>\n",
              "      <td>1.274095e-03</td>\n",
              "      <td>0.018</td>\n",
              "    </tr>\n",
              "    <tr>\n",
              "      <th>38</th>\n",
              "      <td>mths_since_last_delinq</td>\n",
              "      <td>-1.094747e-06</td>\n",
              "      <td>0.971</td>\n",
              "    </tr>\n",
              "    <tr>\n",
              "      <th>39</th>\n",
              "      <td>mths_since_last_record</td>\n",
              "      <td>-5.558083e-05</td>\n",
              "      <td>0.181</td>\n",
              "    </tr>\n",
              "    <tr>\n",
              "      <th>40</th>\n",
              "      <td>open_acc</td>\n",
              "      <td>-1.196505e-03</td>\n",
              "      <td>0.000</td>\n",
              "    </tr>\n",
              "    <tr>\n",
              "      <th>41</th>\n",
              "      <td>pub_rec</td>\n",
              "      <td>3.447322e-03</td>\n",
              "      <td>0.208</td>\n",
              "    </tr>\n",
              "    <tr>\n",
              "      <th>42</th>\n",
              "      <td>total_acc</td>\n",
              "      <td>4.766629e-04</td>\n",
              "      <td>0.000</td>\n",
              "    </tr>\n",
              "    <tr>\n",
              "      <th>43</th>\n",
              "      <td>acc_now_delinq</td>\n",
              "      <td>4.278394e-03</td>\n",
              "      <td>0.658</td>\n",
              "    </tr>\n",
              "    <tr>\n",
              "      <th>44</th>\n",
              "      <td>total_rev_hi_lim</td>\n",
              "      <td>2.263456e-07</td>\n",
              "      <td>0.000</td>\n",
              "    </tr>\n",
              "  </tbody>\n",
              "</table>\n",
              "</div>"
            ],
            "text/plain": [
              "                           Feature name  Coefficients  p_values\n",
              "0                             Intercept  2.406858e-01       NaN\n",
              "1                               grade:A -6.826892e-02     0.000\n",
              "2                               grade:B -5.083556e-02     0.000\n",
              "3                               grade:C -3.748066e-02     0.000\n",
              "4                               grade:D -2.717310e-02     0.000\n",
              "5                               grade:E -1.315941e-02     0.002\n",
              "6                               grade:F -5.260168e-03     0.275\n",
              "7               home_ownership:MORTGAGE  2.832212e-03     0.061\n",
              "8                   home_ownership:NONE  1.459035e-01     0.000\n",
              "9                  home_ownership:OTHER -9.475922e-03     0.644\n",
              "10                   home_ownership:OWN  5.000678e-03     0.040\n",
              "11     verification_status:Not Verified  1.056585e-03     0.553\n",
              "12  verification_status:Source Verified -1.009915e-03     0.535\n",
              "13                          purpose:car -2.995960e-03     0.634\n",
              "14           purpose:debt_consolidation  8.206319e-05     0.965\n",
              "15                  purpose:educational  7.625467e-02     0.000\n",
              "16             purpose:home_improvement -3.702374e-03     0.273\n",
              "17                        purpose:house -3.786803e-03     0.620\n",
              "18               purpose:major_purchase  2.914439e-03     0.538\n",
              "19                      purpose:medical  1.078825e-02     0.074\n",
              "20                       purpose:moving  1.398692e-02     0.039\n",
              "21                        purpose:other  4.841345e-03     0.109\n",
              "22             purpose:renewable_energy  2.420645e-02     0.142\n",
              "23               purpose:small_business  6.212343e-04     0.869\n",
              "24                     purpose:vacation -3.002398e-03     0.731\n",
              "25                      purpose:wedding  2.034853e-02     0.006\n",
              "26                initial_list_status:w  1.464671e-02     0.000\n",
              "27                             term_int  3.316229e-04     0.020\n",
              "28                       emp_length_int  8.727462e-05     0.635\n",
              "29                   mths_since_issue_d -1.521649e-03     0.000\n",
              "30          mths_since_earliest_cr_line  3.418678e-05     0.000\n",
              "31                          funded_amnt -2.186999e-07     0.699\n",
              "32                             int_rate -2.544714e-03     0.000\n",
              "33                          installment -1.037621e-05     0.557\n",
              "34                           annual_inc  6.389841e-08     0.001\n",
              "35                                  dti  1.775655e-04     0.069\n",
              "36                          delinq_2yrs  1.757943e-03     0.050\n",
              "37                       inq_last_6mths  1.274095e-03     0.018\n",
              "38               mths_since_last_delinq -1.094747e-06     0.971\n",
              "39               mths_since_last_record -5.558083e-05     0.181\n",
              "40                             open_acc -1.196505e-03     0.000\n",
              "41                              pub_rec  3.447322e-03     0.208\n",
              "42                            total_acc  4.766629e-04     0.000\n",
              "43                       acc_now_delinq  4.278394e-03     0.658\n",
              "44                     total_rev_hi_lim  2.263456e-07     0.000"
            ]
          },
          "metadata": {
            "tags": []
          },
          "execution_count": 71
        }
      ]
    },
    {
      "cell_type": "markdown",
      "metadata": {
        "id": "x88NmtKdZENa"
      },
      "source": [
        "### Stage 2 – Linear Regression Evaluation"
      ]
    },
    {
      "cell_type": "code",
      "metadata": {
        "id": "erALelFIZENa"
      },
      "source": [
        "lgd_inputs_stage_2_test = lgd_inputs_stage_2_test[features_all]\n",
        "# Here we keep only the variables we need for the model."
      ],
      "execution_count": 72,
      "outputs": []
    },
    {
      "cell_type": "code",
      "metadata": {
        "id": "ulukCF7wZENa"
      },
      "source": [
        "lgd_inputs_stage_2_test = lgd_inputs_stage_2_test.drop(features_reference_cat, axis = 1)\n",
        "# Here we remove the dummy variable reference categories."
      ],
      "execution_count": 73,
      "outputs": []
    },
    {
      "cell_type": "code",
      "metadata": {
        "id": "AMb7OorRZENb",
        "colab": {
          "base_uri": "https://localhost:8080/"
        },
        "outputId": "db397b9b-18ec-4a8a-ccf4-af9fdf362b68"
      },
      "source": [
        "lgd_inputs_stage_2_test.columns.values\n",
        "# Calculates the predicted values for the dependent variable (targets)\n",
        "# based on the values of the independent variables (inputs) supplied as an argument."
      ],
      "execution_count": 74,
      "outputs": [
        {
          "output_type": "execute_result",
          "data": {
            "text/plain": [
              "array(['grade:A', 'grade:B', 'grade:C', 'grade:D', 'grade:E', 'grade:F',\n",
              "       'home_ownership:MORTGAGE', 'home_ownership:NONE',\n",
              "       'home_ownership:OTHER', 'home_ownership:OWN',\n",
              "       'verification_status:Not Verified',\n",
              "       'verification_status:Source Verified', 'purpose:car',\n",
              "       'purpose:debt_consolidation', 'purpose:educational',\n",
              "       'purpose:home_improvement', 'purpose:house',\n",
              "       'purpose:major_purchase', 'purpose:medical', 'purpose:moving',\n",
              "       'purpose:other', 'purpose:renewable_energy',\n",
              "       'purpose:small_business', 'purpose:vacation', 'purpose:wedding',\n",
              "       'initial_list_status:w', 'term_int', 'emp_length_int',\n",
              "       'mths_since_issue_d', 'mths_since_earliest_cr_line', 'funded_amnt',\n",
              "       'int_rate', 'installment', 'annual_inc', 'dti', 'delinq_2yrs',\n",
              "       'inq_last_6mths', 'mths_since_last_delinq',\n",
              "       'mths_since_last_record', 'open_acc', 'pub_rec', 'total_acc',\n",
              "       'acc_now_delinq', 'total_rev_hi_lim'], dtype=object)"
            ]
          },
          "metadata": {
            "tags": []
          },
          "execution_count": 74
        }
      ]
    },
    {
      "cell_type": "code",
      "metadata": {
        "id": "Ebbm-5hrZENb"
      },
      "source": [
        "y_hat_test_lgd_stage_2 = reg_lgd_st_2.predict(lgd_inputs_stage_2_test)\n",
        "# Calculates the predicted values for the dependent variable (targets)\n",
        "# based on the values of the independent variables (inputs) supplied as an argument."
      ],
      "execution_count": 75,
      "outputs": []
    },
    {
      "cell_type": "code",
      "metadata": {
        "id": "nmoitfAdZENb"
      },
      "source": [
        "lgd_targets_stage_2_test_temp = lgd_targets_stage_2_test"
      ],
      "execution_count": 76,
      "outputs": []
    },
    {
      "cell_type": "code",
      "metadata": {
        "id": "Zfs-f_DoZENc"
      },
      "source": [
        "lgd_targets_stage_2_test_temp = lgd_targets_stage_2_test_temp.reset_index(drop = True)\n",
        "# We reset the index of a dataframe."
      ],
      "execution_count": 77,
      "outputs": []
    },
    {
      "cell_type": "code",
      "metadata": {
        "id": "0srowDv0ZENc",
        "colab": {
          "base_uri": "https://localhost:8080/",
          "height": 110
        },
        "outputId": "1da7cac9-0ef6-4504-ed03-7ca5f599d1d9"
      },
      "source": [
        "pd.concat([lgd_targets_stage_2_test_temp, pd.DataFrame(y_hat_test_lgd_stage_2)], axis = 1).corr()\n",
        "# We calculate the correlation between actual and predicted values."
      ],
      "execution_count": 78,
      "outputs": [
        {
          "output_type": "execute_result",
          "data": {
            "text/html": [
              "<div>\n",
              "<style scoped>\n",
              "    .dataframe tbody tr th:only-of-type {\n",
              "        vertical-align: middle;\n",
              "    }\n",
              "\n",
              "    .dataframe tbody tr th {\n",
              "        vertical-align: top;\n",
              "    }\n",
              "\n",
              "    .dataframe thead th {\n",
              "        text-align: right;\n",
              "    }\n",
              "</style>\n",
              "<table border=\"1\" class=\"dataframe\">\n",
              "  <thead>\n",
              "    <tr style=\"text-align: right;\">\n",
              "      <th></th>\n",
              "      <th>recovery rate</th>\n",
              "      <th>0</th>\n",
              "    </tr>\n",
              "  </thead>\n",
              "  <tbody>\n",
              "    <tr>\n",
              "      <th>recovery rate</th>\n",
              "      <td>1.000000</td>\n",
              "      <td>0.307996</td>\n",
              "    </tr>\n",
              "    <tr>\n",
              "      <th>0</th>\n",
              "      <td>0.307996</td>\n",
              "      <td>1.000000</td>\n",
              "    </tr>\n",
              "  </tbody>\n",
              "</table>\n",
              "</div>"
            ],
            "text/plain": [
              "               recovery rate         0\n",
              "recovery rate       1.000000  0.307996\n",
              "0                   0.307996  1.000000"
            ]
          },
          "metadata": {
            "tags": []
          },
          "execution_count": 78
        }
      ]
    },
    {
      "cell_type": "code",
      "metadata": {
        "scrolled": true,
        "id": "nFu6sxYUZENd",
        "colab": {
          "base_uri": "https://localhost:8080/",
          "height": 360
        },
        "outputId": "4c874d63-4d1b-465d-a736-dc178bc1414d"
      },
      "source": [
        "sns.distplot(lgd_targets_stage_2_test - y_hat_test_lgd_stage_2)\n",
        "# We plot the distribution of the residuals."
      ],
      "execution_count": 79,
      "outputs": [
        {
          "output_type": "stream",
          "text": [
            "/usr/local/lib/python3.7/dist-packages/seaborn/distributions.py:2557: FutureWarning: `distplot` is a deprecated function and will be removed in a future version. Please adapt your code to use either `displot` (a figure-level function with similar flexibility) or `histplot` (an axes-level function for histograms).\n",
            "  warnings.warn(msg, FutureWarning)\n"
          ],
          "name": "stderr"
        },
        {
          "output_type": "execute_result",
          "data": {
            "text/plain": [
              "<matplotlib.axes._subplots.AxesSubplot at 0x7f31af7f3690>"
            ]
          },
          "metadata": {
            "tags": []
          },
          "execution_count": 79
        },
        {
          "output_type": "display_data",
          "data": {
            "image/png": "[encoded data removed]",
            "text/plain": [
              "<Figure size 432x288 with 1 Axes>"
            ]
          },
          "metadata": {
            "tags": []
          }
        }
      ]
    },
    {
      "cell_type": "code",
      "metadata": {
        "id": "KceBfZnuZENd"
      },
      "source": [
        "pickle.dump(reg_lgd_st_2, open('lgd_model_stage_2.sav', 'wb'))\n",
        "# Here we export our model to a 'SAV' file with file name 'lgd_model_stage_1.sav'."
      ],
      "execution_count": 80,
      "outputs": []
    },
    {
      "cell_type": "markdown",
      "metadata": {
        "id": "vwfkbOPZZENd"
      },
      "source": [
        "### Combining Stage 1 and Stage 2"
      ]
    },
    {
      "cell_type": "code",
      "metadata": {
        "id": "Hklt_4w_ZENe"
      },
      "source": [
        "y_hat_test_lgd_stage_2_all = reg_lgd_st_2.predict(lgd_inputs_stage_1_test)"
      ],
      "execution_count": 81,
      "outputs": []
    },
    {
      "cell_type": "code",
      "metadata": {
        "id": "jHP8X90cZENe",
        "colab": {
          "base_uri": "https://localhost:8080/"
        },
        "outputId": "97de4c16-8755-4651-f3e5-913101a97521"
      },
      "source": [
        "y_hat_test_lgd_stage_2_all"
      ],
      "execution_count": 82,
      "outputs": [
        {
          "output_type": "execute_result",
          "data": {
            "text/plain": [
              "array([0.1193906 , 0.09605635, 0.13367631, ..., 0.12078611, 0.11587422,\n",
              "       0.15667447])"
            ]
          },
          "metadata": {
            "tags": []
          },
          "execution_count": 82
        }
      ]
    },
    {
      "cell_type": "code",
      "metadata": {
        "id": "6IjKTkMbZENe"
      },
      "source": [
        "y_hat_test_lgd = y_hat_test_lgd_stage_1 * y_hat_test_lgd_stage_2_all\n",
        "# Here we combine the predictions of the models from the two stages."
      ],
      "execution_count": 83,
      "outputs": []
    },
    {
      "cell_type": "code",
      "metadata": {
        "colab": {
          "base_uri": "https://localhost:8080/"
        },
        "id": "tCCb_dT2qjdD",
        "outputId": "71087a4d-0b2b-41b1-bace-1789a3d6157a"
      },
      "source": [
        "y_hat_test_lgd"
      ],
      "execution_count": 84,
      "outputs": [
        {
          "output_type": "execute_result",
          "data": {
            "text/plain": [
              "array([0.1193906 , 0.09605635, 0.        , ..., 0.12078611, 0.11587422,\n",
              "       0.        ])"
            ]
          },
          "metadata": {
            "tags": []
          },
          "execution_count": 84
        }
      ]
    },
    {
      "cell_type": "code",
      "metadata": {
        "id": "EtBa-9dfZENf",
        "colab": {
          "base_uri": "https://localhost:8080/",
          "height": 294
        },
        "outputId": "9881c7ea-8c50-4241-df65-912fd12d5e77"
      },
      "source": [
        "pd.DataFrame(y_hat_test_lgd).describe()\n",
        "# Shows some descriptive statisics for the values of a column."
      ],
      "execution_count": 85,
      "outputs": [
        {
          "output_type": "execute_result",
          "data": {
            "text/html": [
              "<div>\n",
              "<style scoped>\n",
              "    .dataframe tbody tr th:only-of-type {\n",
              "        vertical-align: middle;\n",
              "    }\n",
              "\n",
              "    .dataframe tbody tr th {\n",
              "        vertical-align: top;\n",
              "    }\n",
              "\n",
              "    .dataframe thead th {\n",
              "        text-align: right;\n",
              "    }\n",
              "</style>\n",
              "<table border=\"1\" class=\"dataframe\">\n",
              "  <thead>\n",
              "    <tr style=\"text-align: right;\">\n",
              "      <th></th>\n",
              "      <th>0</th>\n",
              "    </tr>\n",
              "  </thead>\n",
              "  <tbody>\n",
              "    <tr>\n",
              "      <th>count</th>\n",
              "      <td>8648.000000</td>\n",
              "    </tr>\n",
              "    <tr>\n",
              "      <th>mean</th>\n",
              "      <td>0.072791</td>\n",
              "    </tr>\n",
              "    <tr>\n",
              "      <th>std</th>\n",
              "      <td>0.052879</td>\n",
              "    </tr>\n",
              "    <tr>\n",
              "      <th>min</th>\n",
              "      <td>-0.007634</td>\n",
              "    </tr>\n",
              "    <tr>\n",
              "      <th>25%</th>\n",
              "      <td>0.000000</td>\n",
              "    </tr>\n",
              "    <tr>\n",
              "      <th>50%</th>\n",
              "      <td>0.090236</td>\n",
              "    </tr>\n",
              "    <tr>\n",
              "      <th>75%</th>\n",
              "      <td>0.115151</td>\n",
              "    </tr>\n",
              "    <tr>\n",
              "      <th>max</th>\n",
              "      <td>0.236973</td>\n",
              "    </tr>\n",
              "  </tbody>\n",
              "</table>\n",
              "</div>"
            ],
            "text/plain": [
              "                 0\n",
              "count  8648.000000\n",
              "mean      0.072791\n",
              "std       0.052879\n",
              "min      -0.007634\n",
              "25%       0.000000\n",
              "50%       0.090236\n",
              "75%       0.115151\n",
              "max       0.236973"
            ]
          },
          "metadata": {
            "tags": []
          },
          "execution_count": 85
        }
      ]
    },
    {
      "cell_type": "code",
      "metadata": {
        "id": "-L36lCTHZENf"
      },
      "source": [
        "y_hat_test_lgd = np.where(y_hat_test_lgd < 0, 0, y_hat_test_lgd)\n",
        "y_hat_test_lgd = np.where(y_hat_test_lgd > 1, 1, y_hat_test_lgd)\n",
        "# We set predicted values that are greater than 1 to 1 and predicted values that are less than 0 to 0."
      ],
      "execution_count": 86,
      "outputs": []
    },
    {
      "cell_type": "code",
      "metadata": {
        "id": "Ls8Jga8aZENg",
        "colab": {
          "base_uri": "https://localhost:8080/",
          "height": 294
        },
        "outputId": "9100d70c-25ca-43ce-ba34-0f715f7787ad"
      },
      "source": [
        "pd.DataFrame(y_hat_test_lgd).describe()\n",
        "# Shows some descriptive statisics for the values of a column."
      ],
      "execution_count": 87,
      "outputs": [
        {
          "output_type": "execute_result",
          "data": {
            "text/html": [
              "<div>\n",
              "<style scoped>\n",
              "    .dataframe tbody tr th:only-of-type {\n",
              "        vertical-align: middle;\n",
              "    }\n",
              "\n",
              "    .dataframe tbody tr th {\n",
              "        vertical-align: top;\n",
              "    }\n",
              "\n",
              "    .dataframe thead th {\n",
              "        text-align: right;\n",
              "    }\n",
              "</style>\n",
              "<table border=\"1\" class=\"dataframe\">\n",
              "  <thead>\n",
              "    <tr style=\"text-align: right;\">\n",
              "      <th></th>\n",
              "      <th>0</th>\n",
              "    </tr>\n",
              "  </thead>\n",
              "  <tbody>\n",
              "    <tr>\n",
              "      <th>count</th>\n",
              "      <td>8648.000000</td>\n",
              "    </tr>\n",
              "    <tr>\n",
              "      <th>mean</th>\n",
              "      <td>0.072793</td>\n",
              "    </tr>\n",
              "    <tr>\n",
              "      <th>std</th>\n",
              "      <td>0.052876</td>\n",
              "    </tr>\n",
              "    <tr>\n",
              "      <th>min</th>\n",
              "      <td>0.000000</td>\n",
              "    </tr>\n",
              "    <tr>\n",
              "      <th>25%</th>\n",
              "      <td>0.000000</td>\n",
              "    </tr>\n",
              "    <tr>\n",
              "      <th>50%</th>\n",
              "      <td>0.090236</td>\n",
              "    </tr>\n",
              "    <tr>\n",
              "      <th>75%</th>\n",
              "      <td>0.115151</td>\n",
              "    </tr>\n",
              "    <tr>\n",
              "      <th>max</th>\n",
              "      <td>0.236973</td>\n",
              "    </tr>\n",
              "  </tbody>\n",
              "</table>\n",
              "</div>"
            ],
            "text/plain": [
              "                 0\n",
              "count  8648.000000\n",
              "mean      0.072793\n",
              "std       0.052876\n",
              "min       0.000000\n",
              "25%       0.000000\n",
              "50%       0.090236\n",
              "75%       0.115151\n",
              "max       0.236973"
            ]
          },
          "metadata": {
            "tags": []
          },
          "execution_count": 87
        }
      ]
    },
    {
      "cell_type": "markdown",
      "metadata": {
        "id": "ksLsKZGqWGKs"
      },
      "source": [
        "# EAD Model"
      ]
    },
    {
      "cell_type": "markdown",
      "metadata": {
        "id": "CHKiZW7IWGKt"
      },
      "source": [
        "### Estimation and Interpretation"
      ]
    },
    {
      "cell_type": "code",
      "metadata": {
        "id": "BjWaArVgWGKt"
      },
      "source": [
        "# EAD model datasets\n",
        "ead_inputs_train, ead_inputs_test, ead_targets_train, ead_targets_test = train_test_split(loan_data_defaults.drop(['good_bad', 'recovery rate','recovery_rate_0_1', 'CCF'], axis = 1), loan_data_defaults['CCF'], test_size = 0.2, random_state = 42)\n",
        "# Takes a set of inputs and a set of targets as arguments. Splits the inputs and the targets into four dataframes:\n",
        "# Inputs - Train, Inputs - Test, Targets - Train, Targets - Test."
      ],
      "execution_count": 88,
      "outputs": []
    },
    {
      "cell_type": "code",
      "metadata": {
        "id": "7oH6nYOAWGKu",
        "colab": {
          "base_uri": "https://localhost:8080/"
        },
        "outputId": "09928647-1306-4da7-e20e-046aef74ae85"
      },
      "source": [
        "ead_inputs_train.columns.values"
      ],
      "execution_count": 89,
      "outputs": [
        {
          "output_type": "execute_result",
          "data": {
            "text/plain": [
              "array(['Unnamed: 0', 'Unnamed: 0.1', 'id', 'member_id', 'loan_amnt',\n",
              "       'funded_amnt', 'funded_amnt_inv', 'term', 'int_rate',\n",
              "       'installment', 'grade', 'sub_grade', 'emp_title', 'emp_length',\n",
              "       'home_ownership', 'annual_inc', 'verification_status', 'issue_d',\n",
              "       'loan_status', 'pymnt_plan', 'url', 'desc', 'purpose', 'title',\n",
              "       'zip_code', 'addr_state', 'dti', 'delinq_2yrs', 'earliest_cr_line',\n",
              "       'inq_last_6mths', 'mths_since_last_delinq',\n",
              "       'mths_since_last_record', 'open_acc', 'pub_rec', 'revol_bal',\n",
              "       'revol_util', 'total_acc', 'initial_list_status', 'out_prncp',\n",
              "       'out_prncp_inv', 'total_pymnt', 'total_pymnt_inv',\n",
              "       'total_rec_prncp', 'total_rec_int', 'total_rec_late_fee',\n",
              "       'recoveries', 'collection_recovery_fee', 'last_pymnt_d',\n",
              "       'last_pymnt_amnt', 'next_pymnt_d', 'last_credit_pull_d',\n",
              "       'collections_12_mths_ex_med', 'mths_since_last_major_derog',\n",
              "       'policy_code', 'application_type', 'annual_inc_joint', 'dti_joint',\n",
              "       'verification_status_joint', 'acc_now_delinq', 'tot_coll_amt',\n",
              "       'tot_cur_bal', 'open_acc_6m', 'open_il_6m', 'open_il_12m',\n",
              "       'open_il_24m', 'mths_since_rcnt_il', 'total_bal_il', 'il_util',\n",
              "       'open_rv_12m', 'open_rv_24m', 'max_bal_bc', 'all_util',\n",
              "       'total_rev_hi_lim', 'inq_fi', 'total_cu_tl', 'inq_last_12m',\n",
              "       'emp_length_int', 'earliest_cr_line_date',\n",
              "       'mths_since_earliest_cr_line', 'term_int', 'issue_d_date',\n",
              "       'mths_since_issue_d', 'grade:A', 'grade:B', 'grade:C', 'grade:D',\n",
              "       'grade:E', 'grade:F', 'grade:G', 'sub_grade:A1', 'sub_grade:A2',\n",
              "       'sub_grade:A3', 'sub_grade:A4', 'sub_grade:A5', 'sub_grade:B1',\n",
              "       'sub_grade:B2', 'sub_grade:B3', 'sub_grade:B4', 'sub_grade:B5',\n",
              "       'sub_grade:C1', 'sub_grade:C2', 'sub_grade:C3', 'sub_grade:C4',\n",
              "       'sub_grade:C5', 'sub_grade:D1', 'sub_grade:D2', 'sub_grade:D3',\n",
              "       'sub_grade:D4', 'sub_grade:D5', 'sub_grade:E1', 'sub_grade:E2',\n",
              "       'sub_grade:E3', 'sub_grade:E4', 'sub_grade:E5', 'sub_grade:F1',\n",
              "       'sub_grade:F2', 'sub_grade:F3', 'sub_grade:F4', 'sub_grade:F5',\n",
              "       'sub_grade:G1', 'sub_grade:G2', 'sub_grade:G3', 'sub_grade:G4',\n",
              "       'sub_grade:G5', 'home_ownership:ANY', 'home_ownership:MORTGAGE',\n",
              "       'home_ownership:NONE', 'home_ownership:OTHER',\n",
              "       'home_ownership:OWN', 'home_ownership:RENT',\n",
              "       'verification_status:Not Verified',\n",
              "       'verification_status:Source Verified',\n",
              "       'verification_status:Verified', 'loan_status:Charged Off',\n",
              "       'loan_status:Current', 'loan_status:Default',\n",
              "       'loan_status:Does not meet the credit policy. Status:Charged Off',\n",
              "       'loan_status:Does not meet the credit policy. Status:Fully Paid',\n",
              "       'loan_status:Fully Paid', 'loan_status:In Grace Period',\n",
              "       'loan_status:Late (16-30 days)', 'loan_status:Late (31-120 days)',\n",
              "       'purpose:car', 'purpose:credit_card', 'purpose:debt_consolidation',\n",
              "       'purpose:educational', 'purpose:home_improvement', 'purpose:house',\n",
              "       'purpose:major_purchase', 'purpose:medical', 'purpose:moving',\n",
              "       'purpose:other', 'purpose:renewable_energy',\n",
              "       'purpose:small_business', 'purpose:vacation', 'purpose:wedding',\n",
              "       'addr_state:AK', 'addr_state:AL', 'addr_state:AR', 'addr_state:AZ',\n",
              "       'addr_state:CA', 'addr_state:CO', 'addr_state:CT', 'addr_state:DC',\n",
              "       'addr_state:DE', 'addr_state:FL', 'addr_state:GA', 'addr_state:HI',\n",
              "       'addr_state:IA', 'addr_state:ID', 'addr_state:IL', 'addr_state:IN',\n",
              "       'addr_state:KS', 'addr_state:KY', 'addr_state:LA', 'addr_state:MA',\n",
              "       'addr_state:MD', 'addr_state:ME', 'addr_state:MI', 'addr_state:MN',\n",
              "       'addr_state:MO', 'addr_state:MS', 'addr_state:MT', 'addr_state:NC',\n",
              "       'addr_state:NE', 'addr_state:NH', 'addr_state:NJ', 'addr_state:NM',\n",
              "       'addr_state:NV', 'addr_state:NY', 'addr_state:OH', 'addr_state:OK',\n",
              "       'addr_state:OR', 'addr_state:PA', 'addr_state:RI', 'addr_state:SC',\n",
              "       'addr_state:SD', 'addr_state:TN', 'addr_state:TX', 'addr_state:UT',\n",
              "       'addr_state:VA', 'addr_state:VT', 'addr_state:WA', 'addr_state:WI',\n",
              "       'addr_state:WV', 'addr_state:WY', 'initial_list_status:f',\n",
              "       'initial_list_status:w'], dtype=object)"
            ]
          },
          "metadata": {
            "tags": []
          },
          "execution_count": 89
        }
      ]
    },
    {
      "cell_type": "code",
      "metadata": {
        "id": "b2lmOGxSWGKu"
      },
      "source": [
        "ead_inputs_train = ead_inputs_train[features_all]\n",
        "# Here we keep only the variables we need for the model."
      ],
      "execution_count": 90,
      "outputs": []
    },
    {
      "cell_type": "code",
      "metadata": {
        "id": "tM8GvyXhWGKv"
      },
      "source": [
        "ead_inputs_train = ead_inputs_train.drop(features_reference_cat, axis = 1)\n",
        "# Here we remove the dummy variable reference categories."
      ],
      "execution_count": 91,
      "outputs": []
    },
    {
      "cell_type": "code",
      "metadata": {
        "id": "fWXYUwqiWGKv",
        "colab": {
          "base_uri": "https://localhost:8080/"
        },
        "outputId": "09fd1626-e7a4-4a28-b20f-7c1ff7cadcf1"
      },
      "source": [
        "reg_ead = LinearRegression()\n",
        "# We create an instance of an object from the 'LinearRegression' class.\n",
        "reg_ead.fit(ead_inputs_train, ead_targets_train)\n",
        "# Estimates the coefficients of the object from the 'LogisticRegression' class\n",
        "# with inputs (independent variables) contained in the first dataframe\n",
        "# and targets (dependent variables) contained in the second dataframe."
      ],
      "execution_count": 92,
      "outputs": [
        {
          "output_type": "execute_result",
          "data": {
            "text/plain": [
              "LinearRegression(copy_X=True, fit_intercept=True, n_jobs=1, normalize=False)"
            ]
          },
          "metadata": {
            "tags": []
          },
          "execution_count": 92
        }
      ]
    },
    {
      "cell_type": "code",
      "metadata": {
        "id": "XPp1UrKgWGKv"
      },
      "source": [
        "feature_name = ead_inputs_train.columns.values"
      ],
      "execution_count": 93,
      "outputs": []
    },
    {
      "cell_type": "code",
      "metadata": {
        "scrolled": true,
        "id": "9juOe2dwWGKw",
        "colab": {
          "base_uri": "https://localhost:8080/",
          "height": 0
        },
        "outputId": "c04f7d61-6056-49fe-c53b-9031a78b91de"
      },
      "source": [
        "summary_table = pd.DataFrame(columns = ['Feature name'], data = feature_name)\n",
        "# Creates a dataframe with a column titled 'Feature name' and row values contained in the 'feature_name' variable.\n",
        "summary_table['Coefficients'] = np.transpose(reg_ead.coef_)\n",
        "# Creates a new column in the dataframe, called 'Coefficients',\n",
        "# with row values the transposed coefficients from the 'LogisticRegression' object.\n",
        "summary_table.index = summary_table.index + 1\n",
        "# Increases the index of every row of the dataframe with 1.\n",
        "summary_table.loc[0] = ['Intercept', reg_ead.intercept_]\n",
        "# Assigns values of the row with index 0 of the dataframe.\n",
        "summary_table = summary_table.sort_index()\n",
        "# Sorts the dataframe by index.\n",
        "p_values = reg_ead.p\n",
        "# We take the result of the newly added method 'p_values' and store it in a variable 'p_values'.\n",
        "p_values = np.append(np.nan,np.array(p_values))\n",
        "# We add the value 'NaN' in the beginning of the variable with p-values.\n",
        "summary_table['p_values'] = p_values\n",
        "# In the 'summary_table' dataframe, we add a new column, called 'p_values', containing the values from the 'p_values' variable.\n",
        "summary_table"
      ],
      "execution_count": 94,
      "outputs": [
        {
          "output_type": "execute_result",
          "data": {
            "text/html": [
              "<div>\n",
              "<style scoped>\n",
              "    .dataframe tbody tr th:only-of-type {\n",
              "        vertical-align: middle;\n",
              "    }\n",
              "\n",
              "    .dataframe tbody tr th {\n",
              "        vertical-align: top;\n",
              "    }\n",
              "\n",
              "    .dataframe thead th {\n",
              "        text-align: right;\n",
              "    }\n",
              "</style>\n",
              "<table border=\"1\" class=\"dataframe\">\n",
              "  <thead>\n",
              "    <tr style=\"text-align: right;\">\n",
              "      <th></th>\n",
              "      <th>Feature name</th>\n",
              "      <th>Coefficients</th>\n",
              "      <th>p_values</th>\n",
              "    </tr>\n",
              "  </thead>\n",
              "  <tbody>\n",
              "    <tr>\n",
              "      <th>0</th>\n",
              "      <td>Intercept</td>\n",
              "      <td>1.109746e+00</td>\n",
              "      <td>NaN</td>\n",
              "    </tr>\n",
              "    <tr>\n",
              "      <th>1</th>\n",
              "      <td>grade:A</td>\n",
              "      <td>-3.030033e-01</td>\n",
              "      <td>0.000000e+00</td>\n",
              "    </tr>\n",
              "    <tr>\n",
              "      <th>2</th>\n",
              "      <td>grade:B</td>\n",
              "      <td>-2.364277e-01</td>\n",
              "      <td>0.000000e+00</td>\n",
              "    </tr>\n",
              "    <tr>\n",
              "      <th>3</th>\n",
              "      <td>grade:C</td>\n",
              "      <td>-1.720232e-01</td>\n",
              "      <td>0.000000e+00</td>\n",
              "    </tr>\n",
              "    <tr>\n",
              "      <th>4</th>\n",
              "      <td>grade:D</td>\n",
              "      <td>-1.198470e-01</td>\n",
              "      <td>0.000000e+00</td>\n",
              "    </tr>\n",
              "    <tr>\n",
              "      <th>5</th>\n",
              "      <td>grade:E</td>\n",
              "      <td>-6.768713e-02</td>\n",
              "      <td>0.000000e+00</td>\n",
              "    </tr>\n",
              "    <tr>\n",
              "      <th>6</th>\n",
              "      <td>grade:F</td>\n",
              "      <td>-2.045907e-02</td>\n",
              "      <td>4.428795e-03</td>\n",
              "    </tr>\n",
              "    <tr>\n",
              "      <th>7</th>\n",
              "      <td>home_ownership:MORTGAGE</td>\n",
              "      <td>-6.343341e-03</td>\n",
              "      <td>2.632464e-03</td>\n",
              "    </tr>\n",
              "    <tr>\n",
              "      <th>8</th>\n",
              "      <td>home_ownership:NONE</td>\n",
              "      <td>-5.539064e-03</td>\n",
              "      <td>9.318931e-01</td>\n",
              "    </tr>\n",
              "    <tr>\n",
              "      <th>9</th>\n",
              "      <td>home_ownership:OTHER</td>\n",
              "      <td>-2.426052e-03</td>\n",
              "      <td>9.335820e-01</td>\n",
              "    </tr>\n",
              "    <tr>\n",
              "      <th>10</th>\n",
              "      <td>home_ownership:OWN</td>\n",
              "      <td>-1.619582e-03</td>\n",
              "      <td>6.366112e-01</td>\n",
              "    </tr>\n",
              "    <tr>\n",
              "      <th>11</th>\n",
              "      <td>verification_status:Not Verified</td>\n",
              "      <td>5.339510e-05</td>\n",
              "      <td>9.828295e-01</td>\n",
              "    </tr>\n",
              "    <tr>\n",
              "      <th>12</th>\n",
              "      <td>verification_status:Source Verified</td>\n",
              "      <td>8.967822e-03</td>\n",
              "      <td>7.828941e-05</td>\n",
              "    </tr>\n",
              "    <tr>\n",
              "      <th>13</th>\n",
              "      <td>purpose:car</td>\n",
              "      <td>7.904787e-04</td>\n",
              "      <td>9.330252e-01</td>\n",
              "    </tr>\n",
              "    <tr>\n",
              "      <th>14</th>\n",
              "      <td>purpose:debt_consolidation</td>\n",
              "      <td>1.264922e-02</td>\n",
              "      <td>5.898438e-07</td>\n",
              "    </tr>\n",
              "    <tr>\n",
              "      <th>15</th>\n",
              "      <td>purpose:educational</td>\n",
              "      <td>9.643587e-02</td>\n",
              "      <td>1.801025e-06</td>\n",
              "    </tr>\n",
              "    <tr>\n",
              "      <th>16</th>\n",
              "      <td>purpose:home_improvement</td>\n",
              "      <td>1.923044e-02</td>\n",
              "      <td>4.873543e-05</td>\n",
              "    </tr>\n",
              "    <tr>\n",
              "      <th>17</th>\n",
              "      <td>purpose:house</td>\n",
              "      <td>1.607120e-02</td>\n",
              "      <td>1.653651e-01</td>\n",
              "    </tr>\n",
              "    <tr>\n",
              "      <th>18</th>\n",
              "      <td>purpose:major_purchase</td>\n",
              "      <td>2.984917e-02</td>\n",
              "      <td>2.197793e-05</td>\n",
              "    </tr>\n",
              "    <tr>\n",
              "      <th>19</th>\n",
              "      <td>purpose:medical</td>\n",
              "      <td>3.962479e-02</td>\n",
              "      <td>5.238263e-06</td>\n",
              "    </tr>\n",
              "    <tr>\n",
              "      <th>20</th>\n",
              "      <td>purpose:moving</td>\n",
              "      <td>4.577630e-02</td>\n",
              "      <td>2.987383e-06</td>\n",
              "    </tr>\n",
              "    <tr>\n",
              "      <th>21</th>\n",
              "      <td>purpose:other</td>\n",
              "      <td>3.706744e-02</td>\n",
              "      <td>0.000000e+00</td>\n",
              "    </tr>\n",
              "    <tr>\n",
              "      <th>22</th>\n",
              "      <td>purpose:renewable_energy</td>\n",
              "      <td>7.212969e-02</td>\n",
              "      <td>8.889877e-03</td>\n",
              "    </tr>\n",
              "    <tr>\n",
              "      <th>23</th>\n",
              "      <td>purpose:small_business</td>\n",
              "      <td>5.128674e-02</td>\n",
              "      <td>0.000000e+00</td>\n",
              "    </tr>\n",
              "    <tr>\n",
              "      <th>24</th>\n",
              "      <td>purpose:vacation</td>\n",
              "      <td>1.874863e-02</td>\n",
              "      <td>1.152702e-01</td>\n",
              "    </tr>\n",
              "    <tr>\n",
              "      <th>25</th>\n",
              "      <td>purpose:wedding</td>\n",
              "      <td>4.350522e-02</td>\n",
              "      <td>2.032121e-04</td>\n",
              "    </tr>\n",
              "    <tr>\n",
              "      <th>26</th>\n",
              "      <td>initial_list_status:w</td>\n",
              "      <td>1.318126e-02</td>\n",
              "      <td>6.115181e-09</td>\n",
              "    </tr>\n",
              "    <tr>\n",
              "      <th>27</th>\n",
              "      <td>term_int</td>\n",
              "      <td>4.551882e-03</td>\n",
              "      <td>0.000000e+00</td>\n",
              "    </tr>\n",
              "    <tr>\n",
              "      <th>28</th>\n",
              "      <td>emp_length_int</td>\n",
              "      <td>-1.591478e-03</td>\n",
              "      <td>4.404626e-10</td>\n",
              "    </tr>\n",
              "    <tr>\n",
              "      <th>29</th>\n",
              "      <td>mths_since_issue_d</td>\n",
              "      <td>-4.305274e-03</td>\n",
              "      <td>0.000000e+00</td>\n",
              "    </tr>\n",
              "    <tr>\n",
              "      <th>30</th>\n",
              "      <td>mths_since_earliest_cr_line</td>\n",
              "      <td>-3.634030e-05</td>\n",
              "      <td>2.742071e-03</td>\n",
              "    </tr>\n",
              "    <tr>\n",
              "      <th>31</th>\n",
              "      <td>funded_amnt</td>\n",
              "      <td>2.212126e-06</td>\n",
              "      <td>7.225181e-03</td>\n",
              "    </tr>\n",
              "    <tr>\n",
              "      <th>32</th>\n",
              "      <td>int_rate</td>\n",
              "      <td>-1.172652e-02</td>\n",
              "      <td>0.000000e+00</td>\n",
              "    </tr>\n",
              "    <tr>\n",
              "      <th>33</th>\n",
              "      <td>installment</td>\n",
              "      <td>-6.865607e-05</td>\n",
              "      <td>7.429261e-03</td>\n",
              "    </tr>\n",
              "    <tr>\n",
              "      <th>34</th>\n",
              "      <td>annual_inc</td>\n",
              "      <td>5.021816e-09</td>\n",
              "      <td>8.574696e-01</td>\n",
              "    </tr>\n",
              "    <tr>\n",
              "      <th>35</th>\n",
              "      <td>dti</td>\n",
              "      <td>2.832769e-04</td>\n",
              "      <td>3.632507e-02</td>\n",
              "    </tr>\n",
              "    <tr>\n",
              "      <th>36</th>\n",
              "      <td>delinq_2yrs</td>\n",
              "      <td>4.833234e-04</td>\n",
              "      <td>6.946456e-01</td>\n",
              "    </tr>\n",
              "    <tr>\n",
              "      <th>37</th>\n",
              "      <td>inq_last_6mths</td>\n",
              "      <td>1.131678e-02</td>\n",
              "      <td>0.000000e+00</td>\n",
              "    </tr>\n",
              "    <tr>\n",
              "      <th>38</th>\n",
              "      <td>mths_since_last_delinq</td>\n",
              "      <td>-1.965980e-04</td>\n",
              "      <td>3.220434e-06</td>\n",
              "    </tr>\n",
              "    <tr>\n",
              "      <th>39</th>\n",
              "      <td>mths_since_last_record</td>\n",
              "      <td>-5.085639e-05</td>\n",
              "      <td>3.291896e-01</td>\n",
              "    </tr>\n",
              "    <tr>\n",
              "      <th>40</th>\n",
              "      <td>open_acc</td>\n",
              "      <td>-2.142130e-03</td>\n",
              "      <td>4.218847e-15</td>\n",
              "    </tr>\n",
              "    <tr>\n",
              "      <th>41</th>\n",
              "      <td>pub_rec</td>\n",
              "      <td>6.782062e-03</td>\n",
              "      <td>4.252750e-02</td>\n",
              "    </tr>\n",
              "    <tr>\n",
              "      <th>42</th>\n",
              "      <td>total_acc</td>\n",
              "      <td>4.518110e-04</td>\n",
              "      <td>1.902931e-04</td>\n",
              "    </tr>\n",
              "    <tr>\n",
              "      <th>43</th>\n",
              "      <td>acc_now_delinq</td>\n",
              "      <td>9.974801e-03</td>\n",
              "      <td>5.012787e-01</td>\n",
              "    </tr>\n",
              "    <tr>\n",
              "      <th>44</th>\n",
              "      <td>total_rev_hi_lim</td>\n",
              "      <td>2.166527e-07</td>\n",
              "      <td>8.196014e-05</td>\n",
              "    </tr>\n",
              "  </tbody>\n",
              "</table>\n",
              "</div>"
            ],
            "text/plain": [
              "                           Feature name  Coefficients      p_values\n",
              "0                             Intercept  1.109746e+00           NaN\n",
              "1                               grade:A -3.030033e-01  0.000000e+00\n",
              "2                               grade:B -2.364277e-01  0.000000e+00\n",
              "3                               grade:C -1.720232e-01  0.000000e+00\n",
              "4                               grade:D -1.198470e-01  0.000000e+00\n",
              "5                               grade:E -6.768713e-02  0.000000e+00\n",
              "6                               grade:F -2.045907e-02  4.428795e-03\n",
              "7               home_ownership:MORTGAGE -6.343341e-03  2.632464e-03\n",
              "8                   home_ownership:NONE -5.539064e-03  9.318931e-01\n",
              "9                  home_ownership:OTHER -2.426052e-03  9.335820e-01\n",
              "10                   home_ownership:OWN -1.619582e-03  6.366112e-01\n",
              "11     verification_status:Not Verified  5.339510e-05  9.828295e-01\n",
              "12  verification_status:Source Verified  8.967822e-03  7.828941e-05\n",
              "13                          purpose:car  7.904787e-04  9.330252e-01\n",
              "14           purpose:debt_consolidation  1.264922e-02  5.898438e-07\n",
              "15                  purpose:educational  9.643587e-02  1.801025e-06\n",
              "16             purpose:home_improvement  1.923044e-02  4.873543e-05\n",
              "17                        purpose:house  1.607120e-02  1.653651e-01\n",
              "18               purpose:major_purchase  2.984917e-02  2.197793e-05\n",
              "19                      purpose:medical  3.962479e-02  5.238263e-06\n",
              "20                       purpose:moving  4.577630e-02  2.987383e-06\n",
              "21                        purpose:other  3.706744e-02  0.000000e+00\n",
              "22             purpose:renewable_energy  7.212969e-02  8.889877e-03\n",
              "23               purpose:small_business  5.128674e-02  0.000000e+00\n",
              "24                     purpose:vacation  1.874863e-02  1.152702e-01\n",
              "25                      purpose:wedding  4.350522e-02  2.032121e-04\n",
              "26                initial_list_status:w  1.318126e-02  6.115181e-09\n",
              "27                             term_int  4.551882e-03  0.000000e+00\n",
              "28                       emp_length_int -1.591478e-03  4.404626e-10\n",
              "29                   mths_since_issue_d -4.305274e-03  0.000000e+00\n",
              "30          mths_since_earliest_cr_line -3.634030e-05  2.742071e-03\n",
              "31                          funded_amnt  2.212126e-06  7.225181e-03\n",
              "32                             int_rate -1.172652e-02  0.000000e+00\n",
              "33                          installment -6.865607e-05  7.429261e-03\n",
              "34                           annual_inc  5.021816e-09  8.574696e-01\n",
              "35                                  dti  2.832769e-04  3.632507e-02\n",
              "36                          delinq_2yrs  4.833234e-04  6.946456e-01\n",
              "37                       inq_last_6mths  1.131678e-02  0.000000e+00\n",
              "38               mths_since_last_delinq -1.965980e-04  3.220434e-06\n",
              "39               mths_since_last_record -5.085639e-05  3.291896e-01\n",
              "40                             open_acc -2.142130e-03  4.218847e-15\n",
              "41                              pub_rec  6.782062e-03  4.252750e-02\n",
              "42                            total_acc  4.518110e-04  1.902931e-04\n",
              "43                       acc_now_delinq  9.974801e-03  5.012787e-01\n",
              "44                     total_rev_hi_lim  2.166527e-07  8.196014e-05"
            ]
          },
          "metadata": {
            "tags": []
          },
          "execution_count": 94
        }
      ]
    },
    {
      "cell_type": "markdown",
      "metadata": {
        "id": "ZXuhnCf-ZkTi"
      },
      "source": [
        "### Validation"
      ]
    },
    {
      "cell_type": "code",
      "metadata": {
        "id": "12HqlCfmZJlr"
      },
      "source": [
        "ead_inputs_test=ead_inputs_test[features_all]\n",
        "ead_inputs_test=ead_inputs_test.drop(features_reference_cat,axis=1)"
      ],
      "execution_count": 95,
      "outputs": []
    },
    {
      "cell_type": "code",
      "metadata": {
        "id": "CR8W10eKZjoD"
      },
      "source": [
        "y_hat_test_ead=reg_ead.predict(ead_inputs_test)"
      ],
      "execution_count": 96,
      "outputs": []
    },
    {
      "cell_type": "code",
      "metadata": {
        "id": "-gT5Rv-ZawfH"
      },
      "source": [
        "ead_targets_test_temp=ead_targets_test"
      ],
      "execution_count": 97,
      "outputs": []
    },
    {
      "cell_type": "code",
      "metadata": {
        "id": "_DGjpU3cbEjw"
      },
      "source": [
        "ead_targets_test_temp=ead_targets_test.reset_index(drop=True)"
      ],
      "execution_count": 98,
      "outputs": []
    },
    {
      "cell_type": "code",
      "metadata": {
        "colab": {
          "base_uri": "https://localhost:8080/",
          "height": 0
        },
        "id": "iuDhoHYbbUYQ",
        "outputId": "b007216b-82a6-49d7-fe70-1818bc80a865"
      },
      "source": [
        "pd.concat([ead_targets_test_temp,pd.DataFrame(y_hat_test_ead)],axis=1).corr()"
      ],
      "execution_count": 99,
      "outputs": [
        {
          "output_type": "execute_result",
          "data": {
            "text/html": [
              "<div>\n",
              "<style scoped>\n",
              "    .dataframe tbody tr th:only-of-type {\n",
              "        vertical-align: middle;\n",
              "    }\n",
              "\n",
              "    .dataframe tbody tr th {\n",
              "        vertical-align: top;\n",
              "    }\n",
              "\n",
              "    .dataframe thead th {\n",
              "        text-align: right;\n",
              "    }\n",
              "</style>\n",
              "<table border=\"1\" class=\"dataframe\">\n",
              "  <thead>\n",
              "    <tr style=\"text-align: right;\">\n",
              "      <th></th>\n",
              "      <th>CCF</th>\n",
              "      <th>0</th>\n",
              "    </tr>\n",
              "  </thead>\n",
              "  <tbody>\n",
              "    <tr>\n",
              "      <th>CCF</th>\n",
              "      <td>1.000000</td>\n",
              "      <td>0.530654</td>\n",
              "    </tr>\n",
              "    <tr>\n",
              "      <th>0</th>\n",
              "      <td>0.530654</td>\n",
              "      <td>1.000000</td>\n",
              "    </tr>\n",
              "  </tbody>\n",
              "</table>\n",
              "</div>"
            ],
            "text/plain": [
              "          CCF         0\n",
              "CCF  1.000000  0.530654\n",
              "0    0.530654  1.000000"
            ]
          },
          "metadata": {
            "tags": []
          },
          "execution_count": 99
        }
      ]
    },
    {
      "cell_type": "code",
      "metadata": {
        "colab": {
          "base_uri": "https://localhost:8080/",
          "height": 0
        },
        "id": "2vd4EbYPgGtm",
        "outputId": "ec0a63a5-4169-4c2b-ff52-7756f653f177"
      },
      "source": [
        "sns.distplot(ead_targets_test - y_hat_test_ead)"
      ],
      "execution_count": 100,
      "outputs": [
        {
          "output_type": "stream",
          "text": [
            "/usr/local/lib/python3.7/dist-packages/seaborn/distributions.py:2557: FutureWarning: `distplot` is a deprecated function and will be removed in a future version. Please adapt your code to use either `displot` (a figure-level function with similar flexibility) or `histplot` (an axes-level function for histograms).\n",
            "  warnings.warn(msg, FutureWarning)\n"
          ],
          "name": "stderr"
        },
        {
          "output_type": "execute_result",
          "data": {
            "text/plain": [
              "<matplotlib.axes._subplots.AxesSubplot at 0x7f31af7f3290>"
            ]
          },
          "metadata": {
            "tags": []
          },
          "execution_count": 100
        },
        {
          "output_type": "display_data",
          "data": {
            "image/png": "[encoded data removed]",
            "text/plain": [
              "<Figure size 432x288 with 1 Axes>"
            ]
          },
          "metadata": {
            "tags": []
          }
        }
      ]
    },
    {
      "cell_type": "code",
      "metadata": {
        "colab": {
          "base_uri": "https://localhost:8080/",
          "height": 0
        },
        "id": "IclKFciWg79P",
        "outputId": "b67bef45-20cc-48ae-d826-6f69f2144bde"
      },
      "source": [
        "pd.DataFrame(y_hat_test_ead).describe()"
      ],
      "execution_count": 101,
      "outputs": [
        {
          "output_type": "execute_result",
          "data": {
            "text/html": [
              "<div>\n",
              "<style scoped>\n",
              "    .dataframe tbody tr th:only-of-type {\n",
              "        vertical-align: middle;\n",
              "    }\n",
              "\n",
              "    .dataframe tbody tr th {\n",
              "        vertical-align: top;\n",
              "    }\n",
              "\n",
              "    .dataframe thead th {\n",
              "        text-align: right;\n",
              "    }\n",
              "</style>\n",
              "<table border=\"1\" class=\"dataframe\">\n",
              "  <thead>\n",
              "    <tr style=\"text-align: right;\">\n",
              "      <th></th>\n",
              "      <th>0</th>\n",
              "    </tr>\n",
              "  </thead>\n",
              "  <tbody>\n",
              "    <tr>\n",
              "      <th>count</th>\n",
              "      <td>8648.000000</td>\n",
              "    </tr>\n",
              "    <tr>\n",
              "      <th>mean</th>\n",
              "      <td>0.736013</td>\n",
              "    </tr>\n",
              "    <tr>\n",
              "      <th>std</th>\n",
              "      <td>0.105194</td>\n",
              "    </tr>\n",
              "    <tr>\n",
              "      <th>min</th>\n",
              "      <td>0.384774</td>\n",
              "    </tr>\n",
              "    <tr>\n",
              "      <th>25%</th>\n",
              "      <td>0.661553</td>\n",
              "    </tr>\n",
              "    <tr>\n",
              "      <th>50%</th>\n",
              "      <td>0.731750</td>\n",
              "    </tr>\n",
              "    <tr>\n",
              "      <th>75%</th>\n",
              "      <td>0.810625</td>\n",
              "    </tr>\n",
              "    <tr>\n",
              "      <th>max</th>\n",
              "      <td>1.161088</td>\n",
              "    </tr>\n",
              "  </tbody>\n",
              "</table>\n",
              "</div>"
            ],
            "text/plain": [
              "                 0\n",
              "count  8648.000000\n",
              "mean      0.736013\n",
              "std       0.105194\n",
              "min       0.384774\n",
              "25%       0.661553\n",
              "50%       0.731750\n",
              "75%       0.810625\n",
              "max       1.161088"
            ]
          },
          "metadata": {
            "tags": []
          },
          "execution_count": 101
        }
      ]
    },
    {
      "cell_type": "code",
      "metadata": {
        "id": "NbCt7ovyiXur"
      },
      "source": [
        "y_hat_test_ead = np.where(y_hat_test_ead < 0, 0, y_hat_test_ead)\n",
        "y_hat_test_ead = np.where(y_hat_test_ead > 1, 1, y_hat_test_ead)"
      ],
      "execution_count": 102,
      "outputs": []
    },
    {
      "cell_type": "code",
      "metadata": {
        "colab": {
          "base_uri": "https://localhost:8080/",
          "height": 0
        },
        "id": "yyIXtrjPihy4",
        "outputId": "35544d8a-2852-42cb-b977-266c0f21c527"
      },
      "source": [
        "pd.DataFrame(y_hat_test_ead).describe()"
      ],
      "execution_count": 103,
      "outputs": [
        {
          "output_type": "execute_result",
          "data": {
            "text/html": [
              "<div>\n",
              "<style scoped>\n",
              "    .dataframe tbody tr th:only-of-type {\n",
              "        vertical-align: middle;\n",
              "    }\n",
              "\n",
              "    .dataframe tbody tr th {\n",
              "        vertical-align: top;\n",
              "    }\n",
              "\n",
              "    .dataframe thead th {\n",
              "        text-align: right;\n",
              "    }\n",
              "</style>\n",
              "<table border=\"1\" class=\"dataframe\">\n",
              "  <thead>\n",
              "    <tr style=\"text-align: right;\">\n",
              "      <th></th>\n",
              "      <th>0</th>\n",
              "    </tr>\n",
              "  </thead>\n",
              "  <tbody>\n",
              "    <tr>\n",
              "      <th>count</th>\n",
              "      <td>8648.000000</td>\n",
              "    </tr>\n",
              "    <tr>\n",
              "      <th>mean</th>\n",
              "      <td>0.735992</td>\n",
              "    </tr>\n",
              "    <tr>\n",
              "      <th>std</th>\n",
              "      <td>0.105127</td>\n",
              "    </tr>\n",
              "    <tr>\n",
              "      <th>min</th>\n",
              "      <td>0.384774</td>\n",
              "    </tr>\n",
              "    <tr>\n",
              "      <th>25%</th>\n",
              "      <td>0.661553</td>\n",
              "    </tr>\n",
              "    <tr>\n",
              "      <th>50%</th>\n",
              "      <td>0.731750</td>\n",
              "    </tr>\n",
              "    <tr>\n",
              "      <th>75%</th>\n",
              "      <td>0.810625</td>\n",
              "    </tr>\n",
              "    <tr>\n",
              "      <th>max</th>\n",
              "      <td>1.000000</td>\n",
              "    </tr>\n",
              "  </tbody>\n",
              "</table>\n",
              "</div>"
            ],
            "text/plain": [
              "                 0\n",
              "count  8648.000000\n",
              "mean      0.735992\n",
              "std       0.105127\n",
              "min       0.384774\n",
              "25%       0.661553\n",
              "50%       0.731750\n",
              "75%       0.810625\n",
              "max       1.000000"
            ]
          },
          "metadata": {
            "tags": []
          },
          "execution_count": 103
        }
      ]
    },
    {
      "cell_type": "markdown",
      "metadata": {
        "id": "wEtZpa-duGTJ"
      },
      "source": [
        "# Calculating Expected Loss"
      ]
    },
    {
      "cell_type": "code",
      "metadata": {
        "colab": {
          "base_uri": "https://localhost:8080/",
          "height": 702
        },
        "id": "FFKgc-J1uL7J",
        "outputId": "d4052612-4b81-49ce-a3ea-6cc8c7cfd5ee"
      },
      "source": [
        "loan_data_preprocessed.head()"
      ],
      "execution_count": 104,
      "outputs": [
        {
          "output_type": "execute_result",
          "data": {
            "text/html": [
              "<div>\n",
              "<style scoped>\n",
              "    .dataframe tbody tr th:only-of-type {\n",
              "        vertical-align: middle;\n",
              "    }\n",
              "\n",
              "    .dataframe tbody tr th {\n",
              "        vertical-align: top;\n",
              "    }\n",
              "\n",
              "    .dataframe thead th {\n",
              "        text-align: right;\n",
              "    }\n",
              "</style>\n",
              "<table border=\"1\" class=\"dataframe\">\n",
              "  <thead>\n",
              "    <tr style=\"text-align: right;\">\n",
              "      <th></th>\n",
              "      <th>Unnamed: 0</th>\n",
              "      <th>Unnamed: 0.1</th>\n",
              "      <th>id</th>\n",
              "      <th>member_id</th>\n",
              "      <th>loan_amnt</th>\n",
              "      <th>funded_amnt</th>\n",
              "      <th>funded_amnt_inv</th>\n",
              "      <th>term</th>\n",
              "      <th>int_rate</th>\n",
              "      <th>installment</th>\n",
              "      <th>grade</th>\n",
              "      <th>sub_grade</th>\n",
              "      <th>emp_title</th>\n",
              "      <th>emp_length</th>\n",
              "      <th>home_ownership</th>\n",
              "      <th>annual_inc</th>\n",
              "      <th>verification_status</th>\n",
              "      <th>issue_d</th>\n",
              "      <th>loan_status</th>\n",
              "      <th>pymnt_plan</th>\n",
              "      <th>url</th>\n",
              "      <th>desc</th>\n",
              "      <th>purpose</th>\n",
              "      <th>title</th>\n",
              "      <th>zip_code</th>\n",
              "      <th>addr_state</th>\n",
              "      <th>dti</th>\n",
              "      <th>delinq_2yrs</th>\n",
              "      <th>earliest_cr_line</th>\n",
              "      <th>inq_last_6mths</th>\n",
              "      <th>mths_since_last_delinq</th>\n",
              "      <th>mths_since_last_record</th>\n",
              "      <th>open_acc</th>\n",
              "      <th>pub_rec</th>\n",
              "      <th>revol_bal</th>\n",
              "      <th>revol_util</th>\n",
              "      <th>total_acc</th>\n",
              "      <th>initial_list_status</th>\n",
              "      <th>out_prncp</th>\n",
              "      <th>out_prncp_inv</th>\n",
              "      <th>...</th>\n",
              "      <th>addr_state:ID</th>\n",
              "      <th>addr_state:IL</th>\n",
              "      <th>addr_state:IN</th>\n",
              "      <th>addr_state:KS</th>\n",
              "      <th>addr_state:KY</th>\n",
              "      <th>addr_state:LA</th>\n",
              "      <th>addr_state:MA</th>\n",
              "      <th>addr_state:MD</th>\n",
              "      <th>addr_state:ME</th>\n",
              "      <th>addr_state:MI</th>\n",
              "      <th>addr_state:MN</th>\n",
              "      <th>addr_state:MO</th>\n",
              "      <th>addr_state:MS</th>\n",
              "      <th>addr_state:MT</th>\n",
              "      <th>addr_state:NC</th>\n",
              "      <th>addr_state:NE</th>\n",
              "      <th>addr_state:NH</th>\n",
              "      <th>addr_state:NJ</th>\n",
              "      <th>addr_state:NM</th>\n",
              "      <th>addr_state:NV</th>\n",
              "      <th>addr_state:NY</th>\n",
              "      <th>addr_state:OH</th>\n",
              "      <th>addr_state:OK</th>\n",
              "      <th>addr_state:OR</th>\n",
              "      <th>addr_state:PA</th>\n",
              "      <th>addr_state:RI</th>\n",
              "      <th>addr_state:SC</th>\n",
              "      <th>addr_state:SD</th>\n",
              "      <th>addr_state:TN</th>\n",
              "      <th>addr_state:TX</th>\n",
              "      <th>addr_state:UT</th>\n",
              "      <th>addr_state:VA</th>\n",
              "      <th>addr_state:VT</th>\n",
              "      <th>addr_state:WA</th>\n",
              "      <th>addr_state:WI</th>\n",
              "      <th>addr_state:WV</th>\n",
              "      <th>addr_state:WY</th>\n",
              "      <th>initial_list_status:f</th>\n",
              "      <th>initial_list_status:w</th>\n",
              "      <th>good_bad</th>\n",
              "    </tr>\n",
              "  </thead>\n",
              "  <tbody>\n",
              "    <tr>\n",
              "      <th>0</th>\n",
              "      <td>0</td>\n",
              "      <td>0</td>\n",
              "      <td>1077501</td>\n",
              "      <td>1296599</td>\n",
              "      <td>5000</td>\n",
              "      <td>5000</td>\n",
              "      <td>4975.0</td>\n",
              "      <td>36 months</td>\n",
              "      <td>10.65</td>\n",
              "      <td>162.87</td>\n",
              "      <td>B</td>\n",
              "      <td>B2</td>\n",
              "      <td>NaN</td>\n",
              "      <td>10+ years</td>\n",
              "      <td>RENT</td>\n",
              "      <td>24000.0</td>\n",
              "      <td>Verified</td>\n",
              "      <td>Dec-11</td>\n",
              "      <td>Fully Paid</td>\n",
              "      <td>n</td>\n",
              "      <td>https://www.lendingclub.com/browse/loanDetail....</td>\n",
              "      <td>Borrower added on 12/22/11 &gt; I need to upgra...</td>\n",
              "      <td>credit_card</td>\n",
              "      <td>Computer</td>\n",
              "      <td>860xx</td>\n",
              "      <td>AZ</td>\n",
              "      <td>27.65</td>\n",
              "      <td>0.0</td>\n",
              "      <td>Jan-85</td>\n",
              "      <td>1.0</td>\n",
              "      <td>NaN</td>\n",
              "      <td>NaN</td>\n",
              "      <td>3.0</td>\n",
              "      <td>0.0</td>\n",
              "      <td>13648</td>\n",
              "      <td>83.7</td>\n",
              "      <td>9.0</td>\n",
              "      <td>f</td>\n",
              "      <td>0.0</td>\n",
              "      <td>0.0</td>\n",
              "      <td>...</td>\n",
              "      <td>0</td>\n",
              "      <td>0</td>\n",
              "      <td>0</td>\n",
              "      <td>0</td>\n",
              "      <td>0</td>\n",
              "      <td>0</td>\n",
              "      <td>0</td>\n",
              "      <td>0</td>\n",
              "      <td>0</td>\n",
              "      <td>0</td>\n",
              "      <td>0</td>\n",
              "      <td>0</td>\n",
              "      <td>0</td>\n",
              "      <td>0</td>\n",
              "      <td>0</td>\n",
              "      <td>0</td>\n",
              "      <td>0</td>\n",
              "      <td>0</td>\n",
              "      <td>0</td>\n",
              "      <td>0</td>\n",
              "      <td>0</td>\n",
              "      <td>0</td>\n",
              "      <td>0</td>\n",
              "      <td>0</td>\n",
              "      <td>0</td>\n",
              "      <td>0</td>\n",
              "      <td>0</td>\n",
              "      <td>0</td>\n",
              "      <td>0</td>\n",
              "      <td>0</td>\n",
              "      <td>0</td>\n",
              "      <td>0</td>\n",
              "      <td>0</td>\n",
              "      <td>0</td>\n",
              "      <td>0</td>\n",
              "      <td>0</td>\n",
              "      <td>0</td>\n",
              "      <td>1</td>\n",
              "      <td>0</td>\n",
              "      <td>1</td>\n",
              "    </tr>\n",
              "    <tr>\n",
              "      <th>1</th>\n",
              "      <td>1</td>\n",
              "      <td>1</td>\n",
              "      <td>1077430</td>\n",
              "      <td>1314167</td>\n",
              "      <td>2500</td>\n",
              "      <td>2500</td>\n",
              "      <td>2500.0</td>\n",
              "      <td>60 months</td>\n",
              "      <td>15.27</td>\n",
              "      <td>59.83</td>\n",
              "      <td>C</td>\n",
              "      <td>C4</td>\n",
              "      <td>Ryder</td>\n",
              "      <td>&lt; 1 year</td>\n",
              "      <td>RENT</td>\n",
              "      <td>30000.0</td>\n",
              "      <td>Source Verified</td>\n",
              "      <td>Dec-11</td>\n",
              "      <td>Charged Off</td>\n",
              "      <td>n</td>\n",
              "      <td>https://www.lendingclub.com/browse/loanDetail....</td>\n",
              "      <td>Borrower added on 12/22/11 &gt; I plan to use t...</td>\n",
              "      <td>car</td>\n",
              "      <td>bike</td>\n",
              "      <td>309xx</td>\n",
              "      <td>GA</td>\n",
              "      <td>1.00</td>\n",
              "      <td>0.0</td>\n",
              "      <td>Apr-99</td>\n",
              "      <td>5.0</td>\n",
              "      <td>NaN</td>\n",
              "      <td>NaN</td>\n",
              "      <td>3.0</td>\n",
              "      <td>0.0</td>\n",
              "      <td>1687</td>\n",
              "      <td>9.4</td>\n",
              "      <td>4.0</td>\n",
              "      <td>f</td>\n",
              "      <td>0.0</td>\n",
              "      <td>0.0</td>\n",
              "      <td>...</td>\n",
              "      <td>0</td>\n",
              "      <td>0</td>\n",
              "      <td>0</td>\n",
              "      <td>0</td>\n",
              "      <td>0</td>\n",
              "      <td>0</td>\n",
              "      <td>0</td>\n",
              "      <td>0</td>\n",
              "      <td>0</td>\n",
              "      <td>0</td>\n",
              "      <td>0</td>\n",
              "      <td>0</td>\n",
              "      <td>0</td>\n",
              "      <td>0</td>\n",
              "      <td>0</td>\n",
              "      <td>0</td>\n",
              "      <td>0</td>\n",
              "      <td>0</td>\n",
              "      <td>0</td>\n",
              "      <td>0</td>\n",
              "      <td>0</td>\n",
              "      <td>0</td>\n",
              "      <td>0</td>\n",
              "      <td>0</td>\n",
              "      <td>0</td>\n",
              "      <td>0</td>\n",
              "      <td>0</td>\n",
              "      <td>0</td>\n",
              "      <td>0</td>\n",
              "      <td>0</td>\n",
              "      <td>0</td>\n",
              "      <td>0</td>\n",
              "      <td>0</td>\n",
              "      <td>0</td>\n",
              "      <td>0</td>\n",
              "      <td>0</td>\n",
              "      <td>0</td>\n",
              "      <td>1</td>\n",
              "      <td>0</td>\n",
              "      <td>0</td>\n",
              "    </tr>\n",
              "    <tr>\n",
              "      <th>2</th>\n",
              "      <td>2</td>\n",
              "      <td>2</td>\n",
              "      <td>1077175</td>\n",
              "      <td>1313524</td>\n",
              "      <td>2400</td>\n",
              "      <td>2400</td>\n",
              "      <td>2400.0</td>\n",
              "      <td>36 months</td>\n",
              "      <td>15.96</td>\n",
              "      <td>84.33</td>\n",
              "      <td>C</td>\n",
              "      <td>C5</td>\n",
              "      <td>NaN</td>\n",
              "      <td>10+ years</td>\n",
              "      <td>RENT</td>\n",
              "      <td>12252.0</td>\n",
              "      <td>Not Verified</td>\n",
              "      <td>Dec-11</td>\n",
              "      <td>Fully Paid</td>\n",
              "      <td>n</td>\n",
              "      <td>https://www.lendingclub.com/browse/loanDetail....</td>\n",
              "      <td>NaN</td>\n",
              "      <td>small_business</td>\n",
              "      <td>real estate business</td>\n",
              "      <td>606xx</td>\n",
              "      <td>IL</td>\n",
              "      <td>8.72</td>\n",
              "      <td>0.0</td>\n",
              "      <td>Nov-01</td>\n",
              "      <td>2.0</td>\n",
              "      <td>NaN</td>\n",
              "      <td>NaN</td>\n",
              "      <td>2.0</td>\n",
              "      <td>0.0</td>\n",
              "      <td>2956</td>\n",
              "      <td>98.5</td>\n",
              "      <td>10.0</td>\n",
              "      <td>f</td>\n",
              "      <td>0.0</td>\n",
              "      <td>0.0</td>\n",
              "      <td>...</td>\n",
              "      <td>0</td>\n",
              "      <td>1</td>\n",
              "      <td>0</td>\n",
              "      <td>0</td>\n",
              "      <td>0</td>\n",
              "      <td>0</td>\n",
              "      <td>0</td>\n",
              "      <td>0</td>\n",
              "      <td>0</td>\n",
              "      <td>0</td>\n",
              "      <td>0</td>\n",
              "      <td>0</td>\n",
              "      <td>0</td>\n",
              "      <td>0</td>\n",
              "      <td>0</td>\n",
              "      <td>0</td>\n",
              "      <td>0</td>\n",
              "      <td>0</td>\n",
              "      <td>0</td>\n",
              "      <td>0</td>\n",
              "      <td>0</td>\n",
              "      <td>0</td>\n",
              "      <td>0</td>\n",
              "      <td>0</td>\n",
              "      <td>0</td>\n",
              "      <td>0</td>\n",
              "      <td>0</td>\n",
              "      <td>0</td>\n",
              "      <td>0</td>\n",
              "      <td>0</td>\n",
              "      <td>0</td>\n",
              "      <td>0</td>\n",
              "      <td>0</td>\n",
              "      <td>0</td>\n",
              "      <td>0</td>\n",
              "      <td>0</td>\n",
              "      <td>0</td>\n",
              "      <td>1</td>\n",
              "      <td>0</td>\n",
              "      <td>1</td>\n",
              "    </tr>\n",
              "    <tr>\n",
              "      <th>3</th>\n",
              "      <td>3</td>\n",
              "      <td>3</td>\n",
              "      <td>1076863</td>\n",
              "      <td>1277178</td>\n",
              "      <td>10000</td>\n",
              "      <td>10000</td>\n",
              "      <td>10000.0</td>\n",
              "      <td>36 months</td>\n",
              "      <td>13.49</td>\n",
              "      <td>339.31</td>\n",
              "      <td>C</td>\n",
              "      <td>C1</td>\n",
              "      <td>AIR RESOURCES BOARD</td>\n",
              "      <td>10+ years</td>\n",
              "      <td>RENT</td>\n",
              "      <td>49200.0</td>\n",
              "      <td>Source Verified</td>\n",
              "      <td>Dec-11</td>\n",
              "      <td>Fully Paid</td>\n",
              "      <td>n</td>\n",
              "      <td>https://www.lendingclub.com/browse/loanDetail....</td>\n",
              "      <td>Borrower added on 12/21/11 &gt; to pay for prop...</td>\n",
              "      <td>other</td>\n",
              "      <td>personel</td>\n",
              "      <td>917xx</td>\n",
              "      <td>CA</td>\n",
              "      <td>20.00</td>\n",
              "      <td>0.0</td>\n",
              "      <td>Feb-96</td>\n",
              "      <td>1.0</td>\n",
              "      <td>35.0</td>\n",
              "      <td>NaN</td>\n",
              "      <td>10.0</td>\n",
              "      <td>0.0</td>\n",
              "      <td>5598</td>\n",
              "      <td>21.0</td>\n",
              "      <td>37.0</td>\n",
              "      <td>f</td>\n",
              "      <td>0.0</td>\n",
              "      <td>0.0</td>\n",
              "      <td>...</td>\n",
              "      <td>0</td>\n",
              "      <td>0</td>\n",
              "      <td>0</td>\n",
              "      <td>0</td>\n",
              "      <td>0</td>\n",
              "      <td>0</td>\n",
              "      <td>0</td>\n",
              "      <td>0</td>\n",
              "      <td>0</td>\n",
              "      <td>0</td>\n",
              "      <td>0</td>\n",
              "      <td>0</td>\n",
              "      <td>0</td>\n",
              "      <td>0</td>\n",
              "      <td>0</td>\n",
              "      <td>0</td>\n",
              "      <td>0</td>\n",
              "      <td>0</td>\n",
              "      <td>0</td>\n",
              "      <td>0</td>\n",
              "      <td>0</td>\n",
              "      <td>0</td>\n",
              "      <td>0</td>\n",
              "      <td>0</td>\n",
              "      <td>0</td>\n",
              "      <td>0</td>\n",
              "      <td>0</td>\n",
              "      <td>0</td>\n",
              "      <td>0</td>\n",
              "      <td>0</td>\n",
              "      <td>0</td>\n",
              "      <td>0</td>\n",
              "      <td>0</td>\n",
              "      <td>0</td>\n",
              "      <td>0</td>\n",
              "      <td>0</td>\n",
              "      <td>0</td>\n",
              "      <td>1</td>\n",
              "      <td>0</td>\n",
              "      <td>1</td>\n",
              "    </tr>\n",
              "    <tr>\n",
              "      <th>4</th>\n",
              "      <td>4</td>\n",
              "      <td>4</td>\n",
              "      <td>1075358</td>\n",
              "      <td>1311748</td>\n",
              "      <td>3000</td>\n",
              "      <td>3000</td>\n",
              "      <td>3000.0</td>\n",
              "      <td>60 months</td>\n",
              "      <td>12.69</td>\n",
              "      <td>67.79</td>\n",
              "      <td>B</td>\n",
              "      <td>B5</td>\n",
              "      <td>University Medical Group</td>\n",
              "      <td>1 year</td>\n",
              "      <td>RENT</td>\n",
              "      <td>80000.0</td>\n",
              "      <td>Source Verified</td>\n",
              "      <td>Dec-11</td>\n",
              "      <td>Current</td>\n",
              "      <td>n</td>\n",
              "      <td>https://www.lendingclub.com/browse/loanDetail....</td>\n",
              "      <td>Borrower added on 12/21/11 &gt; I plan on combi...</td>\n",
              "      <td>other</td>\n",
              "      <td>Personal</td>\n",
              "      <td>972xx</td>\n",
              "      <td>OR</td>\n",
              "      <td>17.94</td>\n",
              "      <td>0.0</td>\n",
              "      <td>Jan-96</td>\n",
              "      <td>0.0</td>\n",
              "      <td>38.0</td>\n",
              "      <td>NaN</td>\n",
              "      <td>15.0</td>\n",
              "      <td>0.0</td>\n",
              "      <td>27783</td>\n",
              "      <td>53.9</td>\n",
              "      <td>38.0</td>\n",
              "      <td>f</td>\n",
              "      <td>766.9</td>\n",
              "      <td>766.9</td>\n",
              "      <td>...</td>\n",
              "      <td>0</td>\n",
              "      <td>0</td>\n",
              "      <td>0</td>\n",
              "      <td>0</td>\n",
              "      <td>0</td>\n",
              "      <td>0</td>\n",
              "      <td>0</td>\n",
              "      <td>0</td>\n",
              "      <td>0</td>\n",
              "      <td>0</td>\n",
              "      <td>0</td>\n",
              "      <td>0</td>\n",
              "      <td>0</td>\n",
              "      <td>0</td>\n",
              "      <td>0</td>\n",
              "      <td>0</td>\n",
              "      <td>0</td>\n",
              "      <td>0</td>\n",
              "      <td>0</td>\n",
              "      <td>0</td>\n",
              "      <td>0</td>\n",
              "      <td>0</td>\n",
              "      <td>0</td>\n",
              "      <td>1</td>\n",
              "      <td>0</td>\n",
              "      <td>0</td>\n",
              "      <td>0</td>\n",
              "      <td>0</td>\n",
              "      <td>0</td>\n",
              "      <td>0</td>\n",
              "      <td>0</td>\n",
              "      <td>0</td>\n",
              "      <td>0</td>\n",
              "      <td>0</td>\n",
              "      <td>0</td>\n",
              "      <td>0</td>\n",
              "      <td>0</td>\n",
              "      <td>1</td>\n",
              "      <td>0</td>\n",
              "      <td>1</td>\n",
              "    </tr>\n",
              "  </tbody>\n",
              "</table>\n",
              "<p>5 rows × 209 columns</p>\n",
              "</div>"
            ],
            "text/plain": [
              "   Unnamed: 0  Unnamed: 0.1  ...  initial_list_status:w  good_bad\n",
              "0           0             0  ...                      0         1\n",
              "1           1             1  ...                      0         0\n",
              "2           2             2  ...                      0         1\n",
              "3           3             3  ...                      0         1\n",
              "4           4             4  ...                      0         1\n",
              "\n",
              "[5 rows x 209 columns]"
            ]
          },
          "metadata": {
            "tags": []
          },
          "execution_count": 104
        }
      ]
    },
    {
      "cell_type": "code",
      "metadata": {
        "id": "EnUNEtn1v7i3"
      },
      "source": [
        "loan_data_preprocessed['mths_since_last_delinq'].fillna(0,inplace=True)"
      ],
      "execution_count": 105,
      "outputs": []
    },
    {
      "cell_type": "code",
      "metadata": {
        "id": "WIBNx5cXwM6f"
      },
      "source": [
        "loan_data_preprocessed['mths_since_last_record'].fillna(0,inplace=True)"
      ],
      "execution_count": 106,
      "outputs": []
    },
    {
      "cell_type": "code",
      "metadata": {
        "id": "YGl52eKYwdI9"
      },
      "source": [
        "loan_data_preprocessed_lgd_ead=loan_data_preprocessed[features_all].drop(features_reference_cat, axis = 1)"
      ],
      "execution_count": 107,
      "outputs": []
    },
    {
      "cell_type": "code",
      "metadata": {
        "id": "i3sTl6C90DS9"
      },
      "source": [
        "loan_data_preprocessed['recovery_rate_st_1']=reg_lgd_st_1.model.predict(loan_data_preprocessed_lgd_ead)"
      ],
      "execution_count": 109,
      "outputs": []
    },
    {
      "cell_type": "code",
      "metadata": {
        "id": "1P_DD-cq3mJD"
      },
      "source": [
        "loan_data_preprocessed['recovery_rate_st_2']=reg_lgd_st_2.predict(loan_data_preprocessed_lgd_ead)"
      ],
      "execution_count": 110,
      "outputs": []
    },
    {
      "cell_type": "code",
      "metadata": {
        "id": "JDMN4baUAh7I"
      },
      "source": [
        "loan_data_preprocessed['recovery_rate']=loan_data_preprocessed['recovery_rate_st_1']*loan_data_preprocessed['recovery_rate_st_2']"
      ],
      "execution_count": 111,
      "outputs": []
    },
    {
      "cell_type": "code",
      "metadata": {
        "id": "cnQjZ8yTBELL"
      },
      "source": [
        "loan_data_preprocessed['recovery_rate'] = np.where(loan_data_preprocessed['recovery_rate'] < 0, 0, loan_data_preprocessed['recovery_rate'])\n",
        "loan_data_preprocessed['recovery_rate'] = np.where(loan_data_preprocessed['recovery_rate'] > 1, 1, loan_data_preprocessed['recovery_rate'])"
      ],
      "execution_count": 112,
      "outputs": []
    },
    {
      "cell_type": "code",
      "metadata": {
        "id": "Ae5NcSVzFMao"
      },
      "source": [
        "loan_data_preprocessed['LGD']=1-loan_data_preprocessed['recovery_rate']"
      ],
      "execution_count": 113,
      "outputs": []
    },
    {
      "cell_type": "code",
      "metadata": {
        "colab": {
          "base_uri": "https://localhost:8080/"
        },
        "id": "4ss22Ru_Ievh",
        "outputId": "b0927faa-a5c5-430c-eeaf-ba8471ec1497"
      },
      "source": [
        "loan_data_preprocessed['LGD'].describe()"
      ],
      "execution_count": 114,
      "outputs": [
        {
          "output_type": "execute_result",
          "data": {
            "text/plain": [
              "count    466285.000000\n",
              "mean          0.932113\n",
              "std           0.058262\n",
              "min           0.357914\n",
              "25%           0.880517\n",
              "50%           0.913735\n",
              "75%           1.000000\n",
              "max           1.000000\n",
              "Name: LGD, dtype: float64"
            ]
          },
          "metadata": {
            "tags": []
          },
          "execution_count": 114
        }
      ]
    },
    {
      "cell_type": "code",
      "metadata": {
        "id": "4eQOZClvKVFF"
      },
      "source": [
        "loan_data_preprocessed['CCF']=reg_ead.predict(loan_data_preprocessed_lgd_ead)"
      ],
      "execution_count": 115,
      "outputs": []
    },
    {
      "cell_type": "code",
      "metadata": {
        "id": "Q0R0J1CoKvDP"
      },
      "source": [
        "loan_data_preprocessed['CCF'] = np.where(loan_data_preprocessed['CCF'] < 0, 0, loan_data_preprocessed['CCF'])\n",
        "loan_data_preprocessed['CCF'] = np.where(loan_data_preprocessed['CCF'] > 1, 1, loan_data_preprocessed['CCF'])"
      ],
      "execution_count": 116,
      "outputs": []
    },
    {
      "cell_type": "code",
      "metadata": {
        "colab": {
          "base_uri": "https://localhost:8080/"
        },
        "id": "fvCaPcSxLakt",
        "outputId": "c078a831-1452-4b79-e03c-cd09b15d1728"
      },
      "source": [
        "loan_data_preprocessed['CCF'].describe()"
      ],
      "execution_count": 117,
      "outputs": [
        {
          "output_type": "execute_result",
          "data": {
            "text/plain": [
              "count    466285.000000\n",
              "mean          0.737579\n",
              "std           0.101753\n",
              "min           0.292306\n",
              "25%           0.671005\n",
              "50%           0.730695\n",
              "75%           0.803446\n",
              "max           1.000000\n",
              "Name: CCF, dtype: float64"
            ]
          },
          "metadata": {
            "tags": []
          },
          "execution_count": 117
        }
      ]
    },
    {
      "cell_type": "code",
      "metadata": {
        "id": "gAcgV82jMECn"
      },
      "source": [
        "loan_data_preprocessed['EAD']=loan_data_preprocessed['CCF']*loan_data_preprocessed_lgd_ead['funded_amnt']"
      ],
      "execution_count": 118,
      "outputs": []
    },
    {
      "cell_type": "code",
      "metadata": {
        "colab": {
          "base_uri": "https://localhost:8080/"
        },
        "id": "kgBxjqHjMccj",
        "outputId": "f2251b57-f6fe-4520-8125-709ad3c390e7"
      },
      "source": [
        "loan_data_preprocessed['EAD'].describe()"
      ],
      "execution_count": 119,
      "outputs": [
        {
          "output_type": "execute_result",
          "data": {
            "text/plain": [
              "count    466285.000000\n",
              "mean      10814.846760\n",
              "std        6935.184562\n",
              "min         190.347372\n",
              "25%        5495.101413\n",
              "50%        9208.479591\n",
              "75%       14692.844549\n",
              "max       35000.000000\n",
              "Name: EAD, dtype: float64"
            ]
          },
          "metadata": {
            "tags": []
          },
          "execution_count": 119
        }
      ]
    },
    {
      "cell_type": "markdown",
      "metadata": {
        "id": "fPv41obzQQkq"
      },
      "source": [
        "### Calculating PD"
      ]
    },
    {
      "cell_type": "code",
      "metadata": {
        "id": "aTi31AiHQU7g"
      },
      "source": [
        "loan_data_inputs_train=pd.read_csv('/content/drive/MyDrive/loan_data_prep_inputs_train_final.csv',index_col=0)\n",
        "loan_data_inputs_test=pd.read_csv('/content/drive/MyDrive/loan_data_prep_inputs_test_final.csv',index_col=0)"
      ],
      "execution_count": 120,
      "outputs": []
    },
    {
      "cell_type": "code",
      "metadata": {
        "id": "SNhSGYrUTJzo"
      },
      "source": [
        "loan_data_inputs_pd=pd.concat([loan_data_inputs_train,loan_data_inputs_test],axis=0)"
      ],
      "execution_count": 121,
      "outputs": []
    },
    {
      "cell_type": "code",
      "metadata": {
        "id": "HxwpFWsLe4MY"
      },
      "source": [
        "features_all_PD=['grade:A',\n",
        "'grade:B',\n",
        "'grade:C',\n",
        "'grade:D',\n",
        "'grade:E',\n",
        "'grade:F',\n",
        "'grade:G',\n",
        "'home_ownership:RENT_OTHER_NONE_ANY',\n",
        "'home_ownership:OWN',\n",
        "'home_ownership:MORTGAGE',\n",
        "'addr_state:ND_NE_IA_NV_FL_HI_AL',\n",
        "'addr_state:NM_VA',\n",
        "'addr_state:NY',\n",
        "'addr_state:OK_TN_MO_LA_MD_NC',\n",
        "'addr_state:CA',\n",
        "'addr_state:UT_KY_AZ_NJ',\n",
        "'addr_state:AR_MI_PA_OH_MN',\n",
        "'addr_state:RI_MA_DE_SD_IN',\n",
        "'addr_state:GA_WA_OR',\n",
        "'addr_state:WI_MT',\n",
        "'addr_state:TX',\n",
        "'addr_state:IL_CT',\n",
        "'addr_state:KS_SC_CO_VT_AK_MS',\n",
        "'addr_state:WV_NH_WY_DC_ME_ID',\n",
        "'verification_status:Not Verified',\n",
        "'verification_status:Source Verified',\n",
        "'verification_status:Verified',\n",
        "'purpose:educ__sm_b__wedd__ren_en__mov__house',\n",
        "'purpose:credit_card',\n",
        "'purpose:debt_consolidation',\n",
        "'purpose:oth__med__vacation',\n",
        "'purpose:major_purch__car__home_impr',\n",
        "'initial_list_status:f',\n",
        "'initial_list_status:w',\n",
        "'term:36',\n",
        "'term:60',\n",
        "'emp_length:0',\n",
        "'emp_length:1',\n",
        "'emp_length:2-4',\n",
        "'emp_length:5-6',\n",
        "'emp_length:7-9',\n",
        "'emp_length:10',\n",
        "'mths_since_issue_d:<38',\n",
        "'mths_since_issue_d:38-39',\n",
        "'mths_since_issue_d:40-41',\n",
        "'mths_since_issue_d:42-48',\n",
        "'mths_since_issue_d:49-52',\n",
        "'mths_since_issue_d:53-64',\n",
        "'mths_since_issue_d:65-84',\n",
        "'mths_since_issue_d:>84',\n",
        "'int_rate:<9.548',\n",
        "'int_rate:9.548-12.025',\n",
        "'int_rate:12.025-15.74',\n",
        "'int_rate:15.74-20.281',\n",
        "'int_rate:>20.281',\n",
        "'mnths_since_earliest_cr_line:<140',\n",
        "'mnths_since_earliest_cr_line:141-164',\n",
        "'mnths_since_earliest_cr_line:165-247',\n",
        "'mnths_since_earliest_cr_line:248-270',\n",
        "'mnths_since_earliest_cr_line:271-352',\n",
        "'mnths_since_earliest_cr_line:>352',\n",
        "'inq_last_6mths:0',\n",
        "'inq_last_6mths:1-2',\n",
        "'inq_last_6mths:3-6',\n",
        "'inq_last_6mths:>6',\n",
        "'total_acc:<=27',\n",
        "'total_acc:28-51',\n",
        "'total_acc:>=52',\n",
        "'annual_inc:<20K',\n",
        "'annual_inc:20K-30K',\n",
        "'annual_inc:30K-40K',\n",
        "'annual_inc:40K-50K',\n",
        "'annual_inc:50K-60K',\n",
        "'annual_inc:60K-70K',\n",
        "'annual_inc:70K-80K',\n",
        "'annual_inc:80K-90K',\n",
        "'annual_inc:90K-100K',\n",
        "'annual_inc:100K-120K',\n",
        "'annual_inc:120K-140K',\n",
        "'annual_inc:>140K',\n",
        "'dti:<=1.4',\n",
        "'dti:1.4-3.5',\n",
        "'dti:3.5-7.7',\n",
        "'dti:7.7-10.5',\n",
        "'dti:10.5-16.1',\n",
        "'dti:16.1-20.3',\n",
        "'dti:20.3-21.7',\n",
        "'dti:21.7-22.4',\n",
        "'dti:22.4-35',\n",
        "'dti:>35',\n",
        "'mths_since_last_delinq:Missing',\n",
        "'mths_since_last_delinq:0-3',\n",
        "'mths_since_last_delinq:4-30',\n",
        "'mths_since_last_delinq:31-56',\n",
        "'mths_since_last_delinq:>=57',\n",
        "'mths_since_last_record:Missing',\n",
        "'mths_since_last_record:0-2',\n",
        "'mths_since_last_record:3-20',\n",
        "'mths_since_last_record:21-31',\n",
        "'mths_since_last_record:32-80',\n",
        "'mths_since_last_record:81-86',\n",
        "'mths_since_last_record:>86']"
      ],
      "execution_count": 122,
      "outputs": []
    },
    {
      "cell_type": "code",
      "metadata": {
        "id": "zdPUtuowgfj0"
      },
      "source": [
        "ref_categories_PD=['grade:G',\n",
        "'home_ownership:RENT_OTHER_NONE_ANY',\n",
        "'addr_state:ND_NE_IA_NV_FL_HI_AL',\n",
        "'verification_status:Verified',\n",
        "'purpose:educ__sm_b__wedd__ren_en__mov__house',\n",
        "'initial_list_status:f',\n",
        "'term:60',\n",
        "'emp_length:0',\n",
        "'mths_since_issue_d:>84',\n",
        "'int_rate:>20.281',\n",
        "'mnths_since_earliest_cr_line:<140',\n",
        "'inq_last_6mths:>6',\n",
        "'total_acc:<=27',\n",
        "'annual_inc:<20K',\n",
        "'dti:>35',\n",
        "'mths_since_last_delinq:0-3',\n",
        "'mths_since_last_record:0-2']"
      ],
      "execution_count": 123,
      "outputs": []
    },
    {
      "cell_type": "code",
      "metadata": {
        "id": "ZO5SJDv8gy5Q"
      },
      "source": [
        "loan_data_inputs_pd_temp=loan_data_inputs_pd[features_all_PD].drop(ref_categories_PD,axis=1)"
      ],
      "execution_count": 124,
      "outputs": []
    },
    {
      "cell_type": "code",
      "metadata": {
        "id": "kYA9Os-ph8QD"
      },
      "source": [
        "reg_pd=pickle.load(open('/content/drive/MyDrive/pd_model.sav','rb'))"
      ],
      "execution_count": 126,
      "outputs": []
    },
    {
      "cell_type": "code",
      "metadata": {
        "colab": {
          "base_uri": "https://localhost:8080/"
        },
        "id": "uNI0iuY6mD2L",
        "outputId": "973fface-d28c-4de7-b1c2-0b32c3ef4ded"
      },
      "source": [
        "reg_pd.model.predict_proba(loan_data_inputs_pd_temp)"
      ],
      "execution_count": 127,
      "outputs": [
        {
          "output_type": "execute_result",
          "data": {
            "text/plain": [
              "array([[0.02556189, 0.97443811],\n",
              "       [0.08677262, 0.91322738],\n",
              "       [0.03505047, 0.96494953],\n",
              "       ...,\n",
              "       [0.02389359, 0.97610641],\n",
              "       [0.03572179, 0.96427821],\n",
              "       [0.04679402, 0.95320598]])"
            ]
          },
          "metadata": {
            "tags": []
          },
          "execution_count": 127
        }
      ]
    },
    {
      "cell_type": "code",
      "metadata": {
        "colab": {
          "base_uri": "https://localhost:8080/"
        },
        "id": "uxbCdWs5nwli",
        "outputId": "3253a682-dff6-46e4-e008-32a41ee2bedb"
      },
      "source": [
        "reg_pd.model.predict_proba(loan_data_inputs_pd_temp)[:][:,0]"
      ],
      "execution_count": 128,
      "outputs": [
        {
          "output_type": "execute_result",
          "data": {
            "text/plain": [
              "array([0.02556189, 0.08677262, 0.03505047, ..., 0.02389359, 0.03572179,\n",
              "       0.04679402])"
            ]
          },
          "metadata": {
            "tags": []
          },
          "execution_count": 128
        }
      ]
    },
    {
      "cell_type": "code",
      "metadata": {
        "id": "YVXhDqJ2oTYS"
      },
      "source": [
        "loan_data_inputs_pd['PD']=reg_pd.model.predict_proba(loan_data_inputs_pd_temp)[:][:,0]"
      ],
      "execution_count": 129,
      "outputs": []
    },
    {
      "cell_type": "code",
      "metadata": {
        "colab": {
          "base_uri": "https://localhost:8080/"
        },
        "id": "z7akitVpokhP",
        "outputId": "fd00cc2a-f934-4c10-ff77-bd24cb2f4921"
      },
      "source": [
        "loan_data_inputs_pd['PD'].head()"
      ],
      "execution_count": 131,
      "outputs": [
        {
          "output_type": "execute_result",
          "data": {
            "text/plain": [
              "427211    0.025562\n",
              "206088    0.086773\n",
              "136020    0.035050\n",
              "412305    0.172641\n",
              "36159     0.211006\n",
              "Name: PD, dtype: float64"
            ]
          },
          "metadata": {
            "tags": []
          },
          "execution_count": 131
        }
      ]
    },
    {
      "cell_type": "code",
      "metadata": {
        "colab": {
          "base_uri": "https://localhost:8080/"
        },
        "id": "9eUcbVTmo8t-",
        "outputId": "c2295eaa-6354-4747-a22e-39b0296cf41e"
      },
      "source": [
        "loan_data_inputs_pd['PD'].describe()"
      ],
      "execution_count": 132,
      "outputs": [
        {
          "output_type": "execute_result",
          "data": {
            "text/plain": [
              "count    466285.000000\n",
              "mean          0.097200\n",
              "std           0.069538\n",
              "min           0.004559\n",
              "25%           0.045722\n",
              "50%           0.079642\n",
              "75%           0.131235\n",
              "max           0.647834\n",
              "Name: PD, dtype: float64"
            ]
          },
          "metadata": {
            "tags": []
          },
          "execution_count": 132
        }
      ]
    },
    {
      "cell_type": "code",
      "metadata": {
        "id": "MVgGtc1rpzva"
      },
      "source": [
        "loan_data_preprocessed_new=pd.concat([loan_data_preprocessed,loan_data_inputs_pd],axis=1)"
      ],
      "execution_count": 134,
      "outputs": []
    },
    {
      "cell_type": "code",
      "metadata": {
        "id": "Leh6Ff-MqK2-"
      },
      "source": [
        "loan_data_preprocessed_new['EL']=loan_data_preprocessed_new['PD']*loan_data_preprocessed_new['LGD']*loan_data_preprocessed_new['EAD']"
      ],
      "execution_count": 135,
      "outputs": []
    },
    {
      "cell_type": "code",
      "metadata": {
        "colab": {
          "base_uri": "https://localhost:8080/"
        },
        "id": "GjK3inSWrXp2",
        "outputId": "6e5a8107-d4f5-4f67-d4f6-b5ac7f5662c1"
      },
      "source": [
        "loan_data_preprocessed_new['EL'].describe()"
      ],
      "execution_count": 136,
      "outputs": [
        {
          "output_type": "execute_result",
          "data": {
            "text/plain": [
              "count    466285.000000\n",
              "mean        958.399031\n",
              "std        1025.223376\n",
              "min           6.814710\n",
              "25%         300.247273\n",
              "50%         611.441266\n",
              "75%        1223.449903\n",
              "max       12392.746810\n",
              "Name: EL, dtype: float64"
            ]
          },
          "metadata": {
            "tags": []
          },
          "execution_count": 136
        }
      ]
    },
    {
      "cell_type": "code",
      "metadata": {
        "colab": {
          "base_uri": "https://localhost:8080/",
          "height": 202
        },
        "id": "ykmgz8BRsCfp",
        "outputId": "2b84bd95-24a4-46f2-b43c-c6ef2b5031e8"
      },
      "source": [
        "loan_data_preprocessed_new[['funded_amnt','PD','LGD','EAD','EL']].head()"
      ],
      "execution_count": 137,
      "outputs": [
        {
          "output_type": "execute_result",
          "data": {
            "text/html": [
              "<div>\n",
              "<style scoped>\n",
              "    .dataframe tbody tr th:only-of-type {\n",
              "        vertical-align: middle;\n",
              "    }\n",
              "\n",
              "    .dataframe tbody tr th {\n",
              "        vertical-align: top;\n",
              "    }\n",
              "\n",
              "    .dataframe thead th {\n",
              "        text-align: right;\n",
              "    }\n",
              "</style>\n",
              "<table border=\"1\" class=\"dataframe\">\n",
              "  <thead>\n",
              "    <tr style=\"text-align: right;\">\n",
              "      <th></th>\n",
              "      <th>funded_amnt</th>\n",
              "      <th>funded_amnt</th>\n",
              "      <th>PD</th>\n",
              "      <th>LGD</th>\n",
              "      <th>EAD</th>\n",
              "      <th>EL</th>\n",
              "    </tr>\n",
              "  </thead>\n",
              "  <tbody>\n",
              "    <tr>\n",
              "      <th>0</th>\n",
              "      <td>5000</td>\n",
              "      <td>5000</td>\n",
              "      <td>0.160389</td>\n",
              "      <td>0.913729</td>\n",
              "      <td>2949.608449</td>\n",
              "      <td>432.270684</td>\n",
              "    </tr>\n",
              "    <tr>\n",
              "      <th>1</th>\n",
              "      <td>2500</td>\n",
              "      <td>2500</td>\n",
              "      <td>0.284172</td>\n",
              "      <td>0.915482</td>\n",
              "      <td>1944.433378</td>\n",
              "      <td>505.852411</td>\n",
              "    </tr>\n",
              "    <tr>\n",
              "      <th>2</th>\n",
              "      <td>2400</td>\n",
              "      <td>2400</td>\n",
              "      <td>0.239135</td>\n",
              "      <td>0.919484</td>\n",
              "      <td>1579.934302</td>\n",
              "      <td>347.397745</td>\n",
              "    </tr>\n",
              "    <tr>\n",
              "      <th>3</th>\n",
              "      <td>10000</td>\n",
              "      <td>10000</td>\n",
              "      <td>0.211391</td>\n",
              "      <td>0.904924</td>\n",
              "      <td>6606.559612</td>\n",
              "      <td>1263.789013</td>\n",
              "    </tr>\n",
              "    <tr>\n",
              "      <th>4</th>\n",
              "      <td>3000</td>\n",
              "      <td>3000</td>\n",
              "      <td>0.127381</td>\n",
              "      <td>0.911453</td>\n",
              "      <td>2124.631667</td>\n",
              "      <td>246.674353</td>\n",
              "    </tr>\n",
              "  </tbody>\n",
              "</table>\n",
              "</div>"
            ],
            "text/plain": [
              "   funded_amnt  funded_amnt        PD       LGD          EAD           EL\n",
              "0         5000         5000  0.160389  0.913729  2949.608449   432.270684\n",
              "1         2500         2500  0.284172  0.915482  1944.433378   505.852411\n",
              "2         2400         2400  0.239135  0.919484  1579.934302   347.397745\n",
              "3        10000        10000  0.211391  0.904924  6606.559612  1263.789013\n",
              "4         3000         3000  0.127381  0.911453  2124.631667   246.674353"
            ]
          },
          "metadata": {
            "tags": []
          },
          "execution_count": 137
        }
      ]
    },
    {
      "cell_type": "code",
      "metadata": {
        "colab": {
          "base_uri": "https://localhost:8080/",
          "height": 294
        },
        "id": "HJj09XJ1tdfk",
        "outputId": "6310411a-d978-4e42-ef09-3e20fad59f26"
      },
      "source": [
        "loan_data_preprocessed_new['funded_amnt'].describe()"
      ],
      "execution_count": 138,
      "outputs": [
        {
          "output_type": "execute_result",
          "data": {
            "text/html": [
              "<div>\n",
              "<style scoped>\n",
              "    .dataframe tbody tr th:only-of-type {\n",
              "        vertical-align: middle;\n",
              "    }\n",
              "\n",
              "    .dataframe tbody tr th {\n",
              "        vertical-align: top;\n",
              "    }\n",
              "\n",
              "    .dataframe thead th {\n",
              "        text-align: right;\n",
              "    }\n",
              "</style>\n",
              "<table border=\"1\" class=\"dataframe\">\n",
              "  <thead>\n",
              "    <tr style=\"text-align: right;\">\n",
              "      <th></th>\n",
              "      <th>funded_amnt</th>\n",
              "      <th>funded_amnt</th>\n",
              "    </tr>\n",
              "  </thead>\n",
              "  <tbody>\n",
              "    <tr>\n",
              "      <th>count</th>\n",
              "      <td>466285.000000</td>\n",
              "      <td>466285.000000</td>\n",
              "    </tr>\n",
              "    <tr>\n",
              "      <th>mean</th>\n",
              "      <td>14291.801044</td>\n",
              "      <td>14291.801044</td>\n",
              "    </tr>\n",
              "    <tr>\n",
              "      <th>std</th>\n",
              "      <td>8274.371300</td>\n",
              "      <td>8274.371300</td>\n",
              "    </tr>\n",
              "    <tr>\n",
              "      <th>min</th>\n",
              "      <td>500.000000</td>\n",
              "      <td>500.000000</td>\n",
              "    </tr>\n",
              "    <tr>\n",
              "      <th>25%</th>\n",
              "      <td>8000.000000</td>\n",
              "      <td>8000.000000</td>\n",
              "    </tr>\n",
              "    <tr>\n",
              "      <th>50%</th>\n",
              "      <td>12000.000000</td>\n",
              "      <td>12000.000000</td>\n",
              "    </tr>\n",
              "    <tr>\n",
              "      <th>75%</th>\n",
              "      <td>20000.000000</td>\n",
              "      <td>20000.000000</td>\n",
              "    </tr>\n",
              "    <tr>\n",
              "      <th>max</th>\n",
              "      <td>35000.000000</td>\n",
              "      <td>35000.000000</td>\n",
              "    </tr>\n",
              "  </tbody>\n",
              "</table>\n",
              "</div>"
            ],
            "text/plain": [
              "         funded_amnt    funded_amnt\n",
              "count  466285.000000  466285.000000\n",
              "mean    14291.801044   14291.801044\n",
              "std      8274.371300    8274.371300\n",
              "min       500.000000     500.000000\n",
              "25%      8000.000000    8000.000000\n",
              "50%     12000.000000   12000.000000\n",
              "75%     20000.000000   20000.000000\n",
              "max     35000.000000   35000.000000"
            ]
          },
          "metadata": {
            "tags": []
          },
          "execution_count": 138
        }
      ]
    },
    {
      "cell_type": "code",
      "metadata": {
        "colab": {
          "base_uri": "https://localhost:8080/"
        },
        "id": "aYQl8_pPt1Yt",
        "outputId": "c5e7d529-579a-4b4c-830f-b0649a0ace43"
      },
      "source": [
        "loan_data_preprocessed_new['EL'].sum()"
      ],
      "execution_count": 139,
      "outputs": [
        {
          "output_type": "execute_result",
          "data": {
            "text/plain": [
              "446887092.2038356"
            ]
          },
          "metadata": {
            "tags": []
          },
          "execution_count": 139
        }
      ]
    },
    {
      "cell_type": "code",
      "metadata": {
        "colab": {
          "base_uri": "https://localhost:8080/"
        },
        "id": "YQGo9IW_ufnb",
        "outputId": "9e760992-838c-42cf-b469-72aafacc2491"
      },
      "source": [
        "loan_data_preprocessed_new['EL'].sum()/loan_data_preprocessed_new['funded_amnt'].sum()"
      ],
      "execution_count": 140,
      "outputs": [
        {
          "output_type": "execute_result",
          "data": {
            "text/plain": [
              "funded_amnt    0.067059\n",
              "funded_amnt    0.067059\n",
              "dtype: float64"
            ]
          },
          "metadata": {
            "tags": []
          },
          "execution_count": 140
        }
      ]
    }
  ]
}